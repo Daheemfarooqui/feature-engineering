{
 "cells": [
  {
   "cell_type": "code",
   "execution_count": 298,
   "id": "dc95c7f8-1d2c-40ae-882d-6591a89f40ec",
   "metadata": {},
   "outputs": [
    {
     "data": {
      "text/html": [
       "<div>\n",
       "<style scoped>\n",
       "    .dataframe tbody tr th:only-of-type {\n",
       "        vertical-align: middle;\n",
       "    }\n",
       "\n",
       "    .dataframe tbody tr th {\n",
       "        vertical-align: top;\n",
       "    }\n",
       "\n",
       "    .dataframe thead th {\n",
       "        text-align: right;\n",
       "    }\n",
       "</style>\n",
       "<table border=\"1\" class=\"dataframe\">\n",
       "  <thead>\n",
       "    <tr style=\"text-align: right;\">\n",
       "      <th></th>\n",
       "      <th>Unnamed: 0.1</th>\n",
       "      <th>Unnamed: 0</th>\n",
       "      <th>Height</th>\n",
       "      <th>Weight</th>\n",
       "      <th>Age</th>\n",
       "      <th>Income</th>\n",
       "      <th>Score</th>\n",
       "      <th>Hours_Worked</th>\n",
       "      <th>Experience</th>\n",
       "      <th>Savings</th>\n",
       "      <th>Debt</th>\n",
       "      <th>Expenditure</th>\n",
       "    </tr>\n",
       "  </thead>\n",
       "  <tbody>\n",
       "    <tr>\n",
       "      <th>0</th>\n",
       "      <td>0</td>\n",
       "      <td>0</td>\n",
       "      <td>250.000000</td>\n",
       "      <td>31.705153</td>\n",
       "      <td>24.757235</td>\n",
       "      <td>43275.395522</td>\n",
       "      <td>68.348502</td>\n",
       "      <td>49.415753</td>\n",
       "      <td>5.752851</td>\n",
       "      <td>12543.712036</td>\n",
       "      <td>4501.967549</td>\n",
       "      <td>2823.003044</td>\n",
       "    </tr>\n",
       "    <tr>\n",
       "      <th>1</th>\n",
       "      <td>1</td>\n",
       "      <td>1</td>\n",
       "      <td>174.001572</td>\n",
       "      <td>200.000000</td>\n",
       "      <td>22.899910</td>\n",
       "      <td>46404.468385</td>\n",
       "      <td>89.008265</td>\n",
       "      <td>33.261205</td>\n",
       "      <td>2.801198</td>\n",
       "      <td>22196.958506</td>\n",
       "      <td>6929.532054</td>\n",
       "      <td>2312.524353</td>\n",
       "    </tr>\n",
       "    <tr>\n",
       "      <th>2</th>\n",
       "      <td>2</td>\n",
       "      <td>2</td>\n",
       "      <td>179.787380</td>\n",
       "      <td>82.966543</td>\n",
       "      <td>100.000000</td>\n",
       "      <td>41868.537180</td>\n",
       "      <td>84.656624</td>\n",
       "      <td>33.647575</td>\n",
       "      <td>5.596476</td>\n",
       "      <td>20833.367477</td>\n",
       "      <td>5949.420807</td>\n",
       "      <td>2678.190799</td>\n",
       "    </tr>\n",
       "    <tr>\n",
       "      <th>3</th>\n",
       "      <td>3</td>\n",
       "      <td>3</td>\n",
       "      <td>192.408932</td>\n",
       "      <td>58.867525</td>\n",
       "      <td>39.753877</td>\n",
       "      <td>1000000.000000</td>\n",
       "      <td>64.637563</td>\n",
       "      <td>44.846984</td>\n",
       "      <td>7.652772</td>\n",
       "      <td>23175.157184</td>\n",
       "      <td>5087.551241</td>\n",
       "      <td>1888.298424</td>\n",
       "    </tr>\n",
       "    <tr>\n",
       "      <th>4</th>\n",
       "      <td>4</td>\n",
       "      <td>4</td>\n",
       "      <td>188.675580</td>\n",
       "      <td>104.046319</td>\n",
       "      <td>27.451739</td>\n",
       "      <td>51774.261423</td>\n",
       "      <td>200.000000</td>\n",
       "      <td>34.134383</td>\n",
       "      <td>3.610864</td>\n",
       "      <td>31915.723874</td>\n",
       "      <td>3774.564481</td>\n",
       "      <td>3312.615726</td>\n",
       "    </tr>\n",
       "  </tbody>\n",
       "</table>\n",
       "</div>"
      ],
      "text/plain": [
       "   Unnamed: 0.1  Unnamed: 0      Height      Weight         Age  \\\n",
       "0             0           0  250.000000   31.705153   24.757235   \n",
       "1             1           1  174.001572  200.000000   22.899910   \n",
       "2             2           2  179.787380   82.966543  100.000000   \n",
       "3             3           3  192.408932   58.867525   39.753877   \n",
       "4             4           4  188.675580  104.046319   27.451739   \n",
       "\n",
       "           Income       Score  Hours_Worked  Experience       Savings  \\\n",
       "0    43275.395522   68.348502     49.415753    5.752851  12543.712036   \n",
       "1    46404.468385   89.008265     33.261205    2.801198  22196.958506   \n",
       "2    41868.537180   84.656624     33.647575    5.596476  20833.367477   \n",
       "3  1000000.000000   64.637563     44.846984    7.652772  23175.157184   \n",
       "4    51774.261423  200.000000     34.134383    3.610864  31915.723874   \n",
       "\n",
       "          Debt  Expenditure  \n",
       "0  4501.967549  2823.003044  \n",
       "1  6929.532054  2312.524353  \n",
       "2  5949.420807  2678.190799  \n",
       "3  5087.551241  1888.298424  \n",
       "4  3774.564481  3312.615726  "
      ]
     },
     "execution_count": 298,
     "metadata": {},
     "output_type": "execute_result"
    }
   ],
   "source": [
    "import pandas as pd\n",
    "\n",
    "df = pd.read_csv(\"Outliers.csv\")\n",
    "df.head()"
   ]
  },
  {
   "cell_type": "markdown",
   "id": "1066acd8-db60-49c0-a442-b3eb43f84e5a",
   "metadata": {},
   "source": [
    "## Basic Data Cleaning\n"
   ]
  },
  {
   "cell_type": "code",
   "execution_count": 299,
   "id": "17f72ff9-c0cd-4391-b28d-f3d3edffc7af",
   "metadata": {},
   "outputs": [],
   "source": [
    "df.drop(columns=\"Unnamed: 0\", inplace= True)\n",
    "df.drop(columns=\"Unnamed: 0.1\", inplace= True)"
   ]
  },
  {
   "cell_type": "code",
   "execution_count": 300,
   "id": "780d869a-d6e8-41c1-9fc7-0746308cf60d",
   "metadata": {},
   "outputs": [
    {
     "data": {
      "text/plain": [
       "(20, 10)"
      ]
     },
     "execution_count": 300,
     "metadata": {},
     "output_type": "execute_result"
    }
   ],
   "source": [
    "df.shape"
   ]
  },
  {
   "cell_type": "code",
   "execution_count": 301,
   "id": "c4e4446a-2fb5-4284-bd78-a17cbebc841e",
   "metadata": {},
   "outputs": [
    {
     "data": {
      "text/html": [
       "<div>\n",
       "<style scoped>\n",
       "    .dataframe tbody tr th:only-of-type {\n",
       "        vertical-align: middle;\n",
       "    }\n",
       "\n",
       "    .dataframe tbody tr th {\n",
       "        vertical-align: top;\n",
       "    }\n",
       "\n",
       "    .dataframe thead th {\n",
       "        text-align: right;\n",
       "    }\n",
       "</style>\n",
       "<table border=\"1\" class=\"dataframe\">\n",
       "  <thead>\n",
       "    <tr style=\"text-align: right;\">\n",
       "      <th></th>\n",
       "      <th>Height</th>\n",
       "      <th>Weight</th>\n",
       "      <th>Age</th>\n",
       "      <th>Income</th>\n",
       "      <th>Score</th>\n",
       "      <th>Hours_Worked</th>\n",
       "      <th>Experience</th>\n",
       "      <th>Savings</th>\n",
       "      <th>Debt</th>\n",
       "      <th>Expenditure</th>\n",
       "    </tr>\n",
       "  </thead>\n",
       "  <tbody>\n",
       "    <tr>\n",
       "      <th>count</th>\n",
       "      <td>20.000000</td>\n",
       "      <td>20.000000</td>\n",
       "      <td>20.000000</td>\n",
       "      <td>20.000000</td>\n",
       "      <td>20.000000</td>\n",
       "      <td>20.000000</td>\n",
       "      <td>20.000000</td>\n",
       "      <td>20.000000</td>\n",
       "      <td>20.000000</td>\n",
       "      <td>20.000000</td>\n",
       "    </tr>\n",
       "    <tr>\n",
       "      <th>mean</th>\n",
       "      <td>178.811320</td>\n",
       "      <td>76.846041</td>\n",
       "      <td>31.951152</td>\n",
       "      <td>94841.431069</td>\n",
       "      <td>89.467966</td>\n",
       "      <td>44.997247</td>\n",
       "      <td>7.432512</td>\n",
       "      <td>68540.135431</td>\n",
       "      <td>7201.054283</td>\n",
       "      <td>7746.225809</td>\n",
       "    </tr>\n",
       "    <tr>\n",
       "      <th>std</th>\n",
       "      <td>18.680035</td>\n",
       "      <td>34.204976</td>\n",
       "      <td>16.566131</td>\n",
       "      <td>213161.392613</td>\n",
       "      <td>27.600501</td>\n",
       "      <td>14.118744</td>\n",
       "      <td>10.139389</td>\n",
       "      <td>219304.682273</td>\n",
       "      <td>10114.241628</td>\n",
       "      <td>21721.054362</td>\n",
       "    </tr>\n",
       "    <tr>\n",
       "      <th>min</th>\n",
       "      <td>160.227221</td>\n",
       "      <td>31.705153</td>\n",
       "      <td>21.930511</td>\n",
       "      <td>33698.016530</td>\n",
       "      <td>64.637563</td>\n",
       "      <td>33.261205</td>\n",
       "      <td>2.801198</td>\n",
       "      <td>12543.712036</td>\n",
       "      <td>3455.228903</td>\n",
       "      <td>1888.298424</td>\n",
       "    </tr>\n",
       "    <tr>\n",
       "      <th>25%</th>\n",
       "      <td>170.654515</td>\n",
       "      <td>62.859454</td>\n",
       "      <td>25.331309</td>\n",
       "      <td>42831.058613</td>\n",
       "      <td>79.628938</td>\n",
       "      <td>37.514610</td>\n",
       "      <td>3.709065</td>\n",
       "      <td>15759.827698</td>\n",
       "      <td>4281.985251</td>\n",
       "      <td>2439.844560</td>\n",
       "    </tr>\n",
       "    <tr>\n",
       "      <th>50%</th>\n",
       "      <td>174.053779</td>\n",
       "      <td>71.505295</td>\n",
       "      <td>27.997961</td>\n",
       "      <td>46644.471532</td>\n",
       "      <td>84.338259</td>\n",
       "      <td>44.271253</td>\n",
       "      <td>5.674664</td>\n",
       "      <td>18659.318577</td>\n",
       "      <td>5052.515200</td>\n",
       "      <td>2947.292713</td>\n",
       "    </tr>\n",
       "    <tr>\n",
       "      <th>75%</th>\n",
       "      <td>180.976219</td>\n",
       "      <td>88.140363</td>\n",
       "      <td>31.617898</td>\n",
       "      <td>52336.550170</td>\n",
       "      <td>90.855337</td>\n",
       "      <td>47.886379</td>\n",
       "      <td>6.201034</td>\n",
       "      <td>23561.967247</td>\n",
       "      <td>5847.479885</td>\n",
       "      <td>3330.935613</td>\n",
       "    </tr>\n",
       "    <tr>\n",
       "      <th>max</th>\n",
       "      <td>250.000000</td>\n",
       "      <td>200.000000</td>\n",
       "      <td>100.000000</td>\n",
       "      <td>1000000.000000</td>\n",
       "      <td>200.000000</td>\n",
       "      <td>100.000000</td>\n",
       "      <td>50.000000</td>\n",
       "      <td>1000000.000000</td>\n",
       "      <td>50000.000000</td>\n",
       "      <td>100000.000000</td>\n",
       "    </tr>\n",
       "  </tbody>\n",
       "</table>\n",
       "</div>"
      ],
      "text/plain": [
       "           Height      Weight         Age          Income       Score  \\\n",
       "count   20.000000   20.000000   20.000000       20.000000   20.000000   \n",
       "mean   178.811320   76.846041   31.951152    94841.431069   89.467966   \n",
       "std     18.680035   34.204976   16.566131   213161.392613   27.600501   \n",
       "min    160.227221   31.705153   21.930511    33698.016530   64.637563   \n",
       "25%    170.654515   62.859454   25.331309    42831.058613   79.628938   \n",
       "50%    174.053779   71.505295   27.997961    46644.471532   84.338259   \n",
       "75%    180.976219   88.140363   31.617898    52336.550170   90.855337   \n",
       "max    250.000000  200.000000  100.000000  1000000.000000  200.000000   \n",
       "\n",
       "       Hours_Worked  Experience         Savings          Debt    Expenditure  \n",
       "count     20.000000   20.000000       20.000000     20.000000      20.000000  \n",
       "mean      44.997247    7.432512    68540.135431   7201.054283    7746.225809  \n",
       "std       14.118744   10.139389   219304.682273  10114.241628   21721.054362  \n",
       "min       33.261205    2.801198    12543.712036   3455.228903    1888.298424  \n",
       "25%       37.514610    3.709065    15759.827698   4281.985251    2439.844560  \n",
       "50%       44.271253    5.674664    18659.318577   5052.515200    2947.292713  \n",
       "75%       47.886379    6.201034    23561.967247   5847.479885    3330.935613  \n",
       "max      100.000000   50.000000  1000000.000000  50000.000000  100000.000000  "
      ]
     },
     "execution_count": 301,
     "metadata": {},
     "output_type": "execute_result"
    }
   ],
   "source": [
    "df.describe()"
   ]
  },
  {
   "cell_type": "code",
   "execution_count": 302,
   "id": "c9b4bc21-0a38-48b0-96d0-527a866b9510",
   "metadata": {},
   "outputs": [
    {
     "data": {
      "text/plain": [
       "Height          0\n",
       "Weight          0\n",
       "Age             0\n",
       "Income          0\n",
       "Score           0\n",
       "Hours_Worked    0\n",
       "Experience      0\n",
       "Savings         0\n",
       "Debt            0\n",
       "Expenditure     0\n",
       "dtype: int64"
      ]
     },
     "execution_count": 302,
     "metadata": {},
     "output_type": "execute_result"
    }
   ],
   "source": [
    "df.isna().sum()"
   ]
  },
  {
   "cell_type": "code",
   "execution_count": 303,
   "id": "ec64247b-b1c0-4053-8f92-49cc00ecf692",
   "metadata": {},
   "outputs": [
    {
     "name": "stdout",
     "output_type": "stream",
     "text": [
      "<class 'pandas.core.frame.DataFrame'>\n",
      "RangeIndex: 20 entries, 0 to 19\n",
      "Data columns (total 10 columns):\n",
      " #   Column        Non-Null Count  Dtype  \n",
      "---  ------        --------------  -----  \n",
      " 0   Height        20 non-null     float64\n",
      " 1   Weight        20 non-null     float64\n",
      " 2   Age           20 non-null     float64\n",
      " 3   Income        20 non-null     float64\n",
      " 4   Score         20 non-null     float64\n",
      " 5   Hours_Worked  20 non-null     float64\n",
      " 6   Experience    20 non-null     float64\n",
      " 7   Savings       20 non-null     float64\n",
      " 8   Debt          20 non-null     float64\n",
      " 9   Expenditure   20 non-null     float64\n",
      "dtypes: float64(10)\n",
      "memory usage: 1.7 KB\n"
     ]
    }
   ],
   "source": [
    "df.info()"
   ]
  },
  {
   "cell_type": "code",
   "execution_count": 304,
   "id": "e9b26540-d714-4b5e-8693-69fcfbe70931",
   "metadata": {},
   "outputs": [
    {
     "data": {
      "text/html": [
       "<div>\n",
       "<style scoped>\n",
       "    .dataframe tbody tr th:only-of-type {\n",
       "        vertical-align: middle;\n",
       "    }\n",
       "\n",
       "    .dataframe tbody tr th {\n",
       "        vertical-align: top;\n",
       "    }\n",
       "\n",
       "    .dataframe thead th {\n",
       "        text-align: right;\n",
       "    }\n",
       "</style>\n",
       "<table border=\"1\" class=\"dataframe\">\n",
       "  <thead>\n",
       "    <tr style=\"text-align: right;\">\n",
       "      <th></th>\n",
       "      <th>Height</th>\n",
       "      <th>Weight</th>\n",
       "      <th>Age</th>\n",
       "      <th>Income</th>\n",
       "      <th>Score</th>\n",
       "      <th>Hours_Worked</th>\n",
       "      <th>Experience</th>\n",
       "      <th>Savings</th>\n",
       "      <th>Debt</th>\n",
       "      <th>Expenditure</th>\n",
       "    </tr>\n",
       "  </thead>\n",
       "  <tbody>\n",
       "  </tbody>\n",
       "</table>\n",
       "</div>"
      ],
      "text/plain": [
       "Empty DataFrame\n",
       "Columns: [Height, Weight, Age, Income, Score, Hours_Worked, Experience, Savings, Debt, Expenditure]\n",
       "Index: []"
      ]
     },
     "execution_count": 304,
     "metadata": {},
     "output_type": "execute_result"
    }
   ],
   "source": [
    "df[df.duplicated()]"
   ]
  },
  {
   "cell_type": "markdown",
   "id": "8fdbf100-b8da-43e9-8106-fe1c8ef9c6f6",
   "metadata": {},
   "source": [
    "## Feature Engineering Tasks"
   ]
  },
  {
   "cell_type": "code",
   "execution_count": null,
   "id": "10b34c0f-f233-4a75-81c6-198f0b193d88",
   "metadata": {},
   "outputs": [],
   "source": []
  },
  {
   "cell_type": "markdown",
   "id": "d38ba900-c5ec-4ccf-810c-7e27129cc254",
   "metadata": {},
   "source": [
    "### How would you identify the 1st and 99th percentiles for the 'Height' column?"
   ]
  },
  {
   "cell_type": "code",
   "execution_count": 305,
   "id": "a30ef9c3-b494-49a0-932f-f8ef5c0d2ab4",
   "metadata": {},
   "outputs": [
    {
     "data": {
      "text/plain": [
       "(239.0576970784827, 160.4612672683278)"
      ]
     },
     "execution_count": 305,
     "metadata": {},
     "output_type": "execute_result"
    }
   ],
   "source": [
    "upper_limit = df[\"Height\"].quantile(0.99)\n",
    "lower_limit = df[\"Height\"].quantile(0.01)\n",
    "upper_limit , lower_limit"
   ]
  },
  {
   "cell_type": "code",
   "execution_count": 306,
   "id": "6aaa7d6a-6799-4564-a32d-1e1083ef57c2",
   "metadata": {},
   "outputs": [
    {
     "data": {
      "text/html": [
       "<div>\n",
       "<style scoped>\n",
       "    .dataframe tbody tr th:only-of-type {\n",
       "        vertical-align: middle;\n",
       "    }\n",
       "\n",
       "    .dataframe tbody tr th {\n",
       "        vertical-align: top;\n",
       "    }\n",
       "\n",
       "    .dataframe thead th {\n",
       "        text-align: right;\n",
       "    }\n",
       "</style>\n",
       "<table border=\"1\" class=\"dataframe\">\n",
       "  <thead>\n",
       "    <tr style=\"text-align: right;\">\n",
       "      <th></th>\n",
       "      <th>Height</th>\n",
       "      <th>Weight</th>\n",
       "      <th>Age</th>\n",
       "      <th>Income</th>\n",
       "      <th>Score</th>\n",
       "      <th>Hours_Worked</th>\n",
       "      <th>Experience</th>\n",
       "      <th>Savings</th>\n",
       "      <th>Debt</th>\n",
       "      <th>Expenditure</th>\n",
       "    </tr>\n",
       "  </thead>\n",
       "  <tbody>\n",
       "    <tr>\n",
       "      <th>0</th>\n",
       "      <td>250.000000</td>\n",
       "      <td>31.705153</td>\n",
       "      <td>24.757235</td>\n",
       "      <td>43275.395522</td>\n",
       "      <td>68.348502</td>\n",
       "      <td>49.415753</td>\n",
       "      <td>5.752851</td>\n",
       "      <td>12543.712036</td>\n",
       "      <td>4501.967549</td>\n",
       "      <td>2823.003044</td>\n",
       "    </tr>\n",
       "    <tr>\n",
       "      <th>5</th>\n",
       "      <td>160.227221</td>\n",
       "      <td>48.184515</td>\n",
       "      <td>27.809628</td>\n",
       "      <td>45982.190638</td>\n",
       "      <td>98.958892</td>\n",
       "      <td>100.000000</td>\n",
       "      <td>4.700731</td>\n",
       "      <td>24722.397435</td>\n",
       "      <td>5844.362976</td>\n",
       "      <td>2198.971172</td>\n",
       "    </tr>\n",
       "  </tbody>\n",
       "</table>\n",
       "</div>"
      ],
      "text/plain": [
       "       Height     Weight        Age        Income      Score  Hours_Worked  \\\n",
       "0  250.000000  31.705153  24.757235  43275.395522  68.348502     49.415753   \n",
       "5  160.227221  48.184515  27.809628  45982.190638  98.958892    100.000000   \n",
       "\n",
       "   Experience       Savings         Debt  Expenditure  \n",
       "0    5.752851  12543.712036  4501.967549  2823.003044  \n",
       "5    4.700731  24722.397435  5844.362976  2198.971172  "
      ]
     },
     "execution_count": 306,
     "metadata": {},
     "output_type": "execute_result"
    }
   ],
   "source": [
    "# identifing outliers\n",
    "df[(df[\"Height\"]>=239.05)|(df[\"Height\"]<=160.46)]"
   ]
  },
  {
   "cell_type": "markdown",
   "id": "f323e6bd-9884-4425-83d3-90e81ccb6d76",
   "metadata": {},
   "source": [
    "### How would you remove outliers from the 'Height' column based on the 1st and 99th percentiles?"
   ]
  },
  {
   "cell_type": "code",
   "execution_count": 307,
   "id": "5adae8a4-9807-4703-97b1-6b81ed264e08",
   "metadata": {},
   "outputs": [],
   "source": [
    "df_height = df[(df[\"Height\"]<=239.05) & (df[\"Height\"]>=160.46)]"
   ]
  },
  {
   "cell_type": "code",
   "execution_count": 308,
   "id": "f12871ce-c68c-49ca-b375-ee2ec73172ec",
   "metadata": {},
   "outputs": [
    {
     "data": {
      "text/html": [
       "<div>\n",
       "<style scoped>\n",
       "    .dataframe tbody tr th:only-of-type {\n",
       "        vertical-align: middle;\n",
       "    }\n",
       "\n",
       "    .dataframe tbody tr th {\n",
       "        vertical-align: top;\n",
       "    }\n",
       "\n",
       "    .dataframe thead th {\n",
       "        text-align: right;\n",
       "    }\n",
       "</style>\n",
       "<table border=\"1\" class=\"dataframe\">\n",
       "  <thead>\n",
       "    <tr style=\"text-align: right;\">\n",
       "      <th></th>\n",
       "      <th>Height</th>\n",
       "      <th>Weight</th>\n",
       "      <th>Age</th>\n",
       "      <th>Income</th>\n",
       "      <th>Score</th>\n",
       "      <th>Hours_Worked</th>\n",
       "      <th>Experience</th>\n",
       "      <th>Savings</th>\n",
       "      <th>Debt</th>\n",
       "      <th>Expenditure</th>\n",
       "    </tr>\n",
       "  </thead>\n",
       "  <tbody>\n",
       "    <tr>\n",
       "      <th>1</th>\n",
       "      <td>174.001572</td>\n",
       "      <td>200.000000</td>\n",
       "      <td>22.899910</td>\n",
       "      <td>46404.468385</td>\n",
       "      <td>89.008265</td>\n",
       "      <td>33.261205</td>\n",
       "      <td>2.801198</td>\n",
       "      <td>22196.958506</td>\n",
       "      <td>6929.532054</td>\n",
       "      <td>2312.524353</td>\n",
       "    </tr>\n",
       "    <tr>\n",
       "      <th>2</th>\n",
       "      <td>179.787380</td>\n",
       "      <td>82.966543</td>\n",
       "      <td>100.000000</td>\n",
       "      <td>41868.537180</td>\n",
       "      <td>84.656624</td>\n",
       "      <td>33.647575</td>\n",
       "      <td>5.596476</td>\n",
       "      <td>20833.367477</td>\n",
       "      <td>5949.420807</td>\n",
       "      <td>2678.190799</td>\n",
       "    </tr>\n",
       "    <tr>\n",
       "      <th>3</th>\n",
       "      <td>192.408932</td>\n",
       "      <td>58.867525</td>\n",
       "      <td>39.753877</td>\n",
       "      <td>1000000.000000</td>\n",
       "      <td>64.637563</td>\n",
       "      <td>44.846984</td>\n",
       "      <td>7.652772</td>\n",
       "      <td>23175.157184</td>\n",
       "      <td>5087.551241</td>\n",
       "      <td>1888.298424</td>\n",
       "    </tr>\n",
       "    <tr>\n",
       "      <th>4</th>\n",
       "      <td>188.675580</td>\n",
       "      <td>104.046319</td>\n",
       "      <td>27.451739</td>\n",
       "      <td>51774.261423</td>\n",
       "      <td>200.000000</td>\n",
       "      <td>34.134383</td>\n",
       "      <td>3.610864</td>\n",
       "      <td>31915.723874</td>\n",
       "      <td>3774.564481</td>\n",
       "      <td>3312.615726</td>\n",
       "    </tr>\n",
       "    <tr>\n",
       "      <th>6</th>\n",
       "      <td>179.500884</td>\n",
       "      <td>70.686378</td>\n",
       "      <td>23.736023</td>\n",
       "      <td>33698.016530</td>\n",
       "      <td>91.787796</td>\n",
       "      <td>37.931905</td>\n",
       "      <td>50.000000</td>\n",
       "      <td>15435.888873</td>\n",
       "      <td>3999.784653</td>\n",
       "      <td>2447.808330</td>\n",
       "    </tr>\n",
       "  </tbody>\n",
       "</table>\n",
       "</div>"
      ],
      "text/plain": [
       "       Height      Weight         Age          Income       Score  \\\n",
       "1  174.001572  200.000000   22.899910    46404.468385   89.008265   \n",
       "2  179.787380   82.966543  100.000000    41868.537180   84.656624   \n",
       "3  192.408932   58.867525   39.753877  1000000.000000   64.637563   \n",
       "4  188.675580  104.046319   27.451739    51774.261423  200.000000   \n",
       "6  179.500884   70.686378   23.736023    33698.016530   91.787796   \n",
       "\n",
       "   Hours_Worked  Experience       Savings         Debt  Expenditure  \n",
       "1     33.261205    2.801198  22196.958506  6929.532054  2312.524353  \n",
       "2     33.647575    5.596476  20833.367477  5949.420807  2678.190799  \n",
       "3     44.846984    7.652772  23175.157184  5087.551241  1888.298424  \n",
       "4     34.134383    3.610864  31915.723874  3774.564481  3312.615726  \n",
       "6     37.931905   50.000000  15435.888873  3999.784653  2447.808330  "
      ]
     },
     "execution_count": 308,
     "metadata": {},
     "output_type": "execute_result"
    }
   ],
   "source": [
    "df_height.head()"
   ]
  },
  {
   "cell_type": "markdown",
   "id": "a1aafcc2-51d5-4dfb-b993-e0254bfb310a",
   "metadata": {},
   "source": [
    "### Plot a box plot for the 'Height' column before and after outlier removal."
   ]
  },
  {
   "cell_type": "code",
   "execution_count": 309,
   "id": "4350d257-03b4-4b93-b898-093cd459a5fa",
   "metadata": {},
   "outputs": [
    {
     "data": {
      "image/png": "[encoded data removed]",
      "text/plain": [
       "<Figure size 1000x500 with 2 Axes>"
      ]
     },
     "metadata": {},
     "output_type": "display_data"
    }
   ],
   "source": [
    "import matplotlib.pyplot as plt\n",
    "# before removal\n",
    "plt.figure(figsize=(10,5))\n",
    "plt.subplot(1,2,1)\n",
    "plt.boxplot(df[\"Height\"])\n",
    "plt.title(\"Before Outlier Removal\")\n",
    "           \n",
    "# after removal\n",
    "plt.subplot(1,2,2)\n",
    "plt.boxplot(df_height[\"Height\"])\n",
    "plt.title(\"After Outlier Removal\")\n",
    "\n",
    "plt.show()\n"
   ]
  },
  {
   "cell_type": "markdown",
   "id": "dcfeca49-5b45-4633-8011-dd26e2d4ec3c",
   "metadata": {},
   "source": [
    "### summary statistics (mean, median, std) before and after outlier removal for column 'Height'."
   ]
  },
  {
   "cell_type": "code",
   "execution_count": 310,
   "id": "3c8fb8d8-9313-4f6a-a5aa-399f39947e64",
   "metadata": {},
   "outputs": [
    {
     "data": {
      "text/plain": [
       "count     20.000000\n",
       "mean     178.811320\n",
       "std       18.680035\n",
       "min      160.227221\n",
       "25%      170.654515\n",
       "50%      174.053779\n",
       "75%      180.976219\n",
       "max      250.000000\n",
       "Name: Height, dtype: float64"
      ]
     },
     "execution_count": 310,
     "metadata": {},
     "output_type": "execute_result"
    }
   ],
   "source": [
    "df['Height'].describe()"
   ]
  },
  {
   "cell_type": "code",
   "execution_count": 311,
   "id": "8d3653cc-5540-46e0-9c0f-8d7714dd2bc2",
   "metadata": {},
   "outputs": [
    {
     "data": {
      "text/plain": [
       "count     18.000000\n",
       "mean     175.888843\n",
       "std        7.907545\n",
       "min      161.459043\n",
       "25%      171.272672\n",
       "50%      174.053779\n",
       "75%      179.715756\n",
       "max      192.408932\n",
       "Name: Height, dtype: float64"
      ]
     },
     "execution_count": 311,
     "metadata": {},
     "output_type": "execute_result"
    }
   ],
   "source": [
    " df_height['Height'].describe()"
   ]
  },
  {
   "cell_type": "markdown",
   "id": "d880991b-5c8f-4515-9f3b-f5b15def1ca2",
   "metadata": {},
   "source": [
    "### Calculate the 5th and 95th percentiles for the 'Weight' column."
   ]
  },
  {
   "cell_type": "code",
   "execution_count": 312,
   "id": "e6f5930e-b1cb-4dcb-965f-9c6065770fda",
   "metadata": {},
   "outputs": [
    {
     "data": {
      "text/plain": [
       "(108.84400339182346, 39.85890796593348)"
      ]
     },
     "execution_count": 312,
     "metadata": {},
     "output_type": "execute_result"
    }
   ],
   "source": [
    "upper_limit = df[\"Weight\"].quantile(0.95)\n",
    "lower_limit = df[\"Weight\"].quantile(0.05)\n",
    "upper_limit , lower_limit"
   ]
  },
  {
   "cell_type": "code",
   "execution_count": 313,
   "id": "cb0458fa-7dfe-4bca-a844-e595828b4147",
   "metadata": {},
   "outputs": [
    {
     "data": {
      "text/html": [
       "<div>\n",
       "<style scoped>\n",
       "    .dataframe tbody tr th:only-of-type {\n",
       "        vertical-align: middle;\n",
       "    }\n",
       "\n",
       "    .dataframe tbody tr th {\n",
       "        vertical-align: top;\n",
       "    }\n",
       "\n",
       "    .dataframe thead th {\n",
       "        text-align: right;\n",
       "    }\n",
       "</style>\n",
       "<table border=\"1\" class=\"dataframe\">\n",
       "  <thead>\n",
       "    <tr style=\"text-align: right;\">\n",
       "      <th></th>\n",
       "      <th>Height</th>\n",
       "      <th>Weight</th>\n",
       "      <th>Age</th>\n",
       "      <th>Income</th>\n",
       "      <th>Score</th>\n",
       "      <th>Hours_Worked</th>\n",
       "      <th>Experience</th>\n",
       "      <th>Savings</th>\n",
       "      <th>Debt</th>\n",
       "      <th>Expenditure</th>\n",
       "    </tr>\n",
       "  </thead>\n",
       "  <tbody>\n",
       "    <tr>\n",
       "      <th>0</th>\n",
       "      <td>250.000000</td>\n",
       "      <td>31.705153</td>\n",
       "      <td>24.757235</td>\n",
       "      <td>43275.395522</td>\n",
       "      <td>68.348502</td>\n",
       "      <td>49.415753</td>\n",
       "      <td>5.752851</td>\n",
       "      <td>12543.712036</td>\n",
       "      <td>4501.967549</td>\n",
       "      <td>2823.003044</td>\n",
       "    </tr>\n",
       "    <tr>\n",
       "      <th>1</th>\n",
       "      <td>174.001572</td>\n",
       "      <td>200.000000</td>\n",
       "      <td>22.899910</td>\n",
       "      <td>46404.468385</td>\n",
       "      <td>89.008265</td>\n",
       "      <td>33.261205</td>\n",
       "      <td>2.801198</td>\n",
       "      <td>22196.958506</td>\n",
       "      <td>6929.532054</td>\n",
       "      <td>2312.524353</td>\n",
       "    </tr>\n",
       "  </tbody>\n",
       "</table>\n",
       "</div>"
      ],
      "text/plain": [
       "       Height      Weight        Age        Income      Score  Hours_Worked  \\\n",
       "0  250.000000   31.705153  24.757235  43275.395522  68.348502     49.415753   \n",
       "1  174.001572  200.000000  22.899910  46404.468385  89.008265     33.261205   \n",
       "\n",
       "   Experience       Savings         Debt  Expenditure  \n",
       "0    5.752851  12543.712036  4501.967549  2823.003044  \n",
       "1    2.801198  22196.958506  6929.532054  2312.524353  "
      ]
     },
     "execution_count": 313,
     "metadata": {},
     "output_type": "execute_result"
    }
   ],
   "source": [
    "df[(df[\"Weight\"]>= 108.84)|(df[\"Weight\"]<=39.85)]"
   ]
  },
  {
   "cell_type": "markdown",
   "id": "a1d519f1-0862-4d76-915a-11391907a400",
   "metadata": {},
   "source": [
    "### Remove outliers from the 'Weight' column that are below the 5th percentile or above the 95th percentile."
   ]
  },
  {
   "cell_type": "code",
   "execution_count": 314,
   "id": "46d1ae87-1c16-451c-8aef-268d31ab3a27",
   "metadata": {},
   "outputs": [
    {
     "data": {
      "text/html": [
       "<div>\n",
       "<style scoped>\n",
       "    .dataframe tbody tr th:only-of-type {\n",
       "        vertical-align: middle;\n",
       "    }\n",
       "\n",
       "    .dataframe tbody tr th {\n",
       "        vertical-align: top;\n",
       "    }\n",
       "\n",
       "    .dataframe thead th {\n",
       "        text-align: right;\n",
       "    }\n",
       "</style>\n",
       "<table border=\"1\" class=\"dataframe\">\n",
       "  <thead>\n",
       "    <tr style=\"text-align: right;\">\n",
       "      <th></th>\n",
       "      <th>Height</th>\n",
       "      <th>Weight</th>\n",
       "      <th>Age</th>\n",
       "      <th>Income</th>\n",
       "      <th>Score</th>\n",
       "      <th>Hours_Worked</th>\n",
       "      <th>Experience</th>\n",
       "      <th>Savings</th>\n",
       "      <th>Debt</th>\n",
       "      <th>Expenditure</th>\n",
       "    </tr>\n",
       "  </thead>\n",
       "  <tbody>\n",
       "    <tr>\n",
       "      <th>2</th>\n",
       "      <td>179.787380</td>\n",
       "      <td>82.966543</td>\n",
       "      <td>100.000000</td>\n",
       "      <td>41868.537180</td>\n",
       "      <td>84.656624</td>\n",
       "      <td>33.647575</td>\n",
       "      <td>5.596476</td>\n",
       "      <td>20833.367477</td>\n",
       "      <td>5949.420807</td>\n",
       "      <td>2678.190799</td>\n",
       "    </tr>\n",
       "    <tr>\n",
       "      <th>3</th>\n",
       "      <td>192.408932</td>\n",
       "      <td>58.867525</td>\n",
       "      <td>39.753877</td>\n",
       "      <td>1000000.000000</td>\n",
       "      <td>64.637563</td>\n",
       "      <td>44.846984</td>\n",
       "      <td>7.652772</td>\n",
       "      <td>23175.157184</td>\n",
       "      <td>5087.551241</td>\n",
       "      <td>1888.298424</td>\n",
       "    </tr>\n",
       "    <tr>\n",
       "      <th>4</th>\n",
       "      <td>188.675580</td>\n",
       "      <td>104.046319</td>\n",
       "      <td>27.451739</td>\n",
       "      <td>51774.261423</td>\n",
       "      <td>200.000000</td>\n",
       "      <td>34.134383</td>\n",
       "      <td>3.610864</td>\n",
       "      <td>31915.723874</td>\n",
       "      <td>3774.564481</td>\n",
       "      <td>3312.615726</td>\n",
       "    </tr>\n",
       "    <tr>\n",
       "      <th>5</th>\n",
       "      <td>160.227221</td>\n",
       "      <td>48.184515</td>\n",
       "      <td>27.809628</td>\n",
       "      <td>45982.190638</td>\n",
       "      <td>98.958892</td>\n",
       "      <td>100.000000</td>\n",
       "      <td>4.700731</td>\n",
       "      <td>24722.397435</td>\n",
       "      <td>5844.362976</td>\n",
       "      <td>2198.971172</td>\n",
       "    </tr>\n",
       "    <tr>\n",
       "      <th>6</th>\n",
       "      <td>179.500884</td>\n",
       "      <td>70.686378</td>\n",
       "      <td>23.736023</td>\n",
       "      <td>33698.016530</td>\n",
       "      <td>91.787796</td>\n",
       "      <td>37.931905</td>\n",
       "      <td>50.000000</td>\n",
       "      <td>15435.888873</td>\n",
       "      <td>3999.784653</td>\n",
       "      <td>2447.808330</td>\n",
       "    </tr>\n",
       "  </tbody>\n",
       "</table>\n",
       "</div>"
      ],
      "text/plain": [
       "       Height      Weight         Age          Income       Score  \\\n",
       "2  179.787380   82.966543  100.000000    41868.537180   84.656624   \n",
       "3  192.408932   58.867525   39.753877  1000000.000000   64.637563   \n",
       "4  188.675580  104.046319   27.451739    51774.261423  200.000000   \n",
       "5  160.227221   48.184515   27.809628    45982.190638   98.958892   \n",
       "6  179.500884   70.686378   23.736023    33698.016530   91.787796   \n",
       "\n",
       "   Hours_Worked  Experience       Savings         Debt  Expenditure  \n",
       "2     33.647575    5.596476  20833.367477  5949.420807  2678.190799  \n",
       "3     44.846984    7.652772  23175.157184  5087.551241  1888.298424  \n",
       "4     34.134383    3.610864  31915.723874  3774.564481  3312.615726  \n",
       "5    100.000000    4.700731  24722.397435  5844.362976  2198.971172  \n",
       "6     37.931905   50.000000  15435.888873  3999.784653  2447.808330  "
      ]
     },
     "execution_count": 314,
     "metadata": {},
     "output_type": "execute_result"
    }
   ],
   "source": [
    "df_weight = df[(df[\"Weight\"] <=108.84) & (df[\"Weight\"]>=39.85)]\n",
    "df_weight.head()"
   ]
  },
  {
   "cell_type": "markdown",
   "id": "69394bcb-e6cf-4d9c-a5a0-4b57731aa255",
   "metadata": {},
   "source": [
    "### Plot a box plot for the 'Weight' column before and after outlier removal."
   ]
  },
  {
   "cell_type": "code",
   "execution_count": 315,
   "id": "2a26c32c-ecbb-485d-88e1-89fef74aedef",
   "metadata": {},
   "outputs": [
    {
     "data": {
      "text/plain": [
       "Text(0.5, 1.0, 'after outlier removal')"
      ]
     },
     "execution_count": 315,
     "metadata": {},
     "output_type": "execute_result"
    },
    {
     "data": {
      "image/png": "[encoded data removed]",
      "text/plain": [
       "<Figure size 1000x500 with 2 Axes>"
      ]
     },
     "metadata": {},
     "output_type": "display_data"
    }
   ],
   "source": [
    "# before removal \n",
    "\n",
    "plt.figure(figsize=(10,5))\n",
    "plt.subplot(1,2,1)\n",
    "plt.boxplot(df[\"Weight\"])\n",
    "plt.title(\"Before Outlier removal\")\n",
    "# after removal oulier\n",
    "\n",
    "plt.subplot(1,2,2)\n",
    "plt.boxplot(df_weight[\"Weight\"])\n",
    "plt.title(\"after outlier removal\")"
   ]
  },
  {
   "cell_type": "markdown",
   "id": "9831f860-7299-4de7-8ded-88a7f3350f1f",
   "metadata": {},
   "source": [
    "###  Summary statistics (mean, median, std) before and after outlier removal for column 'Weight'."
   ]
  },
  {
   "cell_type": "code",
   "execution_count": 316,
   "id": "7915a185-8b20-4301-be17-ae1363e338c5",
   "metadata": {},
   "outputs": [
    {
     "data": {
      "text/plain": [
       "count     20.000000\n",
       "mean      76.846041\n",
       "std       34.204976\n",
       "min       31.705153\n",
       "25%       62.859454\n",
       "50%       71.505295\n",
       "75%       88.140363\n",
       "max      200.000000\n",
       "Name: Weight, dtype: float64"
      ]
     },
     "execution_count": 316,
     "metadata": {},
     "output_type": "execute_result"
    }
   ],
   "source": [
    "df['Weight'].describe()"
   ]
  },
  {
   "cell_type": "code",
   "execution_count": 317,
   "id": "049f1143-c9be-4bf8-83a3-2df45aad040a",
   "metadata": {},
   "outputs": [
    {
     "data": {
      "text/plain": [
       "count     18.000000\n",
       "mean      72.511982\n",
       "std       16.604246\n",
       "min       40.288053\n",
       "25%       64.337903\n",
       "50%       71.505295\n",
       "75%       86.768409\n",
       "max      104.046319\n",
       "Name: Weight, dtype: float64"
      ]
     },
     "execution_count": 317,
     "metadata": {},
     "output_type": "execute_result"
    }
   ],
   "source": [
    "df_weight['Weight'].describe()\n"
   ]
  },
  {
   "cell_type": "markdown",
   "id": "1e09bfa6-445d-45e5-8228-ce682b2c5347",
   "metadata": {},
   "source": [
    "### Identify the 10th and 90th percentiles for the 'Age' column."
   ]
  },
  {
   "cell_type": "code",
   "execution_count": 318,
   "id": "5550bd7f-9e77-4671-9a0f-241fbf6fecba",
   "metadata": {},
   "outputs": [
    {
     "data": {
      "text/plain": [
       "(34.4740942988595, 23.652411911185848)"
      ]
     },
     "execution_count": 318,
     "metadata": {},
     "output_type": "execute_result"
    }
   ],
   "source": [
    "upper_limit = df[\"Age\"].quantile(0.90)\n",
    "lower_limit = df[\"Age\"].quantile(0.10)\n",
    "upper_limit , lower_limit"
   ]
  },
  {
   "cell_type": "code",
   "execution_count": 319,
   "id": "afc39bef-0d2c-4423-b3c9-d84c1f749994",
   "metadata": {},
   "outputs": [
    {
     "data": {
      "text/html": [
       "<div>\n",
       "<style scoped>\n",
       "    .dataframe tbody tr th:only-of-type {\n",
       "        vertical-align: middle;\n",
       "    }\n",
       "\n",
       "    .dataframe tbody tr th {\n",
       "        vertical-align: top;\n",
       "    }\n",
       "\n",
       "    .dataframe thead th {\n",
       "        text-align: right;\n",
       "    }\n",
       "</style>\n",
       "<table border=\"1\" class=\"dataframe\">\n",
       "  <thead>\n",
       "    <tr style=\"text-align: right;\">\n",
       "      <th></th>\n",
       "      <th>Height</th>\n",
       "      <th>Weight</th>\n",
       "      <th>Age</th>\n",
       "      <th>Income</th>\n",
       "      <th>Score</th>\n",
       "      <th>Hours_Worked</th>\n",
       "      <th>Experience</th>\n",
       "      <th>Savings</th>\n",
       "      <th>Debt</th>\n",
       "      <th>Expenditure</th>\n",
       "    </tr>\n",
       "  </thead>\n",
       "  <tbody>\n",
       "    <tr>\n",
       "      <th>1</th>\n",
       "      <td>174.001572</td>\n",
       "      <td>200.000000</td>\n",
       "      <td>22.899910</td>\n",
       "      <td>46404.468385</td>\n",
       "      <td>89.008265</td>\n",
       "      <td>33.261205</td>\n",
       "      <td>2.801198</td>\n",
       "      <td>22196.958506</td>\n",
       "      <td>6929.532054</td>\n",
       "      <td>2312.524353</td>\n",
       "    </tr>\n",
       "    <tr>\n",
       "      <th>2</th>\n",
       "      <td>179.787380</td>\n",
       "      <td>82.966543</td>\n",
       "      <td>100.000000</td>\n",
       "      <td>41868.537180</td>\n",
       "      <td>84.656624</td>\n",
       "      <td>33.647575</td>\n",
       "      <td>5.596476</td>\n",
       "      <td>20833.367477</td>\n",
       "      <td>5949.420807</td>\n",
       "      <td>2678.190799</td>\n",
       "    </tr>\n",
       "    <tr>\n",
       "      <th>3</th>\n",
       "      <td>192.408932</td>\n",
       "      <td>58.867525</td>\n",
       "      <td>39.753877</td>\n",
       "      <td>1000000.000000</td>\n",
       "      <td>64.637563</td>\n",
       "      <td>44.846984</td>\n",
       "      <td>7.652772</td>\n",
       "      <td>23175.157184</td>\n",
       "      <td>5087.551241</td>\n",
       "      <td>1888.298424</td>\n",
       "    </tr>\n",
       "    <tr>\n",
       "      <th>8</th>\n",
       "      <td>168.967811</td>\n",
       "      <td>92.991688</td>\n",
       "      <td>21.930511</td>\n",
       "      <td>40927.016356</td>\n",
       "      <td>69.292474</td>\n",
       "      <td>49.614710</td>\n",
       "      <td>6.344590</td>\n",
       "      <td>13420.462947</td>\n",
       "      <td>50000.000000</td>\n",
       "      <td>2630.218502</td>\n",
       "    </tr>\n",
       "  </tbody>\n",
       "</table>\n",
       "</div>"
      ],
      "text/plain": [
       "       Height      Weight         Age          Income      Score  \\\n",
       "1  174.001572  200.000000   22.899910    46404.468385  89.008265   \n",
       "2  179.787380   82.966543  100.000000    41868.537180  84.656624   \n",
       "3  192.408932   58.867525   39.753877  1000000.000000  64.637563   \n",
       "8  168.967811   92.991688   21.930511    40927.016356  69.292474   \n",
       "\n",
       "   Hours_Worked  Experience       Savings          Debt  Expenditure  \n",
       "1     33.261205    2.801198  22196.958506   6929.532054  2312.524353  \n",
       "2     33.647575    5.596476  20833.367477   5949.420807  2678.190799  \n",
       "3     44.846984    7.652772  23175.157184   5087.551241  1888.298424  \n",
       "8     49.614710    6.344590  13420.462947  50000.000000  2630.218502  "
      ]
     },
     "execution_count": 319,
     "metadata": {},
     "output_type": "execute_result"
    }
   ],
   "source": [
    "df[(df[\"Age\"]>=34.47)|(df[\"Age\"]<=23.65)]"
   ]
  },
  {
   "cell_type": "markdown",
   "id": "3cd12ee6-3250-4f7b-8695-eabf6210dec4",
   "metadata": {},
   "source": [
    "### Remove outliers from the 'Age' column that are below the 10th percentile or above the 90th percentile."
   ]
  },
  {
   "cell_type": "code",
   "execution_count": 320,
   "id": "b6fc18ca-2ad5-4ea6-915b-dd330c368dd7",
   "metadata": {},
   "outputs": [
    {
     "data": {
      "text/html": [
       "<div>\n",
       "<style scoped>\n",
       "    .dataframe tbody tr th:only-of-type {\n",
       "        vertical-align: middle;\n",
       "    }\n",
       "\n",
       "    .dataframe tbody tr th {\n",
       "        vertical-align: top;\n",
       "    }\n",
       "\n",
       "    .dataframe thead th {\n",
       "        text-align: right;\n",
       "    }\n",
       "</style>\n",
       "<table border=\"1\" class=\"dataframe\">\n",
       "  <thead>\n",
       "    <tr style=\"text-align: right;\">\n",
       "      <th></th>\n",
       "      <th>Height</th>\n",
       "      <th>Weight</th>\n",
       "      <th>Age</th>\n",
       "      <th>Income</th>\n",
       "      <th>Score</th>\n",
       "      <th>Hours_Worked</th>\n",
       "      <th>Experience</th>\n",
       "      <th>Savings</th>\n",
       "      <th>Debt</th>\n",
       "      <th>Expenditure</th>\n",
       "    </tr>\n",
       "  </thead>\n",
       "  <tbody>\n",
       "    <tr>\n",
       "      <th>0</th>\n",
       "      <td>250.000000</td>\n",
       "      <td>31.705153</td>\n",
       "      <td>24.757235</td>\n",
       "      <td>43275.395522</td>\n",
       "      <td>68.348502</td>\n",
       "      <td>49.415753</td>\n",
       "      <td>5.752851</td>\n",
       "      <td>12543.712036</td>\n",
       "      <td>4501.967549</td>\n",
       "      <td>2823.003044</td>\n",
       "    </tr>\n",
       "    <tr>\n",
       "      <th>4</th>\n",
       "      <td>188.675580</td>\n",
       "      <td>104.046319</td>\n",
       "      <td>27.451739</td>\n",
       "      <td>51774.261423</td>\n",
       "      <td>200.000000</td>\n",
       "      <td>34.134383</td>\n",
       "      <td>3.610864</td>\n",
       "      <td>31915.723874</td>\n",
       "      <td>3774.564481</td>\n",
       "      <td>3312.615726</td>\n",
       "    </tr>\n",
       "    <tr>\n",
       "      <th>5</th>\n",
       "      <td>160.227221</td>\n",
       "      <td>48.184515</td>\n",
       "      <td>27.809628</td>\n",
       "      <td>45982.190638</td>\n",
       "      <td>98.958892</td>\n",
       "      <td>100.000000</td>\n",
       "      <td>4.700731</td>\n",
       "      <td>24722.397435</td>\n",
       "      <td>5844.362976</td>\n",
       "      <td>2198.971172</td>\n",
       "    </tr>\n",
       "    <tr>\n",
       "      <th>6</th>\n",
       "      <td>179.500884</td>\n",
       "      <td>70.686378</td>\n",
       "      <td>23.736023</td>\n",
       "      <td>33698.016530</td>\n",
       "      <td>91.787796</td>\n",
       "      <td>37.931905</td>\n",
       "      <td>50.000000</td>\n",
       "      <td>15435.888873</td>\n",
       "      <td>3999.784653</td>\n",
       "      <td>2447.808330</td>\n",
       "    </tr>\n",
       "    <tr>\n",
       "      <th>7</th>\n",
       "      <td>168.486428</td>\n",
       "      <td>67.192242</td>\n",
       "      <td>33.887452</td>\n",
       "      <td>54627.822555</td>\n",
       "      <td>78.200752</td>\n",
       "      <td>36.262726</td>\n",
       "      <td>8.698527</td>\n",
       "      <td>1000000.000000</td>\n",
       "      <td>3455.228903</td>\n",
       "      <td>3026.082540</td>\n",
       "    </tr>\n",
       "  </tbody>\n",
       "</table>\n",
       "</div>"
      ],
      "text/plain": [
       "       Height      Weight        Age        Income       Score  Hours_Worked  \\\n",
       "0  250.000000   31.705153  24.757235  43275.395522   68.348502     49.415753   \n",
       "4  188.675580  104.046319  27.451739  51774.261423  200.000000     34.134383   \n",
       "5  160.227221   48.184515  27.809628  45982.190638   98.958892    100.000000   \n",
       "6  179.500884   70.686378  23.736023  33698.016530   91.787796     37.931905   \n",
       "7  168.486428   67.192242  33.887452  54627.822555   78.200752     36.262726   \n",
       "\n",
       "   Experience         Savings         Debt  Expenditure  \n",
       "0    5.752851    12543.712036  4501.967549  2823.003044  \n",
       "4    3.610864    31915.723874  3774.564481  3312.615726  \n",
       "5    4.700731    24722.397435  5844.362976  2198.971172  \n",
       "6   50.000000    15435.888873  3999.784653  2447.808330  \n",
       "7    8.698527  1000000.000000  3455.228903  3026.082540  "
      ]
     },
     "execution_count": 320,
     "metadata": {},
     "output_type": "execute_result"
    }
   ],
   "source": [
    "df_age = df[(df[\"Age\"]<=34.47)& (df[\"Age\"]>=23.65)]\n",
    "df_age.head()"
   ]
  },
  {
   "cell_type": "markdown",
   "id": "9797f95e-fa3f-4990-bbbd-d4c0a291f0d4",
   "metadata": {},
   "source": [
    "### Plot a box plot for the 'Age' column before and after outlier removal."
   ]
  },
  {
   "cell_type": "code",
   "execution_count": 321,
   "id": "728845d8-4b31-47b3-93cb-f3a31ed5fb94",
   "metadata": {},
   "outputs": [
    {
     "data": {
      "image/png": "[encoded data removed]",
      "text/plain": [
       "<Figure size 1000x500 with 2 Axes>"
      ]
     },
     "metadata": {},
     "output_type": "display_data"
    }
   ],
   "source": [
    "plt.figure(figsize=(10,5))\n",
    "plt.subplot(1,2,1)\n",
    "plt.boxplot(df[\"Age\"])\n",
    "plt.title(\"before outlier removal\")\n",
    "# after outlier removal\n",
    "plt.subplot(1,2,2)\n",
    "plt.boxplot(df_age[\"Age\"])\n",
    "plt.title(\"after outlier removal\")\n",
    "plt.show()"
   ]
  },
  {
   "cell_type": "markdown",
   "id": "bc7efeaf-5cad-44c3-bb79-82763c17810a",
   "metadata": {},
   "source": [
    "### Summary statistics (mean, median, std) before and after outlier removal for column 'Age'."
   ]
  },
  {
   "cell_type": "code",
   "execution_count": 322,
   "id": "6d97e333-4265-48de-8ca9-347520bdc85d",
   "metadata": {},
   "outputs": [
    {
     "data": {
      "text/plain": [
       "count     20.000000\n",
       "mean      31.951152\n",
       "std       16.566131\n",
       "min       21.930511\n",
       "25%       25.331309\n",
       "50%       27.997961\n",
       "75%       31.617898\n",
       "max      100.000000\n",
       "Name: Age, dtype: float64"
      ]
     },
     "execution_count": 322,
     "metadata": {},
     "output_type": "execute_result"
    }
   ],
   "source": [
    "df[\"Age\"].describe()"
   ]
  },
  {
   "cell_type": "code",
   "execution_count": 323,
   "id": "6e3216b3-1359-4292-92f4-e7226bc55717",
   "metadata": {},
   "outputs": [
    {
     "data": {
      "text/plain": [
       "count    16.000000\n",
       "mean     28.402422\n",
       "std       3.043411\n",
       "min      23.736023\n",
       "25%      26.501959\n",
       "50%      27.997961\n",
       "75%      30.627529\n",
       "max      33.887452\n",
       "Name: Age, dtype: float64"
      ]
     },
     "execution_count": 323,
     "metadata": {},
     "output_type": "execute_result"
    }
   ],
   "source": [
    "df_age[\"Age\"].describe()"
   ]
  },
  {
   "cell_type": "markdown",
   "id": "6ae5a931-f8b6-462d-a16d-a5e4a076ec5d",
   "metadata": {},
   "source": [
    "### Calculate the 2.5th and 97.5th percentiles for the 'Income' column."
   ]
  },
  {
   "cell_type": "code",
   "execution_count": 324,
   "id": "2adccb78-bca8-4a19-93af-b7ffe9269d50",
   "metadata": {},
   "outputs": [
    {
     "data": {
      "text/plain": [
       "(554162.1532515794, 42831.05861283652)"
      ]
     },
     "execution_count": 324,
     "metadata": {},
     "output_type": "execute_result"
    }
   ],
   "source": [
    "upper_limit = df[\"Income\"].quantile(0.975)\n",
    "lower_limit = df[\"Income\"].quantile(0.25)\n",
    "upper_limit , lower_limit"
   ]
  },
  {
   "cell_type": "code",
   "execution_count": 325,
   "id": "164909c8-1479-4834-a789-4e12242048d7",
   "metadata": {},
   "outputs": [
    {
     "data": {
      "text/html": [
       "<div>\n",
       "<style scoped>\n",
       "    .dataframe tbody tr th:only-of-type {\n",
       "        vertical-align: middle;\n",
       "    }\n",
       "\n",
       "    .dataframe tbody tr th {\n",
       "        vertical-align: top;\n",
       "    }\n",
       "\n",
       "    .dataframe thead th {\n",
       "        text-align: right;\n",
       "    }\n",
       "</style>\n",
       "<table border=\"1\" class=\"dataframe\">\n",
       "  <thead>\n",
       "    <tr style=\"text-align: right;\">\n",
       "      <th></th>\n",
       "      <th>Height</th>\n",
       "      <th>Weight</th>\n",
       "      <th>Age</th>\n",
       "      <th>Income</th>\n",
       "      <th>Score</th>\n",
       "      <th>Hours_Worked</th>\n",
       "      <th>Experience</th>\n",
       "      <th>Savings</th>\n",
       "      <th>Debt</th>\n",
       "      <th>Expenditure</th>\n",
       "    </tr>\n",
       "  </thead>\n",
       "  <tbody>\n",
       "    <tr>\n",
       "      <th>2</th>\n",
       "      <td>179.787380</td>\n",
       "      <td>82.966543</td>\n",
       "      <td>100.000000</td>\n",
       "      <td>41868.537180</td>\n",
       "      <td>84.656624</td>\n",
       "      <td>33.647575</td>\n",
       "      <td>5.596476</td>\n",
       "      <td>20833.367477</td>\n",
       "      <td>5949.420807</td>\n",
       "      <td>2678.190799</td>\n",
       "    </tr>\n",
       "    <tr>\n",
       "      <th>3</th>\n",
       "      <td>192.408932</td>\n",
       "      <td>58.867525</td>\n",
       "      <td>39.753877</td>\n",
       "      <td>1000000.000000</td>\n",
       "      <td>64.637563</td>\n",
       "      <td>44.846984</td>\n",
       "      <td>7.652772</td>\n",
       "      <td>23175.157184</td>\n",
       "      <td>5087.551241</td>\n",
       "      <td>1888.298424</td>\n",
       "    </tr>\n",
       "    <tr>\n",
       "      <th>6</th>\n",
       "      <td>179.500884</td>\n",
       "      <td>70.686378</td>\n",
       "      <td>23.736023</td>\n",
       "      <td>33698.016530</td>\n",
       "      <td>91.787796</td>\n",
       "      <td>37.931905</td>\n",
       "      <td>50.000000</td>\n",
       "      <td>15435.888873</td>\n",
       "      <td>3999.784653</td>\n",
       "      <td>2447.808330</td>\n",
       "    </tr>\n",
       "    <tr>\n",
       "      <th>8</th>\n",
       "      <td>168.967811</td>\n",
       "      <td>92.991688</td>\n",
       "      <td>21.930511</td>\n",
       "      <td>40927.016356</td>\n",
       "      <td>69.292474</td>\n",
       "      <td>49.614710</td>\n",
       "      <td>6.344590</td>\n",
       "      <td>13420.462947</td>\n",
       "      <td>50000.000000</td>\n",
       "      <td>2630.218502</td>\n",
       "    </tr>\n",
       "    <tr>\n",
       "      <th>13</th>\n",
       "      <td>171.216750</td>\n",
       "      <td>40.288053</td>\n",
       "      <td>24.096839</td>\n",
       "      <td>37651.741796</td>\n",
       "      <td>89.766390</td>\n",
       "      <td>49.550325</td>\n",
       "      <td>5.063661</td>\n",
       "      <td>15867.807307</td>\n",
       "      <td>4348.974407</td>\n",
       "      <td>2415.953251</td>\n",
       "    </tr>\n",
       "    <tr>\n",
       "      <th>16</th>\n",
       "      <td>184.940791</td>\n",
       "      <td>88.454360</td>\n",
       "      <td>30.332586</td>\n",
       "      <td>41292.028508</td>\n",
       "      <td>80.105000</td>\n",
       "      <td>44.736260</td>\n",
       "      <td>6.153182</td>\n",
       "      <td>25633.179611</td>\n",
       "      <td>4196.590336</td>\n",
       "      <td>3385.895276</td>\n",
       "    </tr>\n",
       "  </tbody>\n",
       "</table>\n",
       "</div>"
      ],
      "text/plain": [
       "        Height     Weight         Age          Income      Score  \\\n",
       "2   179.787380  82.966543  100.000000    41868.537180  84.656624   \n",
       "3   192.408932  58.867525   39.753877  1000000.000000  64.637563   \n",
       "6   179.500884  70.686378   23.736023    33698.016530  91.787796   \n",
       "8   168.967811  92.991688   21.930511    40927.016356  69.292474   \n",
       "13  171.216750  40.288053   24.096839    37651.741796  89.766390   \n",
       "16  184.940791  88.454360   30.332586    41292.028508  80.105000   \n",
       "\n",
       "    Hours_Worked  Experience       Savings          Debt  Expenditure  \n",
       "2      33.647575    5.596476  20833.367477   5949.420807  2678.190799  \n",
       "3      44.846984    7.652772  23175.157184   5087.551241  1888.298424  \n",
       "6      37.931905   50.000000  15435.888873   3999.784653  2447.808330  \n",
       "8      49.614710    6.344590  13420.462947  50000.000000  2630.218502  \n",
       "13     49.550325    5.063661  15867.807307   4348.974407  2415.953251  \n",
       "16     44.736260    6.153182  25633.179611   4196.590336  3385.895276  "
      ]
     },
     "execution_count": 325,
     "metadata": {},
     "output_type": "execute_result"
    }
   ],
   "source": [
    "df[(df[\"Income\"]>=554162.15)|(df[\"Income\"]<=42831.05)]"
   ]
  },
  {
   "cell_type": "markdown",
   "id": "8a17a5d1-0154-4f10-8cfb-4b6adcac8070",
   "metadata": {},
   "source": [
    "### Remove outliers from the 'Income' column that are below the 2.5th percentile or above the 97.5th percentile."
   ]
  },
  {
   "cell_type": "code",
   "execution_count": 326,
   "id": "bb6d27d9-4333-4795-b6ee-afa2d06ec339",
   "metadata": {},
   "outputs": [
    {
     "data": {
      "text/html": [
       "<div>\n",
       "<style scoped>\n",
       "    .dataframe tbody tr th:only-of-type {\n",
       "        vertical-align: middle;\n",
       "    }\n",
       "\n",
       "    .dataframe tbody tr th {\n",
       "        vertical-align: top;\n",
       "    }\n",
       "\n",
       "    .dataframe thead th {\n",
       "        text-align: right;\n",
       "    }\n",
       "</style>\n",
       "<table border=\"1\" class=\"dataframe\">\n",
       "  <thead>\n",
       "    <tr style=\"text-align: right;\">\n",
       "      <th></th>\n",
       "      <th>Height</th>\n",
       "      <th>Weight</th>\n",
       "      <th>Age</th>\n",
       "      <th>Income</th>\n",
       "      <th>Score</th>\n",
       "      <th>Hours_Worked</th>\n",
       "      <th>Experience</th>\n",
       "      <th>Savings</th>\n",
       "      <th>Debt</th>\n",
       "      <th>Expenditure</th>\n",
       "    </tr>\n",
       "  </thead>\n",
       "  <tbody>\n",
       "    <tr>\n",
       "      <th>0</th>\n",
       "      <td>250.000000</td>\n",
       "      <td>31.705153</td>\n",
       "      <td>24.757235</td>\n",
       "      <td>43275.395522</td>\n",
       "      <td>68.348502</td>\n",
       "      <td>49.415753</td>\n",
       "      <td>5.752851</td>\n",
       "      <td>12543.712036</td>\n",
       "      <td>4501.967549</td>\n",
       "      <td>2823.003044</td>\n",
       "    </tr>\n",
       "    <tr>\n",
       "      <th>1</th>\n",
       "      <td>174.001572</td>\n",
       "      <td>200.000000</td>\n",
       "      <td>22.899910</td>\n",
       "      <td>46404.468385</td>\n",
       "      <td>89.008265</td>\n",
       "      <td>33.261205</td>\n",
       "      <td>2.801198</td>\n",
       "      <td>22196.958506</td>\n",
       "      <td>6929.532054</td>\n",
       "      <td>2312.524353</td>\n",
       "    </tr>\n",
       "    <tr>\n",
       "      <th>4</th>\n",
       "      <td>188.675580</td>\n",
       "      <td>104.046319</td>\n",
       "      <td>27.451739</td>\n",
       "      <td>51774.261423</td>\n",
       "      <td>200.000000</td>\n",
       "      <td>34.134383</td>\n",
       "      <td>3.610864</td>\n",
       "      <td>31915.723874</td>\n",
       "      <td>3774.564481</td>\n",
       "      <td>3312.615726</td>\n",
       "    </tr>\n",
       "    <tr>\n",
       "      <th>5</th>\n",
       "      <td>160.227221</td>\n",
       "      <td>48.184515</td>\n",
       "      <td>27.809628</td>\n",
       "      <td>45982.190638</td>\n",
       "      <td>98.958892</td>\n",
       "      <td>100.000000</td>\n",
       "      <td>4.700731</td>\n",
       "      <td>24722.397435</td>\n",
       "      <td>5844.362976</td>\n",
       "      <td>2198.971172</td>\n",
       "    </tr>\n",
       "    <tr>\n",
       "      <th>7</th>\n",
       "      <td>168.486428</td>\n",
       "      <td>67.192242</td>\n",
       "      <td>33.887452</td>\n",
       "      <td>54627.822555</td>\n",
       "      <td>78.200752</td>\n",
       "      <td>36.262726</td>\n",
       "      <td>8.698527</td>\n",
       "      <td>1000000.000000</td>\n",
       "      <td>3455.228903</td>\n",
       "      <td>3026.082540</td>\n",
       "    </tr>\n",
       "  </tbody>\n",
       "</table>\n",
       "</div>"
      ],
      "text/plain": [
       "       Height      Weight        Age        Income       Score  Hours_Worked  \\\n",
       "0  250.000000   31.705153  24.757235  43275.395522   68.348502     49.415753   \n",
       "1  174.001572  200.000000  22.899910  46404.468385   89.008265     33.261205   \n",
       "4  188.675580  104.046319  27.451739  51774.261423  200.000000     34.134383   \n",
       "5  160.227221   48.184515  27.809628  45982.190638   98.958892    100.000000   \n",
       "7  168.486428   67.192242  33.887452  54627.822555   78.200752     36.262726   \n",
       "\n",
       "   Experience         Savings         Debt  Expenditure  \n",
       "0    5.752851    12543.712036  4501.967549  2823.003044  \n",
       "1    2.801198    22196.958506  6929.532054  2312.524353  \n",
       "4    3.610864    31915.723874  3774.564481  3312.615726  \n",
       "5    4.700731    24722.397435  5844.362976  2198.971172  \n",
       "7    8.698527  1000000.000000  3455.228903  3026.082540  "
      ]
     },
     "execution_count": 326,
     "metadata": {},
     "output_type": "execute_result"
    }
   ],
   "source": [
    "df_income = df[(df[\"Income\"]<=554162.15)&(df[\"Income\"]>=42831.05)]\n",
    "df_income.head()"
   ]
  },
  {
   "cell_type": "markdown",
   "id": "c2e4fd54-a854-4fa9-8810-1c1c5c3321ea",
   "metadata": {},
   "source": [
    "### Plot a box plot for the 'Income' column before and after outlier removal."
   ]
  },
  {
   "cell_type": "code",
   "execution_count": 327,
   "id": "b150bb0c-757d-4338-b1e4-c58307c7ccb5",
   "metadata": {},
   "outputs": [
    {
     "data": {
      "image/png": "[encoded data removed]",
      "text/plain": [
       "<Figure size 1000x500 with 2 Axes>"
      ]
     },
     "metadata": {},
     "output_type": "display_data"
    }
   ],
   "source": [
    "plt.figure(figsize=(10,5))\n",
    "plt.subplot(1,2,1)\n",
    "plt.boxplot(df[\"Income\"])\n",
    "plt.title(\"before outlier removal:\")\n",
    "# after outlier removal\n",
    "\n",
    "plt.subplot(1,2,2)\n",
    "plt.boxplot(df_income[\"Income\"])\n",
    "plt.title(\"After outlier removal\")\n",
    "\n",
    "plt.show()"
   ]
  },
  {
   "cell_type": "markdown",
   "id": "416fee82-90f4-46f5-bbe6-a3a04f897967",
   "metadata": {},
   "source": [
    " ### Summary statistics (mean, median, std) before and after outlier removal for column 'Income'."
   ]
  },
  {
   "cell_type": "code",
   "execution_count": 328,
   "id": "98bde899-fb13-4bc8-bfe3-beb3d4f4a6a3",
   "metadata": {},
   "outputs": [
    {
     "data": {
      "text/plain": [
       "count         20.000000\n",
       "mean       94841.431069\n",
       "std       213161.392613\n",
       "min        33698.016530\n",
       "25%        42831.058613\n",
       "50%        46644.471532\n",
       "75%        52336.550170\n",
       "max      1000000.000000\n",
       "Name: Income, dtype: float64"
      ]
     },
     "execution_count": 328,
     "metadata": {},
     "output_type": "execute_result"
    }
   ],
   "source": [
    "df[\"Income\"].describe()"
   ]
  },
  {
   "cell_type": "code",
   "execution_count": 329,
   "id": "1f02fa92-6e89-4172-aa6f-abe3edc4db80",
   "metadata": {},
   "outputs": [
    {
     "data": {
      "text/plain": [
       "count       14.000000\n",
       "mean     50099.377215\n",
       "std       5478.943109\n",
       "min      43151.899091\n",
       "25%      46087.760075\n",
       "50%      50540.553690\n",
       "75%      53461.127664\n",
       "max      61394.006845\n",
       "Name: Income, dtype: float64"
      ]
     },
     "execution_count": 329,
     "metadata": {},
     "output_type": "execute_result"
    }
   ],
   "source": [
    "df_income[\"Income\"].describe()"
   ]
  },
  {
   "cell_type": "markdown",
   "id": "92e9bc7e-cd5f-4b0d-ab54-57cb99cc4ffb",
   "metadata": {},
   "source": [
    "### Identify the 25th and 75th percentiles for the 'Score' column."
   ]
  },
  {
   "cell_type": "code",
   "execution_count": 330,
   "id": "493c9e42-e3fd-4e16-9492-716cdc81bf65",
   "metadata": {},
   "outputs": [
    {
     "data": {
      "text/plain": [
       "(90.85533687988264, 79.62893806587527)"
      ]
     },
     "execution_count": 330,
     "metadata": {},
     "output_type": "execute_result"
    }
   ],
   "source": [
    "upper_limit = df[\"Score\"].quantile(0.75)\n",
    "lower_limit = df[\"Score\"].quantile(0.25)\n",
    "upper_limit , lower_limit"
   ]
  },
  {
   "cell_type": "code",
   "execution_count": 331,
   "id": "305341d2-304f-48ca-b7d4-6e1e2a401a3b",
   "metadata": {},
   "outputs": [
    {
     "data": {
      "text/html": [
       "<div>\n",
       "<style scoped>\n",
       "    .dataframe tbody tr th:only-of-type {\n",
       "        vertical-align: middle;\n",
       "    }\n",
       "\n",
       "    .dataframe tbody tr th {\n",
       "        vertical-align: top;\n",
       "    }\n",
       "\n",
       "    .dataframe thead th {\n",
       "        text-align: right;\n",
       "    }\n",
       "</style>\n",
       "<table border=\"1\" class=\"dataframe\">\n",
       "  <thead>\n",
       "    <tr style=\"text-align: right;\">\n",
       "      <th></th>\n",
       "      <th>Height</th>\n",
       "      <th>Weight</th>\n",
       "      <th>Age</th>\n",
       "      <th>Income</th>\n",
       "      <th>Score</th>\n",
       "      <th>Hours_Worked</th>\n",
       "      <th>Experience</th>\n",
       "      <th>Savings</th>\n",
       "      <th>Debt</th>\n",
       "      <th>Expenditure</th>\n",
       "    </tr>\n",
       "  </thead>\n",
       "  <tbody>\n",
       "    <tr>\n",
       "      <th>0</th>\n",
       "      <td>250.000000</td>\n",
       "      <td>31.705153</td>\n",
       "      <td>24.757235</td>\n",
       "      <td>43275.395522</td>\n",
       "      <td>68.348502</td>\n",
       "      <td>49.415753</td>\n",
       "      <td>5.752851</td>\n",
       "      <td>12543.712036</td>\n",
       "      <td>4501.967549</td>\n",
       "      <td>2823.003044</td>\n",
       "    </tr>\n",
       "    <tr>\n",
       "      <th>3</th>\n",
       "      <td>192.408932</td>\n",
       "      <td>58.867525</td>\n",
       "      <td>39.753877</td>\n",
       "      <td>1000000.000000</td>\n",
       "      <td>64.637563</td>\n",
       "      <td>44.846984</td>\n",
       "      <td>7.652772</td>\n",
       "      <td>23175.157184</td>\n",
       "      <td>5087.551241</td>\n",
       "      <td>1888.298424</td>\n",
       "    </tr>\n",
       "    <tr>\n",
       "      <th>4</th>\n",
       "      <td>188.675580</td>\n",
       "      <td>104.046319</td>\n",
       "      <td>27.451739</td>\n",
       "      <td>51774.261423</td>\n",
       "      <td>200.000000</td>\n",
       "      <td>34.134383</td>\n",
       "      <td>3.610864</td>\n",
       "      <td>31915.723874</td>\n",
       "      <td>3774.564481</td>\n",
       "      <td>3312.615726</td>\n",
       "    </tr>\n",
       "    <tr>\n",
       "      <th>5</th>\n",
       "      <td>160.227221</td>\n",
       "      <td>48.184515</td>\n",
       "      <td>27.809628</td>\n",
       "      <td>45982.190638</td>\n",
       "      <td>98.958892</td>\n",
       "      <td>100.000000</td>\n",
       "      <td>4.700731</td>\n",
       "      <td>24722.397435</td>\n",
       "      <td>5844.362976</td>\n",
       "      <td>2198.971172</td>\n",
       "    </tr>\n",
       "    <tr>\n",
       "      <th>6</th>\n",
       "      <td>179.500884</td>\n",
       "      <td>70.686378</td>\n",
       "      <td>23.736023</td>\n",
       "      <td>33698.016530</td>\n",
       "      <td>91.787796</td>\n",
       "      <td>37.931905</td>\n",
       "      <td>50.000000</td>\n",
       "      <td>15435.888873</td>\n",
       "      <td>3999.784653</td>\n",
       "      <td>2447.808330</td>\n",
       "    </tr>\n",
       "    <tr>\n",
       "      <th>7</th>\n",
       "      <td>168.486428</td>\n",
       "      <td>67.192242</td>\n",
       "      <td>33.887452</td>\n",
       "      <td>54627.822555</td>\n",
       "      <td>78.200752</td>\n",
       "      <td>36.262726</td>\n",
       "      <td>8.698527</td>\n",
       "      <td>1000000.000000</td>\n",
       "      <td>3455.228903</td>\n",
       "      <td>3026.082540</td>\n",
       "    </tr>\n",
       "    <tr>\n",
       "      <th>8</th>\n",
       "      <td>168.967811</td>\n",
       "      <td>92.991688</td>\n",
       "      <td>21.930511</td>\n",
       "      <td>40927.016356</td>\n",
       "      <td>69.292474</td>\n",
       "      <td>49.614710</td>\n",
       "      <td>6.344590</td>\n",
       "      <td>13420.462947</td>\n",
       "      <td>50000.000000</td>\n",
       "      <td>2630.218502</td>\n",
       "    </tr>\n",
       "    <tr>\n",
       "      <th>10</th>\n",
       "      <td>171.440436</td>\n",
       "      <td>72.324211</td>\n",
       "      <td>25.522667</td>\n",
       "      <td>57290.905622</td>\n",
       "      <td>75.968231</td>\n",
       "      <td>49.337795</td>\n",
       "      <td>3.460168</td>\n",
       "      <td>19658.791973</td>\n",
       "      <td>5920.858824</td>\n",
       "      <td>2353.571545</td>\n",
       "    </tr>\n",
       "    <tr>\n",
       "      <th>11</th>\n",
       "      <td>184.542735</td>\n",
       "      <td>75.672438</td>\n",
       "      <td>31.934512</td>\n",
       "      <td>51289.829108</td>\n",
       "      <td>92.224451</td>\n",
       "      <td>44.530223</td>\n",
       "      <td>6.078498</td>\n",
       "      <td>28566.713608</td>\n",
       "      <td>5318.727653</td>\n",
       "      <td>3133.525435</td>\n",
       "    </tr>\n",
       "    <tr>\n",
       "      <th>17</th>\n",
       "      <td>167.948417</td>\n",
       "      <td>88.035698</td>\n",
       "      <td>31.512359</td>\n",
       "      <td>44211.503352</td>\n",
       "      <td>97.858705</td>\n",
       "      <td>39.224950</td>\n",
       "      <td>4.583402</td>\n",
       "      <td>14600.342458</td>\n",
       "      <td>4310.450222</td>\n",
       "      <td>3411.752077</td>\n",
       "    </tr>\n",
       "  </tbody>\n",
       "</table>\n",
       "</div>"
      ],
      "text/plain": [
       "        Height      Weight        Age          Income       Score  \\\n",
       "0   250.000000   31.705153  24.757235    43275.395522   68.348502   \n",
       "3   192.408932   58.867525  39.753877  1000000.000000   64.637563   \n",
       "4   188.675580  104.046319  27.451739    51774.261423  200.000000   \n",
       "5   160.227221   48.184515  27.809628    45982.190638   98.958892   \n",
       "6   179.500884   70.686378  23.736023    33698.016530   91.787796   \n",
       "7   168.486428   67.192242  33.887452    54627.822555   78.200752   \n",
       "8   168.967811   92.991688  21.930511    40927.016356   69.292474   \n",
       "10  171.440436   72.324211  25.522667    57290.905622   75.968231   \n",
       "11  184.542735   75.672438  31.934512    51289.829108   92.224451   \n",
       "17  167.948417   88.035698  31.512359    44211.503352   97.858705   \n",
       "\n",
       "    Hours_Worked  Experience         Savings          Debt  Expenditure  \n",
       "0      49.415753    5.752851    12543.712036   4501.967549  2823.003044  \n",
       "3      44.846984    7.652772    23175.157184   5087.551241  1888.298424  \n",
       "4      34.134383    3.610864    31915.723874   3774.564481  3312.615726  \n",
       "5     100.000000    4.700731    24722.397435   5844.362976  2198.971172  \n",
       "6      37.931905   50.000000    15435.888873   3999.784653  2447.808330  \n",
       "7      36.262726    8.698527  1000000.000000   3455.228903  3026.082540  \n",
       "8      49.614710    6.344590    13420.462947  50000.000000  2630.218502  \n",
       "10     49.337795    3.460168    19658.791973   5920.858824  2353.571545  \n",
       "11     44.530223    6.078498    28566.713608   5318.727653  3133.525435  \n",
       "17     39.224950    4.583402    14600.342458   4310.450222  3411.752077  "
      ]
     },
     "execution_count": 331,
     "metadata": {},
     "output_type": "execute_result"
    }
   ],
   "source": [
    "df[(df[\"Score\"]>=90.85)|(df[\"Score\"]<=79.62)]"
   ]
  },
  {
   "cell_type": "markdown",
   "id": "4b9d9511-304b-43dd-97c9-f5de9c7ec1eb",
   "metadata": {},
   "source": [
    "### Remove outliers from the 'Score' column that are below the 25th percentile or above the 75th percentile."
   ]
  },
  {
   "cell_type": "code",
   "execution_count": 332,
   "id": "dbf0a73c-0cb8-4507-8140-7e1b033f0bbd",
   "metadata": {},
   "outputs": [
    {
     "data": {
      "text/html": [
       "<div>\n",
       "<style scoped>\n",
       "    .dataframe tbody tr th:only-of-type {\n",
       "        vertical-align: middle;\n",
       "    }\n",
       "\n",
       "    .dataframe tbody tr th {\n",
       "        vertical-align: top;\n",
       "    }\n",
       "\n",
       "    .dataframe thead th {\n",
       "        text-align: right;\n",
       "    }\n",
       "</style>\n",
       "<table border=\"1\" class=\"dataframe\">\n",
       "  <thead>\n",
       "    <tr style=\"text-align: right;\">\n",
       "      <th></th>\n",
       "      <th>Height</th>\n",
       "      <th>Weight</th>\n",
       "      <th>Age</th>\n",
       "      <th>Income</th>\n",
       "      <th>Score</th>\n",
       "      <th>Hours_Worked</th>\n",
       "      <th>Experience</th>\n",
       "      <th>Savings</th>\n",
       "      <th>Debt</th>\n",
       "      <th>Expenditure</th>\n",
       "    </tr>\n",
       "  </thead>\n",
       "  <tbody>\n",
       "    <tr>\n",
       "      <th>1</th>\n",
       "      <td>174.001572</td>\n",
       "      <td>200.000000</td>\n",
       "      <td>22.899910</td>\n",
       "      <td>46404.468385</td>\n",
       "      <td>89.008265</td>\n",
       "      <td>33.261205</td>\n",
       "      <td>2.801198</td>\n",
       "      <td>22196.958506</td>\n",
       "      <td>6929.532054</td>\n",
       "      <td>2312.524353</td>\n",
       "    </tr>\n",
       "    <tr>\n",
       "      <th>2</th>\n",
       "      <td>179.787380</td>\n",
       "      <td>82.966543</td>\n",
       "      <td>100.000000</td>\n",
       "      <td>41868.537180</td>\n",
       "      <td>84.656624</td>\n",
       "      <td>33.647575</td>\n",
       "      <td>5.596476</td>\n",
       "      <td>20833.367477</td>\n",
       "      <td>5949.420807</td>\n",
       "      <td>2678.190799</td>\n",
       "    </tr>\n",
       "    <tr>\n",
       "      <th>9</th>\n",
       "      <td>174.105985</td>\n",
       "      <td>92.040382</td>\n",
       "      <td>28.936299</td>\n",
       "      <td>50519.453958</td>\n",
       "      <td>90.544517</td>\n",
       "      <td>47.402574</td>\n",
       "      <td>5.814924</td>\n",
       "      <td>17692.076976</td>\n",
       "      <td>5316.942612</td>\n",
       "      <td>100000.000000</td>\n",
       "    </tr>\n",
       "    <tr>\n",
       "      <th>12</th>\n",
       "      <td>177.610377</td>\n",
       "      <td>56.683214</td>\n",
       "      <td>27.445974</td>\n",
       "      <td>61394.006845</td>\n",
       "      <td>82.082750</td>\n",
       "      <td>35.693872</td>\n",
       "      <td>3.651335</td>\n",
       "      <td>16276.225890</td>\n",
       "      <td>5856.830612</td>\n",
       "      <td>2980.358591</td>\n",
       "    </tr>\n",
       "    <tr>\n",
       "      <th>13</th>\n",
       "      <td>171.216750</td>\n",
       "      <td>40.288053</td>\n",
       "      <td>24.096839</td>\n",
       "      <td>37651.741796</td>\n",
       "      <td>89.766390</td>\n",
       "      <td>49.550325</td>\n",
       "      <td>5.063661</td>\n",
       "      <td>15867.807307</td>\n",
       "      <td>4348.974407</td>\n",
       "      <td>2415.953251</td>\n",
       "    </tr>\n",
       "  </tbody>\n",
       "</table>\n",
       "</div>"
      ],
      "text/plain": [
       "        Height      Weight         Age        Income      Score  Hours_Worked  \\\n",
       "1   174.001572  200.000000   22.899910  46404.468385  89.008265     33.261205   \n",
       "2   179.787380   82.966543  100.000000  41868.537180  84.656624     33.647575   \n",
       "9   174.105985   92.040382   28.936299  50519.453958  90.544517     47.402574   \n",
       "12  177.610377   56.683214   27.445974  61394.006845  82.082750     35.693872   \n",
       "13  171.216750   40.288053   24.096839  37651.741796  89.766390     49.550325   \n",
       "\n",
       "    Experience       Savings         Debt    Expenditure  \n",
       "1     2.801198  22196.958506  6929.532054    2312.524353  \n",
       "2     5.596476  20833.367477  5949.420807    2678.190799  \n",
       "9     5.814924  17692.076976  5316.942612  100000.000000  \n",
       "12    3.651335  16276.225890  5856.830612    2980.358591  \n",
       "13    5.063661  15867.807307  4348.974407    2415.953251  "
      ]
     },
     "execution_count": 332,
     "metadata": {},
     "output_type": "execute_result"
    }
   ],
   "source": [
    "df_score = df[(df[\"Score\"]<=90.85)&(df[\"Score\"]>=79.62)]\n",
    "df_score.head()"
   ]
  },
  {
   "cell_type": "markdown",
   "id": "90f5f82a-90e9-41fb-85df-12b2b31cb961",
   "metadata": {},
   "source": [
    "### Plot a box plot for the 'Score' column before and after outlier removal."
   ]
  },
  {
   "cell_type": "code",
   "execution_count": 333,
   "id": "d64ba840-ba38-4151-88a5-fd01fafbef48",
   "metadata": {},
   "outputs": [
    {
     "data": {
      "image/png": "[encoded data removed]",
      "text/plain": [
       "<Figure size 1000x500 with 2 Axes>"
      ]
     },
     "metadata": {},
     "output_type": "display_data"
    }
   ],
   "source": [
    "# before removal outlier\n",
    "plt.figure(figsize=(10,5))\n",
    "plt.subplot(1,2,1)\n",
    "plt.boxplot(df[\"Score\"])\n",
    "plt.title(\"Before Outlier remval\")\n",
    " \n",
    "# after outlier removal\n",
    "\n",
    "plt.subplot(1,2,2)\n",
    "plt.boxplot(df_score[\"Score\"])\n",
    "plt.title(\"After removal outlier\")\n",
    "\n",
    "plt.show()"
   ]
  },
  {
   "cell_type": "markdown",
   "id": "dc74563e-12ac-4d38-aebc-0ba7681f6873",
   "metadata": {},
   "source": [
    "### Summary statistics (mean, median, std) before and after outlier removal for column 'Score'.¶"
   ]
  },
  {
   "cell_type": "code",
   "execution_count": 334,
   "id": "9db93d80-184b-44e9-bd73-5526ae9f7f91",
   "metadata": {},
   "outputs": [
    {
     "data": {
      "text/plain": [
       "count     20.000000\n",
       "mean      89.467966\n",
       "std       27.600501\n",
       "min       64.637563\n",
       "25%       79.628938\n",
       "50%       84.338259\n",
       "75%       90.855337\n",
       "max      200.000000\n",
       "Name: Score, dtype: float64"
      ]
     },
     "execution_count": 334,
     "metadata": {},
     "output_type": "execute_result"
    }
   ],
   "source": [
    "# before outlier removal\n",
    "df[\"Score\"].describe()"
   ]
  },
  {
   "cell_type": "code",
   "execution_count": 335,
   "id": "227b170d-281a-482a-a284-aba0654f7e5a",
   "metadata": {},
   "outputs": [
    {
     "data": {
      "text/plain": [
       "count    10.000000\n",
       "mean     85.208196\n",
       "std       3.695230\n",
       "min      80.105000\n",
       "25%      82.452978\n",
       "50%      84.338259\n",
       "75%      88.522632\n",
       "max      90.544517\n",
       "Name: Score, dtype: float64"
      ]
     },
     "execution_count": 335,
     "metadata": {},
     "output_type": "execute_result"
    }
   ],
   "source": [
    "# after outlier removal\n",
    "df_score[\"Score\"].describe()"
   ]
  },
  {
   "cell_type": "markdown",
   "id": "cf2412e5-a80d-4b3b-b176-edbb6d0e69f2",
   "metadata": {},
   "source": [
    "### Calculate the 15th and 85th percentiles for the 'Hours_Worked' column."
   ]
  },
  {
   "cell_type": "code",
   "execution_count": 336,
   "id": "a4e22db6-46d0-4562-acdb-8651e941e03e",
   "metadata": {},
   "outputs": [
    {
     "data": {
      "text/plain": [
       "(49.43593917731336, 35.45994828468189)"
      ]
     },
     "execution_count": 336,
     "metadata": {},
     "output_type": "execute_result"
    }
   ],
   "source": [
    "upper_limit = df[\"Hours_Worked\"].quantile(0.85)\n",
    "lower_limit = df[\"Hours_Worked\"].quantile(0.15)\n",
    "upper_limit , lower_limit"
   ]
  },
  {
   "cell_type": "code",
   "execution_count": 337,
   "id": "6a44fdb1-c158-43e5-8b52-fd959778d212",
   "metadata": {},
   "outputs": [
    {
     "data": {
      "text/html": [
       "<div>\n",
       "<style scoped>\n",
       "    .dataframe tbody tr th:only-of-type {\n",
       "        vertical-align: middle;\n",
       "    }\n",
       "\n",
       "    .dataframe tbody tr th {\n",
       "        vertical-align: top;\n",
       "    }\n",
       "\n",
       "    .dataframe thead th {\n",
       "        text-align: right;\n",
       "    }\n",
       "</style>\n",
       "<table border=\"1\" class=\"dataframe\">\n",
       "  <thead>\n",
       "    <tr style=\"text-align: right;\">\n",
       "      <th></th>\n",
       "      <th>Height</th>\n",
       "      <th>Weight</th>\n",
       "      <th>Age</th>\n",
       "      <th>Income</th>\n",
       "      <th>Score</th>\n",
       "      <th>Hours_Worked</th>\n",
       "      <th>Experience</th>\n",
       "      <th>Savings</th>\n",
       "      <th>Debt</th>\n",
       "      <th>Expenditure</th>\n",
       "    </tr>\n",
       "  </thead>\n",
       "  <tbody>\n",
       "    <tr>\n",
       "      <th>1</th>\n",
       "      <td>174.001572</td>\n",
       "      <td>200.000000</td>\n",
       "      <td>22.899910</td>\n",
       "      <td>46404.468385</td>\n",
       "      <td>89.008265</td>\n",
       "      <td>33.261205</td>\n",
       "      <td>2.801198</td>\n",
       "      <td>22196.958506</td>\n",
       "      <td>6929.532054</td>\n",
       "      <td>2312.524353</td>\n",
       "    </tr>\n",
       "    <tr>\n",
       "      <th>2</th>\n",
       "      <td>179.787380</td>\n",
       "      <td>82.966543</td>\n",
       "      <td>100.000000</td>\n",
       "      <td>41868.537180</td>\n",
       "      <td>84.656624</td>\n",
       "      <td>33.647575</td>\n",
       "      <td>5.596476</td>\n",
       "      <td>20833.367477</td>\n",
       "      <td>5949.420807</td>\n",
       "      <td>2678.190799</td>\n",
       "    </tr>\n",
       "    <tr>\n",
       "      <th>4</th>\n",
       "      <td>188.675580</td>\n",
       "      <td>104.046319</td>\n",
       "      <td>27.451739</td>\n",
       "      <td>51774.261423</td>\n",
       "      <td>200.000000</td>\n",
       "      <td>34.134383</td>\n",
       "      <td>3.610864</td>\n",
       "      <td>31915.723874</td>\n",
       "      <td>3774.564481</td>\n",
       "      <td>3312.615726</td>\n",
       "    </tr>\n",
       "    <tr>\n",
       "      <th>5</th>\n",
       "      <td>160.227221</td>\n",
       "      <td>48.184515</td>\n",
       "      <td>27.809628</td>\n",
       "      <td>45982.190638</td>\n",
       "      <td>98.958892</td>\n",
       "      <td>100.000000</td>\n",
       "      <td>4.700731</td>\n",
       "      <td>24722.397435</td>\n",
       "      <td>5844.362976</td>\n",
       "      <td>2198.971172</td>\n",
       "    </tr>\n",
       "    <tr>\n",
       "      <th>8</th>\n",
       "      <td>168.967811</td>\n",
       "      <td>92.991688</td>\n",
       "      <td>21.930511</td>\n",
       "      <td>40927.016356</td>\n",
       "      <td>69.292474</td>\n",
       "      <td>49.614710</td>\n",
       "      <td>6.344590</td>\n",
       "      <td>13420.462947</td>\n",
       "      <td>50000.000000</td>\n",
       "      <td>2630.218502</td>\n",
       "    </tr>\n",
       "    <tr>\n",
       "      <th>13</th>\n",
       "      <td>171.216750</td>\n",
       "      <td>40.288053</td>\n",
       "      <td>24.096839</td>\n",
       "      <td>37651.741796</td>\n",
       "      <td>89.766390</td>\n",
       "      <td>49.550325</td>\n",
       "      <td>5.063661</td>\n",
       "      <td>15867.807307</td>\n",
       "      <td>4348.974407</td>\n",
       "      <td>2415.953251</td>\n",
       "    </tr>\n",
       "  </tbody>\n",
       "</table>\n",
       "</div>"
      ],
      "text/plain": [
       "        Height      Weight         Age        Income       Score  \\\n",
       "1   174.001572  200.000000   22.899910  46404.468385   89.008265   \n",
       "2   179.787380   82.966543  100.000000  41868.537180   84.656624   \n",
       "4   188.675580  104.046319   27.451739  51774.261423  200.000000   \n",
       "5   160.227221   48.184515   27.809628  45982.190638   98.958892   \n",
       "8   168.967811   92.991688   21.930511  40927.016356   69.292474   \n",
       "13  171.216750   40.288053   24.096839  37651.741796   89.766390   \n",
       "\n",
       "    Hours_Worked  Experience       Savings          Debt  Expenditure  \n",
       "1      33.261205    2.801198  22196.958506   6929.532054  2312.524353  \n",
       "2      33.647575    5.596476  20833.367477   5949.420807  2678.190799  \n",
       "4      34.134383    3.610864  31915.723874   3774.564481  3312.615726  \n",
       "5     100.000000    4.700731  24722.397435   5844.362976  2198.971172  \n",
       "8      49.614710    6.344590  13420.462947  50000.000000  2630.218502  \n",
       "13     49.550325    5.063661  15867.807307   4348.974407  2415.953251  "
      ]
     },
     "execution_count": 337,
     "metadata": {},
     "output_type": "execute_result"
    }
   ],
   "source": [
    "df[(df[\"Hours_Worked\"]>=49.43)|(df[\"Hours_Worked\"] <=35.45)]"
   ]
  },
  {
   "cell_type": "markdown",
   "id": "71db2e86-2bb3-48d1-b0fb-a5ce4ef9ee0f",
   "metadata": {},
   "source": [
    "### Remove outliers from the 'Hours_Worked' column that are below the 15th percentile or above the 85th percentile."
   ]
  },
  {
   "cell_type": "code",
   "execution_count": 338,
   "id": "b6f6be84-5ec4-4ad5-9d8f-b95782a427fa",
   "metadata": {},
   "outputs": [
    {
     "data": {
      "text/html": [
       "<div>\n",
       "<style scoped>\n",
       "    .dataframe tbody tr th:only-of-type {\n",
       "        vertical-align: middle;\n",
       "    }\n",
       "\n",
       "    .dataframe tbody tr th {\n",
       "        vertical-align: top;\n",
       "    }\n",
       "\n",
       "    .dataframe thead th {\n",
       "        text-align: right;\n",
       "    }\n",
       "</style>\n",
       "<table border=\"1\" class=\"dataframe\">\n",
       "  <thead>\n",
       "    <tr style=\"text-align: right;\">\n",
       "      <th></th>\n",
       "      <th>Height</th>\n",
       "      <th>Weight</th>\n",
       "      <th>Age</th>\n",
       "      <th>Income</th>\n",
       "      <th>Score</th>\n",
       "      <th>Hours_Worked</th>\n",
       "      <th>Experience</th>\n",
       "      <th>Savings</th>\n",
       "      <th>Debt</th>\n",
       "      <th>Expenditure</th>\n",
       "    </tr>\n",
       "  </thead>\n",
       "  <tbody>\n",
       "    <tr>\n",
       "      <th>0</th>\n",
       "      <td>250.000000</td>\n",
       "      <td>31.705153</td>\n",
       "      <td>24.757235</td>\n",
       "      <td>43275.395522</td>\n",
       "      <td>68.348502</td>\n",
       "      <td>49.415753</td>\n",
       "      <td>5.752851</td>\n",
       "      <td>12543.712036</td>\n",
       "      <td>4501.967549</td>\n",
       "      <td>2823.003044</td>\n",
       "    </tr>\n",
       "    <tr>\n",
       "      <th>3</th>\n",
       "      <td>192.408932</td>\n",
       "      <td>58.867525</td>\n",
       "      <td>39.753877</td>\n",
       "      <td>1000000.000000</td>\n",
       "      <td>64.637563</td>\n",
       "      <td>44.846984</td>\n",
       "      <td>7.652772</td>\n",
       "      <td>23175.157184</td>\n",
       "      <td>5087.551241</td>\n",
       "      <td>1888.298424</td>\n",
       "    </tr>\n",
       "    <tr>\n",
       "      <th>6</th>\n",
       "      <td>179.500884</td>\n",
       "      <td>70.686378</td>\n",
       "      <td>23.736023</td>\n",
       "      <td>33698.016530</td>\n",
       "      <td>91.787796</td>\n",
       "      <td>37.931905</td>\n",
       "      <td>50.000000</td>\n",
       "      <td>15435.888873</td>\n",
       "      <td>3999.784653</td>\n",
       "      <td>2447.808330</td>\n",
       "    </tr>\n",
       "    <tr>\n",
       "      <th>7</th>\n",
       "      <td>168.486428</td>\n",
       "      <td>67.192242</td>\n",
       "      <td>33.887452</td>\n",
       "      <td>54627.822555</td>\n",
       "      <td>78.200752</td>\n",
       "      <td>36.262726</td>\n",
       "      <td>8.698527</td>\n",
       "      <td>1000000.000000</td>\n",
       "      <td>3455.228903</td>\n",
       "      <td>3026.082540</td>\n",
       "    </tr>\n",
       "    <tr>\n",
       "      <th>9</th>\n",
       "      <td>174.105985</td>\n",
       "      <td>92.040382</td>\n",
       "      <td>28.936299</td>\n",
       "      <td>50519.453958</td>\n",
       "      <td>90.544517</td>\n",
       "      <td>47.402574</td>\n",
       "      <td>5.814924</td>\n",
       "      <td>17692.076976</td>\n",
       "      <td>5316.942612</td>\n",
       "      <td>100000.000000</td>\n",
       "    </tr>\n",
       "  </tbody>\n",
       "</table>\n",
       "</div>"
      ],
      "text/plain": [
       "       Height     Weight        Age          Income      Score  Hours_Worked  \\\n",
       "0  250.000000  31.705153  24.757235    43275.395522  68.348502     49.415753   \n",
       "3  192.408932  58.867525  39.753877  1000000.000000  64.637563     44.846984   \n",
       "6  179.500884  70.686378  23.736023    33698.016530  91.787796     37.931905   \n",
       "7  168.486428  67.192242  33.887452    54627.822555  78.200752     36.262726   \n",
       "9  174.105985  92.040382  28.936299    50519.453958  90.544517     47.402574   \n",
       "\n",
       "   Experience         Savings         Debt    Expenditure  \n",
       "0    5.752851    12543.712036  4501.967549    2823.003044  \n",
       "3    7.652772    23175.157184  5087.551241    1888.298424  \n",
       "6   50.000000    15435.888873  3999.784653    2447.808330  \n",
       "7    8.698527  1000000.000000  3455.228903    3026.082540  \n",
       "9    5.814924    17692.076976  5316.942612  100000.000000  "
      ]
     },
     "execution_count": 338,
     "metadata": {},
     "output_type": "execute_result"
    }
   ],
   "source": [
    "df_hours_worked = df[(df[\"Hours_Worked\"]<=49.43)&(df[\"Hours_Worked\"]>=35.45)]\n",
    "df_hours_worked.head()"
   ]
  },
  {
   "cell_type": "markdown",
   "id": "a5127b45-109b-47bf-b1fc-531c2b8e8318",
   "metadata": {},
   "source": [
    "### Plot a box plot for the 'Hour_worked' column before and after outlier removal."
   ]
  },
  {
   "cell_type": "code",
   "execution_count": 339,
   "id": "943ef9a6-3caf-498b-b051-b70c5ccacfa2",
   "metadata": {},
   "outputs": [
    {
     "data": {
      "image/png": "[encoded data removed]",
      "text/plain": [
       "<Figure size 1000x500 with 2 Axes>"
      ]
     },
     "metadata": {},
     "output_type": "display_data"
    }
   ],
   "source": [
    "plt.figure(figsize=(10,5))\n",
    "plt.subplot(1,2,1)\n",
    "plt.boxplot(df[\"Hours_Worked\"])\n",
    "plt.title(\"Before removal outlier\")\n",
    "\n",
    "# after removal outlier\n",
    "plt.subplot(1,2,2)\n",
    "plt.boxplot(df_hours_worked[\"Hours_Worked\"])\n",
    "plt.title(\"after removal outlier\")\n",
    "plt.show()"
   ]
  },
  {
   "cell_type": "markdown",
   "id": "b01468f8-80f1-4d35-9fae-486382a09b46",
   "metadata": {},
   "source": [
    "### Summary statistics (mean, median, std) before and after outlier removal for column 'Hour_worked'.¶¶"
   ]
  },
  {
   "cell_type": "code",
   "execution_count": 340,
   "id": "1ffaa33e-00a1-4018-9b14-5b15140bd4aa",
   "metadata": {},
   "outputs": [
    {
     "data": {
      "text/plain": [
       "count     20.000000\n",
       "mean      44.997247\n",
       "std       14.118744\n",
       "min       33.261205\n",
       "25%       37.514610\n",
       "50%       44.271253\n",
       "75%       47.886379\n",
       "max      100.000000\n",
       "Name: Hours_Worked, dtype: float64"
      ]
     },
     "execution_count": 340,
     "metadata": {},
     "output_type": "execute_result"
    }
   ],
   "source": [
    "# before removal outlier\n",
    "df[\"Hours_Worked\"].describe()"
   ]
  },
  {
   "cell_type": "code",
   "execution_count": 341,
   "id": "01a17f69-7b06-4ce9-b1ac-0a2c74b896c4",
   "metadata": {},
   "outputs": [
    {
     "data": {
      "text/plain": [
       "count    14.000000\n",
       "mean     42.838338\n",
       "std       4.559704\n",
       "min      35.693872\n",
       "25%      38.801225\n",
       "50%      44.271253\n",
       "75%      44.819303\n",
       "max      49.415753\n",
       "Name: Hours_Worked, dtype: float64"
      ]
     },
     "execution_count": 341,
     "metadata": {},
     "output_type": "execute_result"
    }
   ],
   "source": [
    "# after removal outlier\n",
    "df_hours_worked[\"Hours_Worked\"].describe()"
   ]
  },
  {
   "cell_type": "markdown",
   "id": "41db29fd-7870-40c7-a757-375408829717",
   "metadata": {},
   "source": [
    "### Identify the 20th and 80th percentiles for the 'Experience' column."
   ]
  },
  {
   "cell_type": "code",
   "execution_count": 342,
   "id": "4e583834-bc86-41ad-8659-e8cd13d60673",
   "metadata": {},
   "outputs": [
    {
     "data": {
      "text/plain": [
       "(6.346244929198496, 3.6432405990556522)"
      ]
     },
     "execution_count": 342,
     "metadata": {},
     "output_type": "execute_result"
    }
   ],
   "source": [
    "upper_limit = df[\"Experience\"].quantile(0.80)\n",
    "lower_limit = df[\"Experience\"].quantile(0.20)\n",
    "upper_limit , lower_limit"
   ]
  },
  {
   "cell_type": "code",
   "execution_count": 343,
   "id": "79dedada-05d5-4633-b9e0-ef38169fa382",
   "metadata": {},
   "outputs": [
    {
     "data": {
      "text/html": [
       "<div>\n",
       "<style scoped>\n",
       "    .dataframe tbody tr th:only-of-type {\n",
       "        vertical-align: middle;\n",
       "    }\n",
       "\n",
       "    .dataframe tbody tr th {\n",
       "        vertical-align: top;\n",
       "    }\n",
       "\n",
       "    .dataframe thead th {\n",
       "        text-align: right;\n",
       "    }\n",
       "</style>\n",
       "<table border=\"1\" class=\"dataframe\">\n",
       "  <thead>\n",
       "    <tr style=\"text-align: right;\">\n",
       "      <th></th>\n",
       "      <th>Height</th>\n",
       "      <th>Weight</th>\n",
       "      <th>Age</th>\n",
       "      <th>Income</th>\n",
       "      <th>Score</th>\n",
       "      <th>Hours_Worked</th>\n",
       "      <th>Experience</th>\n",
       "      <th>Savings</th>\n",
       "      <th>Debt</th>\n",
       "      <th>Expenditure</th>\n",
       "    </tr>\n",
       "  </thead>\n",
       "  <tbody>\n",
       "    <tr>\n",
       "      <th>1</th>\n",
       "      <td>174.001572</td>\n",
       "      <td>200.000000</td>\n",
       "      <td>22.899910</td>\n",
       "      <td>46404.468385</td>\n",
       "      <td>89.008265</td>\n",
       "      <td>33.261205</td>\n",
       "      <td>2.801198</td>\n",
       "      <td>22196.958506</td>\n",
       "      <td>6929.532054</td>\n",
       "      <td>2312.524353</td>\n",
       "    </tr>\n",
       "    <tr>\n",
       "      <th>3</th>\n",
       "      <td>192.408932</td>\n",
       "      <td>58.867525</td>\n",
       "      <td>39.753877</td>\n",
       "      <td>1000000.000000</td>\n",
       "      <td>64.637563</td>\n",
       "      <td>44.846984</td>\n",
       "      <td>7.652772</td>\n",
       "      <td>23175.157184</td>\n",
       "      <td>5087.551241</td>\n",
       "      <td>1888.298424</td>\n",
       "    </tr>\n",
       "    <tr>\n",
       "      <th>4</th>\n",
       "      <td>188.675580</td>\n",
       "      <td>104.046319</td>\n",
       "      <td>27.451739</td>\n",
       "      <td>51774.261423</td>\n",
       "      <td>200.000000</td>\n",
       "      <td>34.134383</td>\n",
       "      <td>3.610864</td>\n",
       "      <td>31915.723874</td>\n",
       "      <td>3774.564481</td>\n",
       "      <td>3312.615726</td>\n",
       "    </tr>\n",
       "    <tr>\n",
       "      <th>6</th>\n",
       "      <td>179.500884</td>\n",
       "      <td>70.686378</td>\n",
       "      <td>23.736023</td>\n",
       "      <td>33698.016530</td>\n",
       "      <td>91.787796</td>\n",
       "      <td>37.931905</td>\n",
       "      <td>50.000000</td>\n",
       "      <td>15435.888873</td>\n",
       "      <td>3999.784653</td>\n",
       "      <td>2447.808330</td>\n",
       "    </tr>\n",
       "    <tr>\n",
       "      <th>7</th>\n",
       "      <td>168.486428</td>\n",
       "      <td>67.192242</td>\n",
       "      <td>33.887452</td>\n",
       "      <td>54627.822555</td>\n",
       "      <td>78.200752</td>\n",
       "      <td>36.262726</td>\n",
       "      <td>8.698527</td>\n",
       "      <td>1000000.000000</td>\n",
       "      <td>3455.228903</td>\n",
       "      <td>3026.082540</td>\n",
       "    </tr>\n",
       "    <tr>\n",
       "      <th>8</th>\n",
       "      <td>168.967811</td>\n",
       "      <td>92.991688</td>\n",
       "      <td>21.930511</td>\n",
       "      <td>40927.016356</td>\n",
       "      <td>69.292474</td>\n",
       "      <td>49.614710</td>\n",
       "      <td>6.344590</td>\n",
       "      <td>13420.462947</td>\n",
       "      <td>50000.000000</td>\n",
       "      <td>2630.218502</td>\n",
       "    </tr>\n",
       "    <tr>\n",
       "      <th>10</th>\n",
       "      <td>171.440436</td>\n",
       "      <td>72.324211</td>\n",
       "      <td>25.522667</td>\n",
       "      <td>57290.905622</td>\n",
       "      <td>75.968231</td>\n",
       "      <td>49.337795</td>\n",
       "      <td>3.460168</td>\n",
       "      <td>19658.791973</td>\n",
       "      <td>5920.858824</td>\n",
       "      <td>2353.571545</td>\n",
       "    </tr>\n",
       "    <tr>\n",
       "      <th>15</th>\n",
       "      <td>173.336743</td>\n",
       "      <td>72.345235</td>\n",
       "      <td>32.141659</td>\n",
       "      <td>43151.899091</td>\n",
       "      <td>87.065732</td>\n",
       "      <td>44.012282</td>\n",
       "      <td>6.352867</td>\n",
       "      <td>16682.608568</td>\n",
       "      <td>5681.594518</td>\n",
       "      <td>2914.226834</td>\n",
       "    </tr>\n",
       "    <tr>\n",
       "      <th>19</th>\n",
       "      <td>161.459043</td>\n",
       "      <td>65.465459</td>\n",
       "      <td>28.186294</td>\n",
       "      <td>50561.653422</td>\n",
       "      <td>84.019894</td>\n",
       "      <td>44.611033</td>\n",
       "      <td>2.813877</td>\n",
       "      <td>17810.899776</td>\n",
       "      <td>5017.479159</td>\n",
       "      <td>3668.263975</td>\n",
       "    </tr>\n",
       "  </tbody>\n",
       "</table>\n",
       "</div>"
      ],
      "text/plain": [
       "        Height      Weight        Age          Income       Score  \\\n",
       "1   174.001572  200.000000  22.899910    46404.468385   89.008265   \n",
       "3   192.408932   58.867525  39.753877  1000000.000000   64.637563   \n",
       "4   188.675580  104.046319  27.451739    51774.261423  200.000000   \n",
       "6   179.500884   70.686378  23.736023    33698.016530   91.787796   \n",
       "7   168.486428   67.192242  33.887452    54627.822555   78.200752   \n",
       "8   168.967811   92.991688  21.930511    40927.016356   69.292474   \n",
       "10  171.440436   72.324211  25.522667    57290.905622   75.968231   \n",
       "15  173.336743   72.345235  32.141659    43151.899091   87.065732   \n",
       "19  161.459043   65.465459  28.186294    50561.653422   84.019894   \n",
       "\n",
       "    Hours_Worked  Experience         Savings          Debt  Expenditure  \n",
       "1      33.261205    2.801198    22196.958506   6929.532054  2312.524353  \n",
       "3      44.846984    7.652772    23175.157184   5087.551241  1888.298424  \n",
       "4      34.134383    3.610864    31915.723874   3774.564481  3312.615726  \n",
       "6      37.931905   50.000000    15435.888873   3999.784653  2447.808330  \n",
       "7      36.262726    8.698527  1000000.000000   3455.228903  3026.082540  \n",
       "8      49.614710    6.344590    13420.462947  50000.000000  2630.218502  \n",
       "10     49.337795    3.460168    19658.791973   5920.858824  2353.571545  \n",
       "15     44.012282    6.352867    16682.608568   5681.594518  2914.226834  \n",
       "19     44.611033    2.813877    17810.899776   5017.479159  3668.263975  "
      ]
     },
     "execution_count": 343,
     "metadata": {},
     "output_type": "execute_result"
    }
   ],
   "source": [
    "df[(df[\"Experience\"]>=6.34)|(df[\"Experience\"]<=3.64)]"
   ]
  },
  {
   "cell_type": "markdown",
   "id": "a2abfbb0-1ecc-424d-9067-c393069a9ff1",
   "metadata": {},
   "source": [
    "### Remove outliers from the 'Experience' column that are below the 20th percentile or above the 80th percentile."
   ]
  },
  {
   "cell_type": "code",
   "execution_count": 344,
   "id": "0a6413b4-77c2-4019-aea5-311dde8c3781",
   "metadata": {},
   "outputs": [
    {
     "data": {
      "text/html": [
       "<div>\n",
       "<style scoped>\n",
       "    .dataframe tbody tr th:only-of-type {\n",
       "        vertical-align: middle;\n",
       "    }\n",
       "\n",
       "    .dataframe tbody tr th {\n",
       "        vertical-align: top;\n",
       "    }\n",
       "\n",
       "    .dataframe thead th {\n",
       "        text-align: right;\n",
       "    }\n",
       "</style>\n",
       "<table border=\"1\" class=\"dataframe\">\n",
       "  <thead>\n",
       "    <tr style=\"text-align: right;\">\n",
       "      <th></th>\n",
       "      <th>Height</th>\n",
       "      <th>Weight</th>\n",
       "      <th>Age</th>\n",
       "      <th>Income</th>\n",
       "      <th>Score</th>\n",
       "      <th>Hours_Worked</th>\n",
       "      <th>Experience</th>\n",
       "      <th>Savings</th>\n",
       "      <th>Debt</th>\n",
       "      <th>Expenditure</th>\n",
       "    </tr>\n",
       "  </thead>\n",
       "  <tbody>\n",
       "    <tr>\n",
       "      <th>0</th>\n",
       "      <td>250.000000</td>\n",
       "      <td>31.705153</td>\n",
       "      <td>24.757235</td>\n",
       "      <td>43275.395522</td>\n",
       "      <td>68.348502</td>\n",
       "      <td>49.415753</td>\n",
       "      <td>5.752851</td>\n",
       "      <td>12543.712036</td>\n",
       "      <td>4501.967549</td>\n",
       "      <td>2823.003044</td>\n",
       "    </tr>\n",
       "    <tr>\n",
       "      <th>2</th>\n",
       "      <td>179.787380</td>\n",
       "      <td>82.966543</td>\n",
       "      <td>100.000000</td>\n",
       "      <td>41868.537180</td>\n",
       "      <td>84.656624</td>\n",
       "      <td>33.647575</td>\n",
       "      <td>5.596476</td>\n",
       "      <td>20833.367477</td>\n",
       "      <td>5949.420807</td>\n",
       "      <td>2678.190799</td>\n",
       "    </tr>\n",
       "    <tr>\n",
       "      <th>5</th>\n",
       "      <td>160.227221</td>\n",
       "      <td>48.184515</td>\n",
       "      <td>27.809628</td>\n",
       "      <td>45982.190638</td>\n",
       "      <td>98.958892</td>\n",
       "      <td>100.000000</td>\n",
       "      <td>4.700731</td>\n",
       "      <td>24722.397435</td>\n",
       "      <td>5844.362976</td>\n",
       "      <td>2198.971172</td>\n",
       "    </tr>\n",
       "    <tr>\n",
       "      <th>9</th>\n",
       "      <td>174.105985</td>\n",
       "      <td>92.040382</td>\n",
       "      <td>28.936299</td>\n",
       "      <td>50519.453958</td>\n",
       "      <td>90.544517</td>\n",
       "      <td>47.402574</td>\n",
       "      <td>5.814924</td>\n",
       "      <td>17692.076976</td>\n",
       "      <td>5316.942612</td>\n",
       "      <td>100000.000000</td>\n",
       "    </tr>\n",
       "    <tr>\n",
       "      <th>11</th>\n",
       "      <td>184.542735</td>\n",
       "      <td>75.672438</td>\n",
       "      <td>31.934512</td>\n",
       "      <td>51289.829108</td>\n",
       "      <td>92.224451</td>\n",
       "      <td>44.530223</td>\n",
       "      <td>6.078498</td>\n",
       "      <td>28566.713608</td>\n",
       "      <td>5318.727653</td>\n",
       "      <td>3133.525435</td>\n",
       "    </tr>\n",
       "  </tbody>\n",
       "</table>\n",
       "</div>"
      ],
      "text/plain": [
       "        Height     Weight         Age        Income      Score  Hours_Worked  \\\n",
       "0   250.000000  31.705153   24.757235  43275.395522  68.348502     49.415753   \n",
       "2   179.787380  82.966543  100.000000  41868.537180  84.656624     33.647575   \n",
       "5   160.227221  48.184515   27.809628  45982.190638  98.958892    100.000000   \n",
       "9   174.105985  92.040382   28.936299  50519.453958  90.544517     47.402574   \n",
       "11  184.542735  75.672438   31.934512  51289.829108  92.224451     44.530223   \n",
       "\n",
       "    Experience       Savings         Debt    Expenditure  \n",
       "0     5.752851  12543.712036  4501.967549    2823.003044  \n",
       "2     5.596476  20833.367477  5949.420807    2678.190799  \n",
       "5     4.700731  24722.397435  5844.362976    2198.971172  \n",
       "9     5.814924  17692.076976  5316.942612  100000.000000  \n",
       "11    6.078498  28566.713608  5318.727653    3133.525435  "
      ]
     },
     "execution_count": 344,
     "metadata": {},
     "output_type": "execute_result"
    }
   ],
   "source": [
    "df_exp = df[(df[\"Experience\"]<=6.34)&(df[\"Experience\"]>=3.64)]\n",
    "df_exp.head()"
   ]
  },
  {
   "cell_type": "markdown",
   "id": "16c5c6e3-9fea-4570-a0d5-fa276cb4b586",
   "metadata": {},
   "source": [
    "### Plot a box plot for the 'Hour_worked' column before and after outlier removal.¶"
   ]
  },
  {
   "cell_type": "code",
   "execution_count": 345,
   "id": "1f9801fe-6e9e-4334-b1cf-b9d250538fde",
   "metadata": {},
   "outputs": [
    {
     "data": {
      "image/png": "[encoded data removed]",
      "text/plain": [
       "<Figure size 1000x500 with 2 Axes>"
      ]
     },
     "metadata": {},
     "output_type": "display_data"
    }
   ],
   "source": [
    "#before outlier removal\n",
    "\n",
    "plt.figure(figsize=(10,5))\n",
    "plt.subplot(1,2,1)\n",
    "plt.boxplot(df[\"Experience\"])\n",
    "plt.title(\"before removal outlier\")\n",
    "\n",
    "# after removal outlier\n",
    "plt.subplot(1,2,2)\n",
    "plt.boxplot(df_exp[\"Experience\"])\n",
    "plt.title(\"after removal outlier\")\n",
    "\n",
    "plt.show()\n",
    "            "
   ]
  },
  {
   "cell_type": "markdown",
   "id": "ddc0b96a-e67d-4d1c-8242-640b12262744",
   "metadata": {},
   "source": [
    " ### Summary statistics (mean, median, std) before and after outlier removal for column 'Experience'."
   ]
  },
  {
   "cell_type": "code",
   "execution_count": 346,
   "id": "447fd7e5-d0f9-43ea-932c-4caaf562fbed",
   "metadata": {},
   "outputs": [
    {
     "data": {
      "text/plain": [
       "count    20.000000\n",
       "mean      7.432512\n",
       "std      10.139389\n",
       "min       2.801198\n",
       "25%       3.709065\n",
       "50%       5.674664\n",
       "75%       6.201034\n",
       "max      50.000000\n",
       "Name: Experience, dtype: float64"
      ]
     },
     "execution_count": 346,
     "metadata": {},
     "output_type": "execute_result"
    }
   ],
   "source": [
    "df[\"Experience\"].describe()"
   ]
  },
  {
   "cell_type": "code",
   "execution_count": 347,
   "id": "cc06f586-5061-424a-bfaf-9f2ffdbfc575",
   "metadata": {},
   "outputs": [
    {
     "data": {
      "text/plain": [
       "count    11.000000\n",
       "mean      5.174126\n",
       "std       0.898704\n",
       "min       3.651335\n",
       "25%       4.642067\n",
       "50%       5.596476\n",
       "75%       5.803469\n",
       "max       6.153182\n",
       "Name: Experience, dtype: float64"
      ]
     },
     "execution_count": 347,
     "metadata": {},
     "output_type": "execute_result"
    }
   ],
   "source": [
    "df_exp[\"Experience\"].describe()"
   ]
  },
  {
   "cell_type": "markdown",
   "id": "0b2ace06-6d94-4a8f-9eaf-fbbe1a2ff27c",
   "metadata": {},
   "source": [
    "### Calculate the 1st and 99th percentiles for the 'Savings' column and identify outliers."
   ]
  },
  {
   "cell_type": "code",
   "execution_count": 348,
   "id": "3598ecf5-436a-4f1c-b0ef-d340ab4bddcf",
   "metadata": {},
   "outputs": [
    {
     "data": {
      "text/plain": [
       "(816063.9875361195, 12710.294709556352)"
      ]
     },
     "execution_count": 348,
     "metadata": {},
     "output_type": "execute_result"
    }
   ],
   "source": [
    "upper_limit = df[\"Savings\"].quantile(0.99)\n",
    "lower_limit = df[\"Savings\"].quantile(0.01)\n",
    "upper_limit , lower_limit"
   ]
  },
  {
   "cell_type": "code",
   "execution_count": 349,
   "id": "43c60c11-0b37-400a-81d4-535f44d2befe",
   "metadata": {},
   "outputs": [
    {
     "data": {
      "text/html": [
       "<div>\n",
       "<style scoped>\n",
       "    .dataframe tbody tr th:only-of-type {\n",
       "        vertical-align: middle;\n",
       "    }\n",
       "\n",
       "    .dataframe tbody tr th {\n",
       "        vertical-align: top;\n",
       "    }\n",
       "\n",
       "    .dataframe thead th {\n",
       "        text-align: right;\n",
       "    }\n",
       "</style>\n",
       "<table border=\"1\" class=\"dataframe\">\n",
       "  <thead>\n",
       "    <tr style=\"text-align: right;\">\n",
       "      <th></th>\n",
       "      <th>Height</th>\n",
       "      <th>Weight</th>\n",
       "      <th>Age</th>\n",
       "      <th>Income</th>\n",
       "      <th>Score</th>\n",
       "      <th>Hours_Worked</th>\n",
       "      <th>Experience</th>\n",
       "      <th>Savings</th>\n",
       "      <th>Debt</th>\n",
       "      <th>Expenditure</th>\n",
       "    </tr>\n",
       "  </thead>\n",
       "  <tbody>\n",
       "    <tr>\n",
       "      <th>0</th>\n",
       "      <td>250.000000</td>\n",
       "      <td>31.705153</td>\n",
       "      <td>24.757235</td>\n",
       "      <td>43275.395522</td>\n",
       "      <td>68.348502</td>\n",
       "      <td>49.415753</td>\n",
       "      <td>5.752851</td>\n",
       "      <td>12543.712036</td>\n",
       "      <td>4501.967549</td>\n",
       "      <td>2823.003044</td>\n",
       "    </tr>\n",
       "    <tr>\n",
       "      <th>7</th>\n",
       "      <td>168.486428</td>\n",
       "      <td>67.192242</td>\n",
       "      <td>33.887452</td>\n",
       "      <td>54627.822555</td>\n",
       "      <td>78.200752</td>\n",
       "      <td>36.262726</td>\n",
       "      <td>8.698527</td>\n",
       "      <td>1000000.000000</td>\n",
       "      <td>3455.228903</td>\n",
       "      <td>3026.082540</td>\n",
       "    </tr>\n",
       "  </tbody>\n",
       "</table>\n",
       "</div>"
      ],
      "text/plain": [
       "       Height     Weight        Age        Income      Score  Hours_Worked  \\\n",
       "0  250.000000  31.705153  24.757235  43275.395522  68.348502     49.415753   \n",
       "7  168.486428  67.192242  33.887452  54627.822555  78.200752     36.262726   \n",
       "\n",
       "   Experience         Savings         Debt  Expenditure  \n",
       "0    5.752851    12543.712036  4501.967549  2823.003044  \n",
       "7    8.698527  1000000.000000  3455.228903  3026.082540  "
      ]
     },
     "execution_count": 349,
     "metadata": {},
     "output_type": "execute_result"
    }
   ],
   "source": [
    "df[(df[\"Savings\"]>=816063.98)|(df[\"Savings\"]<=12710.29)]"
   ]
  },
  {
   "cell_type": "markdown",
   "id": "39c3297a-3511-4d74-aa33-4bfecf01ade5",
   "metadata": {},
   "source": [
    "### Remove outliers from the 'Savings' column based on the 1st and 99th percentiles."
   ]
  },
  {
   "cell_type": "code",
   "execution_count": 350,
   "id": "fa4af70b-4fbf-436f-8cdc-9a8480cdfe4a",
   "metadata": {},
   "outputs": [
    {
     "data": {
      "text/html": [
       "<div>\n",
       "<style scoped>\n",
       "    .dataframe tbody tr th:only-of-type {\n",
       "        vertical-align: middle;\n",
       "    }\n",
       "\n",
       "    .dataframe tbody tr th {\n",
       "        vertical-align: top;\n",
       "    }\n",
       "\n",
       "    .dataframe thead th {\n",
       "        text-align: right;\n",
       "    }\n",
       "</style>\n",
       "<table border=\"1\" class=\"dataframe\">\n",
       "  <thead>\n",
       "    <tr style=\"text-align: right;\">\n",
       "      <th></th>\n",
       "      <th>Height</th>\n",
       "      <th>Weight</th>\n",
       "      <th>Age</th>\n",
       "      <th>Income</th>\n",
       "      <th>Score</th>\n",
       "      <th>Hours_Worked</th>\n",
       "      <th>Experience</th>\n",
       "      <th>Savings</th>\n",
       "      <th>Debt</th>\n",
       "      <th>Expenditure</th>\n",
       "    </tr>\n",
       "  </thead>\n",
       "  <tbody>\n",
       "    <tr>\n",
       "      <th>1</th>\n",
       "      <td>174.001572</td>\n",
       "      <td>200.000000</td>\n",
       "      <td>22.899910</td>\n",
       "      <td>46404.468385</td>\n",
       "      <td>89.008265</td>\n",
       "      <td>33.261205</td>\n",
       "      <td>2.801198</td>\n",
       "      <td>22196.958506</td>\n",
       "      <td>6929.532054</td>\n",
       "      <td>2312.524353</td>\n",
       "    </tr>\n",
       "    <tr>\n",
       "      <th>2</th>\n",
       "      <td>179.787380</td>\n",
       "      <td>82.966543</td>\n",
       "      <td>100.000000</td>\n",
       "      <td>41868.537180</td>\n",
       "      <td>84.656624</td>\n",
       "      <td>33.647575</td>\n",
       "      <td>5.596476</td>\n",
       "      <td>20833.367477</td>\n",
       "      <td>5949.420807</td>\n",
       "      <td>2678.190799</td>\n",
       "    </tr>\n",
       "    <tr>\n",
       "      <th>3</th>\n",
       "      <td>192.408932</td>\n",
       "      <td>58.867525</td>\n",
       "      <td>39.753877</td>\n",
       "      <td>1000000.000000</td>\n",
       "      <td>64.637563</td>\n",
       "      <td>44.846984</td>\n",
       "      <td>7.652772</td>\n",
       "      <td>23175.157184</td>\n",
       "      <td>5087.551241</td>\n",
       "      <td>1888.298424</td>\n",
       "    </tr>\n",
       "    <tr>\n",
       "      <th>4</th>\n",
       "      <td>188.675580</td>\n",
       "      <td>104.046319</td>\n",
       "      <td>27.451739</td>\n",
       "      <td>51774.261423</td>\n",
       "      <td>200.000000</td>\n",
       "      <td>34.134383</td>\n",
       "      <td>3.610864</td>\n",
       "      <td>31915.723874</td>\n",
       "      <td>3774.564481</td>\n",
       "      <td>3312.615726</td>\n",
       "    </tr>\n",
       "    <tr>\n",
       "      <th>5</th>\n",
       "      <td>160.227221</td>\n",
       "      <td>48.184515</td>\n",
       "      <td>27.809628</td>\n",
       "      <td>45982.190638</td>\n",
       "      <td>98.958892</td>\n",
       "      <td>100.000000</td>\n",
       "      <td>4.700731</td>\n",
       "      <td>24722.397435</td>\n",
       "      <td>5844.362976</td>\n",
       "      <td>2198.971172</td>\n",
       "    </tr>\n",
       "  </tbody>\n",
       "</table>\n",
       "</div>"
      ],
      "text/plain": [
       "       Height      Weight         Age          Income       Score  \\\n",
       "1  174.001572  200.000000   22.899910    46404.468385   89.008265   \n",
       "2  179.787380   82.966543  100.000000    41868.537180   84.656624   \n",
       "3  192.408932   58.867525   39.753877  1000000.000000   64.637563   \n",
       "4  188.675580  104.046319   27.451739    51774.261423  200.000000   \n",
       "5  160.227221   48.184515   27.809628    45982.190638   98.958892   \n",
       "\n",
       "   Hours_Worked  Experience       Savings         Debt  Expenditure  \n",
       "1     33.261205    2.801198  22196.958506  6929.532054  2312.524353  \n",
       "2     33.647575    5.596476  20833.367477  5949.420807  2678.190799  \n",
       "3     44.846984    7.652772  23175.157184  5087.551241  1888.298424  \n",
       "4     34.134383    3.610864  31915.723874  3774.564481  3312.615726  \n",
       "5    100.000000    4.700731  24722.397435  5844.362976  2198.971172  "
      ]
     },
     "execution_count": 350,
     "metadata": {},
     "output_type": "execute_result"
    }
   ],
   "source": [
    "df_saving = df[(df[\"Savings\"]<=816063.98)&(df[\"Savings\"]>=12710.29)]\n",
    "df_saving.head()"
   ]
  },
  {
   "cell_type": "markdown",
   "id": "2293a374-3684-467b-8080-b7df92372469",
   "metadata": {},
   "source": [
    "### Plot a box plot for the 'Savings' column before and after outlier removal.¶¶"
   ]
  },
  {
   "cell_type": "code",
   "execution_count": 351,
   "id": "1f924cfd-75d7-40d0-98de-007a01566eb6",
   "metadata": {},
   "outputs": [
    {
     "data": {
      "image/png": "[encoded data removed]",
      "text/plain": [
       "<Figure size 1000x500 with 2 Axes>"
      ]
     },
     "metadata": {},
     "output_type": "display_data"
    }
   ],
   "source": [
    "# before removing \n",
    "plt.figure(figsize=(10,5))\n",
    "plt.subplot(1,2,1)\n",
    "plt.boxplot(df[\"Savings\"])\n",
    "plt.title(\"before removal outlier\")\n",
    "\n",
    "# after removal outlier\n",
    "plt.subplot(1,2,2)\n",
    "plt.boxplot(df_saving[\"Savings\"])\n",
    "plt.title(\"after removal outlier\")\n",
    "plt.show()"
   ]
  },
  {
   "cell_type": "markdown",
   "id": "506bbb77-7c78-4212-8360-21adf9ee1b02",
   "metadata": {},
   "source": [
    "### Summary statistics (mean, median, std) before and after outlier removal for column 'Savings'.¶"
   ]
  },
  {
   "cell_type": "code",
   "execution_count": 352,
   "id": "1cba46de-d6b6-400a-bd95-348fb333f733",
   "metadata": {},
   "outputs": [
    {
     "data": {
      "text/plain": [
       "count         20.000000\n",
       "mean       68540.135431\n",
       "std       219304.682273\n",
       "min        12543.712036\n",
       "25%        15759.827698\n",
       "50%        18659.318577\n",
       "75%        23561.967247\n",
       "max      1000000.000000\n",
       "Name: Savings, dtype: float64"
      ]
     },
     "execution_count": 352,
     "metadata": {},
     "output_type": "execute_result"
    }
   ],
   "source": [
    "df[\"Savings\"].describe()"
   ]
  },
  {
   "cell_type": "code",
   "execution_count": 353,
   "id": "64218778-2785-4b48-a711-cef85d267f5f",
   "metadata": {},
   "outputs": [
    {
     "data": {
      "text/plain": [
       "count       18.000000\n",
       "mean     19903.277588\n",
       "std       5221.336329\n",
       "min      13420.462947\n",
       "25%      15969.911952\n",
       "50%      18659.318577\n",
       "75%      22930.607515\n",
       "max      31915.723874\n",
       "Name: Savings, dtype: float64"
      ]
     },
     "execution_count": 353,
     "metadata": {},
     "output_type": "execute_result"
    }
   ],
   "source": [
    "df_saving[\"Savings\"].describe()"
   ]
  },
  {
   "cell_type": "markdown",
   "id": "a1af73ac-27b9-48b2-b9f3-42584e383304",
   "metadata": {},
   "source": [
    "### Identify the 5th and 95th percentiles for the 'Debt' column and find outliers."
   ]
  },
  {
   "cell_type": "code",
   "execution_count": 354,
   "id": "5f2fc737-82d7-4e6a-b166-224aa487ba27",
   "metadata": {},
   "outputs": [
    {
     "data": {
      "text/plain": [
       "(9083.055451126167, 3758.59770227246)"
      ]
     },
     "execution_count": 354,
     "metadata": {},
     "output_type": "execute_result"
    }
   ],
   "source": [
    "upper_limit = df[\"Debt\"].quantile(0.95)\n",
    "lower_limit = df[\"Debt\"].quantile(0.05)\n",
    "upper_limit , lower_limit"
   ]
  },
  {
   "cell_type": "code",
   "execution_count": 355,
   "id": "66097a91-acc8-49b5-8538-06b4c64413b0",
   "metadata": {},
   "outputs": [
    {
     "data": {
      "text/html": [
       "<div>\n",
       "<style scoped>\n",
       "    .dataframe tbody tr th:only-of-type {\n",
       "        vertical-align: middle;\n",
       "    }\n",
       "\n",
       "    .dataframe tbody tr th {\n",
       "        vertical-align: top;\n",
       "    }\n",
       "\n",
       "    .dataframe thead th {\n",
       "        text-align: right;\n",
       "    }\n",
       "</style>\n",
       "<table border=\"1\" class=\"dataframe\">\n",
       "  <thead>\n",
       "    <tr style=\"text-align: right;\">\n",
       "      <th></th>\n",
       "      <th>Height</th>\n",
       "      <th>Weight</th>\n",
       "      <th>Age</th>\n",
       "      <th>Income</th>\n",
       "      <th>Score</th>\n",
       "      <th>Hours_Worked</th>\n",
       "      <th>Experience</th>\n",
       "      <th>Savings</th>\n",
       "      <th>Debt</th>\n",
       "      <th>Expenditure</th>\n",
       "    </tr>\n",
       "  </thead>\n",
       "  <tbody>\n",
       "    <tr>\n",
       "      <th>7</th>\n",
       "      <td>168.486428</td>\n",
       "      <td>67.192242</td>\n",
       "      <td>33.887452</td>\n",
       "      <td>54627.822555</td>\n",
       "      <td>78.200752</td>\n",
       "      <td>36.262726</td>\n",
       "      <td>8.698527</td>\n",
       "      <td>1000000.000000</td>\n",
       "      <td>3455.228903</td>\n",
       "      <td>3026.082540</td>\n",
       "    </tr>\n",
       "    <tr>\n",
       "      <th>8</th>\n",
       "      <td>168.967811</td>\n",
       "      <td>92.991688</td>\n",
       "      <td>21.930511</td>\n",
       "      <td>40927.016356</td>\n",
       "      <td>69.292474</td>\n",
       "      <td>49.614710</td>\n",
       "      <td>6.344590</td>\n",
       "      <td>13420.462947</td>\n",
       "      <td>50000.000000</td>\n",
       "      <td>2630.218502</td>\n",
       "    </tr>\n",
       "  </tbody>\n",
       "</table>\n",
       "</div>"
      ],
      "text/plain": [
       "       Height     Weight        Age        Income      Score  Hours_Worked  \\\n",
       "7  168.486428  67.192242  33.887452  54627.822555  78.200752     36.262726   \n",
       "8  168.967811  92.991688  21.930511  40927.016356  69.292474     49.614710   \n",
       "\n",
       "   Experience         Savings          Debt  Expenditure  \n",
       "7    8.698527  1000000.000000   3455.228903  3026.082540  \n",
       "8    6.344590    13420.462947  50000.000000  2630.218502  "
      ]
     },
     "execution_count": 355,
     "metadata": {},
     "output_type": "execute_result"
    }
   ],
   "source": [
    "df[(df[\"Debt\"]>=9083.05)|(df[\"Debt\"]<=3758.59)]"
   ]
  },
  {
   "cell_type": "markdown",
   "id": "e1d4d43c-26d2-4bbe-b32b-8e3eda94f41a",
   "metadata": {},
   "source": [
    "### Remove outliers from the 'Debt' column using the 5th and 95th percentiles."
   ]
  },
  {
   "cell_type": "code",
   "execution_count": 356,
   "id": "74be220d-e832-4ef8-b105-2b9ef4d6054b",
   "metadata": {},
   "outputs": [
    {
     "data": {
      "text/html": [
       "<div>\n",
       "<style scoped>\n",
       "    .dataframe tbody tr th:only-of-type {\n",
       "        vertical-align: middle;\n",
       "    }\n",
       "\n",
       "    .dataframe tbody tr th {\n",
       "        vertical-align: top;\n",
       "    }\n",
       "\n",
       "    .dataframe thead th {\n",
       "        text-align: right;\n",
       "    }\n",
       "</style>\n",
       "<table border=\"1\" class=\"dataframe\">\n",
       "  <thead>\n",
       "    <tr style=\"text-align: right;\">\n",
       "      <th></th>\n",
       "      <th>Height</th>\n",
       "      <th>Weight</th>\n",
       "      <th>Age</th>\n",
       "      <th>Income</th>\n",
       "      <th>Score</th>\n",
       "      <th>Hours_Worked</th>\n",
       "      <th>Experience</th>\n",
       "      <th>Savings</th>\n",
       "      <th>Debt</th>\n",
       "      <th>Expenditure</th>\n",
       "    </tr>\n",
       "  </thead>\n",
       "  <tbody>\n",
       "    <tr>\n",
       "      <th>0</th>\n",
       "      <td>250.000000</td>\n",
       "      <td>31.705153</td>\n",
       "      <td>24.757235</td>\n",
       "      <td>43275.395522</td>\n",
       "      <td>68.348502</td>\n",
       "      <td>49.415753</td>\n",
       "      <td>5.752851</td>\n",
       "      <td>12543.712036</td>\n",
       "      <td>4501.967549</td>\n",
       "      <td>2823.003044</td>\n",
       "    </tr>\n",
       "    <tr>\n",
       "      <th>1</th>\n",
       "      <td>174.001572</td>\n",
       "      <td>200.000000</td>\n",
       "      <td>22.899910</td>\n",
       "      <td>46404.468385</td>\n",
       "      <td>89.008265</td>\n",
       "      <td>33.261205</td>\n",
       "      <td>2.801198</td>\n",
       "      <td>22196.958506</td>\n",
       "      <td>6929.532054</td>\n",
       "      <td>2312.524353</td>\n",
       "    </tr>\n",
       "    <tr>\n",
       "      <th>2</th>\n",
       "      <td>179.787380</td>\n",
       "      <td>82.966543</td>\n",
       "      <td>100.000000</td>\n",
       "      <td>41868.537180</td>\n",
       "      <td>84.656624</td>\n",
       "      <td>33.647575</td>\n",
       "      <td>5.596476</td>\n",
       "      <td>20833.367477</td>\n",
       "      <td>5949.420807</td>\n",
       "      <td>2678.190799</td>\n",
       "    </tr>\n",
       "    <tr>\n",
       "      <th>3</th>\n",
       "      <td>192.408932</td>\n",
       "      <td>58.867525</td>\n",
       "      <td>39.753877</td>\n",
       "      <td>1000000.000000</td>\n",
       "      <td>64.637563</td>\n",
       "      <td>44.846984</td>\n",
       "      <td>7.652772</td>\n",
       "      <td>23175.157184</td>\n",
       "      <td>5087.551241</td>\n",
       "      <td>1888.298424</td>\n",
       "    </tr>\n",
       "    <tr>\n",
       "      <th>4</th>\n",
       "      <td>188.675580</td>\n",
       "      <td>104.046319</td>\n",
       "      <td>27.451739</td>\n",
       "      <td>51774.261423</td>\n",
       "      <td>200.000000</td>\n",
       "      <td>34.134383</td>\n",
       "      <td>3.610864</td>\n",
       "      <td>31915.723874</td>\n",
       "      <td>3774.564481</td>\n",
       "      <td>3312.615726</td>\n",
       "    </tr>\n",
       "  </tbody>\n",
       "</table>\n",
       "</div>"
      ],
      "text/plain": [
       "       Height      Weight         Age          Income       Score  \\\n",
       "0  250.000000   31.705153   24.757235    43275.395522   68.348502   \n",
       "1  174.001572  200.000000   22.899910    46404.468385   89.008265   \n",
       "2  179.787380   82.966543  100.000000    41868.537180   84.656624   \n",
       "3  192.408932   58.867525   39.753877  1000000.000000   64.637563   \n",
       "4  188.675580  104.046319   27.451739    51774.261423  200.000000   \n",
       "\n",
       "   Hours_Worked  Experience       Savings         Debt  Expenditure  \n",
       "0     49.415753    5.752851  12543.712036  4501.967549  2823.003044  \n",
       "1     33.261205    2.801198  22196.958506  6929.532054  2312.524353  \n",
       "2     33.647575    5.596476  20833.367477  5949.420807  2678.190799  \n",
       "3     44.846984    7.652772  23175.157184  5087.551241  1888.298424  \n",
       "4     34.134383    3.610864  31915.723874  3774.564481  3312.615726  "
      ]
     },
     "execution_count": 356,
     "metadata": {},
     "output_type": "execute_result"
    }
   ],
   "source": [
    "df_debt = df[(df[\"Debt\"]<=9083.05)&(df[\"Debt\"]>=3758.59)]\n",
    "df_debt.head()"
   ]
  },
  {
   "cell_type": "markdown",
   "id": "6395c98c-2278-442c-b0b4-6c38b1e9b9ac",
   "metadata": {},
   "source": [
    "### Plot a box plot for the 'Debt' column before and after outlier removal.¶¶¶"
   ]
  },
  {
   "cell_type": "code",
   "execution_count": 357,
   "id": "47dce928-1f41-4e09-ad37-f503fdfc83bf",
   "metadata": {},
   "outputs": [
    {
     "data": {
      "image/png": "[encoded data removed]",
      "text/plain": [
       "<Figure size 1000x500 with 2 Axes>"
      ]
     },
     "metadata": {},
     "output_type": "display_data"
    }
   ],
   "source": [
    "plt.figure(figsize=(10,5))\n",
    "plt.subplot(1,2,1)\n",
    "plt.boxplot(df[\"Debt\"])\n",
    "plt.title(\"before outlier removal\")\n",
    "\n",
    "# after outlier removal\n",
    "plt.subplot(1,2,2)\n",
    "plt.boxplot(df_debt[\"Debt\"])\n",
    "plt.title(\"after outlier removal\")\n",
    "\n",
    "plt.show()"
   ]
  },
  {
   "cell_type": "markdown",
   "id": "c89e9ff6-06e2-4236-a022-7d35ab39c881",
   "metadata": {},
   "source": [
    "### Summary statistics (mean, median, std) before and after outlier removal for column 'Debt'.¶"
   ]
  },
  {
   "cell_type": "code",
   "execution_count": 358,
   "id": "7ff417ee-8a53-425d-af7a-49d8bb71c79c",
   "metadata": {},
   "outputs": [
    {
     "data": {
      "text/plain": [
       "count       20.000000\n",
       "mean      7201.054283\n",
       "std      10114.241628\n",
       "min       3455.228903\n",
       "25%       4281.985251\n",
       "50%       5052.515200\n",
       "75%       5847.479885\n",
       "max      50000.000000\n",
       "Name: Debt, dtype: float64"
      ]
     },
     "execution_count": 358,
     "metadata": {},
     "output_type": "execute_result"
    }
   ],
   "source": [
    "df[\"Debt\"].describe()"
   ]
  },
  {
   "cell_type": "code",
   "execution_count": 359,
   "id": "4111dd8a-3a02-462d-b6c5-87c5a8da26ea",
   "metadata": {},
   "outputs": [
    {
     "data": {
      "text/plain": [
       "count      18.000000\n",
       "mean     5031.436487\n",
       "std       879.454485\n",
       "min      3774.564481\n",
       "25%      4320.081268\n",
       "50%      5052.515200\n",
       "75%      5803.670862\n",
       "max      6929.532054\n",
       "Name: Debt, dtype: float64"
      ]
     },
     "execution_count": 359,
     "metadata": {},
     "output_type": "execute_result"
    }
   ],
   "source": [
    "df_debt[\"Debt\"].describe()"
   ]
  },
  {
   "cell_type": "markdown",
   "id": "4953c0be-895d-4a63-869a-778528acf728",
   "metadata": {},
   "source": [
    "### Calculate the 10th and 90th percentiles for the 'Expenditure' column and determine outliers."
   ]
  },
  {
   "cell_type": "code",
   "execution_count": 360,
   "id": "68ff59d7-5589-4a4f-ac6f-5e1eec48df10",
   "metadata": {},
   "outputs": [
    {
     "data": {
      "text/plain": [
       "(3709.5993747104117, 2301.169035181554)"
      ]
     },
     "execution_count": 360,
     "metadata": {},
     "output_type": "execute_result"
    }
   ],
   "source": [
    "upper_limit = df[\"Expenditure\"].quantile(0.90)\n",
    "lower_limit = df[\"Expenditure\"].quantile(0.10)\n",
    "upper_limit , lower_limit"
   ]
  },
  {
   "cell_type": "code",
   "execution_count": 361,
   "id": "1ee8dbfe-9a4d-4361-8ef4-a74d91e57c13",
   "metadata": {},
   "outputs": [
    {
     "data": {
      "text/html": [
       "<div>\n",
       "<style scoped>\n",
       "    .dataframe tbody tr th:only-of-type {\n",
       "        vertical-align: middle;\n",
       "    }\n",
       "\n",
       "    .dataframe tbody tr th {\n",
       "        vertical-align: top;\n",
       "    }\n",
       "\n",
       "    .dataframe thead th {\n",
       "        text-align: right;\n",
       "    }\n",
       "</style>\n",
       "<table border=\"1\" class=\"dataframe\">\n",
       "  <thead>\n",
       "    <tr style=\"text-align: right;\">\n",
       "      <th></th>\n",
       "      <th>Height</th>\n",
       "      <th>Weight</th>\n",
       "      <th>Age</th>\n",
       "      <th>Income</th>\n",
       "      <th>Score</th>\n",
       "      <th>Hours_Worked</th>\n",
       "      <th>Experience</th>\n",
       "      <th>Savings</th>\n",
       "      <th>Debt</th>\n",
       "      <th>Expenditure</th>\n",
       "    </tr>\n",
       "  </thead>\n",
       "  <tbody>\n",
       "    <tr>\n",
       "      <th>3</th>\n",
       "      <td>192.408932</td>\n",
       "      <td>58.867525</td>\n",
       "      <td>39.753877</td>\n",
       "      <td>1000000.000000</td>\n",
       "      <td>64.637563</td>\n",
       "      <td>44.846984</td>\n",
       "      <td>7.652772</td>\n",
       "      <td>23175.157184</td>\n",
       "      <td>5087.551241</td>\n",
       "      <td>1888.298424</td>\n",
       "    </tr>\n",
       "    <tr>\n",
       "      <th>5</th>\n",
       "      <td>160.227221</td>\n",
       "      <td>48.184515</td>\n",
       "      <td>27.809628</td>\n",
       "      <td>45982.190638</td>\n",
       "      <td>98.958892</td>\n",
       "      <td>100.000000</td>\n",
       "      <td>4.700731</td>\n",
       "      <td>24722.397435</td>\n",
       "      <td>5844.362976</td>\n",
       "      <td>2198.971172</td>\n",
       "    </tr>\n",
       "    <tr>\n",
       "      <th>9</th>\n",
       "      <td>174.105985</td>\n",
       "      <td>92.040382</td>\n",
       "      <td>28.936299</td>\n",
       "      <td>50519.453958</td>\n",
       "      <td>90.544517</td>\n",
       "      <td>47.402574</td>\n",
       "      <td>5.814924</td>\n",
       "      <td>17692.076976</td>\n",
       "      <td>5316.942612</td>\n",
       "      <td>100000.000000</td>\n",
       "    </tr>\n",
       "    <tr>\n",
       "      <th>18</th>\n",
       "      <td>173.130677</td>\n",
       "      <td>64.190098</td>\n",
       "      <td>26.828390</td>\n",
       "      <td>46884.474679</td>\n",
       "      <td>81.269121</td>\n",
       "      <td>43.070397</td>\n",
       "      <td>5.792013</td>\n",
       "      <td>14262.656738</td>\n",
       "      <td>4544.467496</td>\n",
       "      <td>4081.617975</td>\n",
       "    </tr>\n",
       "  </tbody>\n",
       "</table>\n",
       "</div>"
      ],
      "text/plain": [
       "        Height     Weight        Age          Income      Score  Hours_Worked  \\\n",
       "3   192.408932  58.867525  39.753877  1000000.000000  64.637563     44.846984   \n",
       "5   160.227221  48.184515  27.809628    45982.190638  98.958892    100.000000   \n",
       "9   174.105985  92.040382  28.936299    50519.453958  90.544517     47.402574   \n",
       "18  173.130677  64.190098  26.828390    46884.474679  81.269121     43.070397   \n",
       "\n",
       "    Experience       Savings         Debt    Expenditure  \n",
       "3     7.652772  23175.157184  5087.551241    1888.298424  \n",
       "5     4.700731  24722.397435  5844.362976    2198.971172  \n",
       "9     5.814924  17692.076976  5316.942612  100000.000000  \n",
       "18    5.792013  14262.656738  4544.467496    4081.617975  "
      ]
     },
     "execution_count": 361,
     "metadata": {},
     "output_type": "execute_result"
    }
   ],
   "source": [
    "df[(df[\"Expenditure\"]>=3709.59)|(df[\"Expenditure\"]<=2301.16)]"
   ]
  },
  {
   "cell_type": "markdown",
   "id": "82f46893-c866-47a3-abf8-b44ebe4a3d1f",
   "metadata": {},
   "source": [
    "### Remove outliers from the 'Expenditure' column based on the 10th and 90th percentiles."
   ]
  },
  {
   "cell_type": "code",
   "execution_count": 362,
   "id": "8094b85c-c6ff-4b8a-b89d-9d6dcab8da2f",
   "metadata": {},
   "outputs": [
    {
     "data": {
      "text/html": [
       "<div>\n",
       "<style scoped>\n",
       "    .dataframe tbody tr th:only-of-type {\n",
       "        vertical-align: middle;\n",
       "    }\n",
       "\n",
       "    .dataframe tbody tr th {\n",
       "        vertical-align: top;\n",
       "    }\n",
       "\n",
       "    .dataframe thead th {\n",
       "        text-align: right;\n",
       "    }\n",
       "</style>\n",
       "<table border=\"1\" class=\"dataframe\">\n",
       "  <thead>\n",
       "    <tr style=\"text-align: right;\">\n",
       "      <th></th>\n",
       "      <th>Height</th>\n",
       "      <th>Weight</th>\n",
       "      <th>Age</th>\n",
       "      <th>Income</th>\n",
       "      <th>Score</th>\n",
       "      <th>Hours_Worked</th>\n",
       "      <th>Experience</th>\n",
       "      <th>Savings</th>\n",
       "      <th>Debt</th>\n",
       "      <th>Expenditure</th>\n",
       "    </tr>\n",
       "  </thead>\n",
       "  <tbody>\n",
       "    <tr>\n",
       "      <th>0</th>\n",
       "      <td>250.000000</td>\n",
       "      <td>31.705153</td>\n",
       "      <td>24.757235</td>\n",
       "      <td>43275.395522</td>\n",
       "      <td>68.348502</td>\n",
       "      <td>49.415753</td>\n",
       "      <td>5.752851</td>\n",
       "      <td>12543.712036</td>\n",
       "      <td>4501.967549</td>\n",
       "      <td>2823.003044</td>\n",
       "    </tr>\n",
       "    <tr>\n",
       "      <th>1</th>\n",
       "      <td>174.001572</td>\n",
       "      <td>200.000000</td>\n",
       "      <td>22.899910</td>\n",
       "      <td>46404.468385</td>\n",
       "      <td>89.008265</td>\n",
       "      <td>33.261205</td>\n",
       "      <td>2.801198</td>\n",
       "      <td>22196.958506</td>\n",
       "      <td>6929.532054</td>\n",
       "      <td>2312.524353</td>\n",
       "    </tr>\n",
       "    <tr>\n",
       "      <th>2</th>\n",
       "      <td>179.787380</td>\n",
       "      <td>82.966543</td>\n",
       "      <td>100.000000</td>\n",
       "      <td>41868.537180</td>\n",
       "      <td>84.656624</td>\n",
       "      <td>33.647575</td>\n",
       "      <td>5.596476</td>\n",
       "      <td>20833.367477</td>\n",
       "      <td>5949.420807</td>\n",
       "      <td>2678.190799</td>\n",
       "    </tr>\n",
       "    <tr>\n",
       "      <th>4</th>\n",
       "      <td>188.675580</td>\n",
       "      <td>104.046319</td>\n",
       "      <td>27.451739</td>\n",
       "      <td>51774.261423</td>\n",
       "      <td>200.000000</td>\n",
       "      <td>34.134383</td>\n",
       "      <td>3.610864</td>\n",
       "      <td>31915.723874</td>\n",
       "      <td>3774.564481</td>\n",
       "      <td>3312.615726</td>\n",
       "    </tr>\n",
       "    <tr>\n",
       "      <th>6</th>\n",
       "      <td>179.500884</td>\n",
       "      <td>70.686378</td>\n",
       "      <td>23.736023</td>\n",
       "      <td>33698.016530</td>\n",
       "      <td>91.787796</td>\n",
       "      <td>37.931905</td>\n",
       "      <td>50.000000</td>\n",
       "      <td>15435.888873</td>\n",
       "      <td>3999.784653</td>\n",
       "      <td>2447.808330</td>\n",
       "    </tr>\n",
       "  </tbody>\n",
       "</table>\n",
       "</div>"
      ],
      "text/plain": [
       "       Height      Weight         Age        Income       Score  Hours_Worked  \\\n",
       "0  250.000000   31.705153   24.757235  43275.395522   68.348502     49.415753   \n",
       "1  174.001572  200.000000   22.899910  46404.468385   89.008265     33.261205   \n",
       "2  179.787380   82.966543  100.000000  41868.537180   84.656624     33.647575   \n",
       "4  188.675580  104.046319   27.451739  51774.261423  200.000000     34.134383   \n",
       "6  179.500884   70.686378   23.736023  33698.016530   91.787796     37.931905   \n",
       "\n",
       "   Experience       Savings         Debt  Expenditure  \n",
       "0    5.752851  12543.712036  4501.967549  2823.003044  \n",
       "1    2.801198  22196.958506  6929.532054  2312.524353  \n",
       "2    5.596476  20833.367477  5949.420807  2678.190799  \n",
       "4    3.610864  31915.723874  3774.564481  3312.615726  \n",
       "6   50.000000  15435.888873  3999.784653  2447.808330  "
      ]
     },
     "execution_count": 362,
     "metadata": {},
     "output_type": "execute_result"
    }
   ],
   "source": [
    "df_expen = df[(df[\"Expenditure\"]<=3709.59)&(df[\"Expenditure\"]>=2301.16)]\n",
    "df_expen.head()"
   ]
  },
  {
   "cell_type": "markdown",
   "id": "25d7a6e8-c0e5-400d-8137-657db02b1d7c",
   "metadata": {},
   "source": [
    "### Plot a box plot for the 'Expenditure' column before and after outlier removal.¶¶¶"
   ]
  },
  {
   "cell_type": "code",
   "execution_count": 363,
   "id": "bdc2c3c0-1ebc-4afb-a361-1d2f4346d068",
   "metadata": {},
   "outputs": [
    {
     "data": {
      "image/png": "[encoded data removed]",
      "text/plain": [
       "<Figure size 1000x500 with 2 Axes>"
      ]
     },
     "metadata": {},
     "output_type": "display_data"
    }
   ],
   "source": [
    "# before removal outlier\n",
    "plt.figure(figsize=(10,5))\n",
    "plt.subplot(1,2,1)\n",
    "plt.boxplot(df[\"Expenditure\"])\n",
    "plt.title(\"before removal outlier\")\n",
    "          \n",
    "# after removal outlier\n",
    "\n",
    "plt.subplot(1,2,2)\n",
    "plt.boxplot(df_expen[\"Expenditure\"])\n",
    "plt.title(\"after removal outlier\")\n",
    "          \n",
    "plt.show()"
   ]
  },
  {
   "cell_type": "markdown",
   "id": "ac4722e1-5bd6-4900-854e-788f20a628b0",
   "metadata": {},
   "source": [
    "### Summary statistics (mean, median, std) before and after outlier removal for column 'Expenditure'.¶¶"
   ]
  },
  {
   "cell_type": "code",
   "execution_count": 364,
   "id": "b109004c-4a3f-442d-830a-535862ba73c2",
   "metadata": {},
   "outputs": [
    {
     "data": {
      "text/plain": [
       "count        20.000000\n",
       "mean       7746.225809\n",
       "std       21721.054362\n",
       "min        1888.298424\n",
       "25%        2439.844560\n",
       "50%        2947.292713\n",
       "75%        3330.935613\n",
       "max      100000.000000\n",
       "Name: Expenditure, dtype: float64"
      ]
     },
     "execution_count": 364,
     "metadata": {},
     "output_type": "execute_result"
    }
   ],
   "source": [
    "# before removal outlier\n",
    "df[\"Expenditure\"].describe()"
   ]
  },
  {
   "cell_type": "code",
   "execution_count": 365,
   "id": "d630650f-157f-4dda-8c5d-65c0e75d7898",
   "metadata": {},
   "outputs": [
    {
     "data": {
      "text/plain": [
       "count      16.000000\n",
       "mean     2922.226788\n",
       "std       421.808367\n",
       "min      2312.524353\n",
       "25%      2584.615959\n",
       "50%      2947.292713\n",
       "75%      3274.382679\n",
       "max      3668.263975\n",
       "Name: Expenditure, dtype: float64"
      ]
     },
     "execution_count": 365,
     "metadata": {},
     "output_type": "execute_result"
    }
   ],
   "source": [
    "# after removal outlier\n",
    "df_expen[\"Expenditure\"].describe()"
   ]
  },
  {
   "cell_type": "code",
   "execution_count": null,
   "id": "1691d27c-28b8-4c01-9697-6e803ac9ba64",
   "metadata": {},
   "outputs": [],
   "source": []
  },
  {
   "cell_type": "code",
   "execution_count": null,
   "id": "9d5c216a-8e80-4b3f-8903-0314a16b3bf2",
   "metadata": {},
   "outputs": [],
   "source": []
  }
 ],
 "metadata": {
  "kernelspec": {
   "display_name": "Python 3 (ipykernel)",
   "language": "python",
   "name": "python3"
  },
  "language_info": {
   "codemirror_mode": {
    "name": "ipython",
    "version": 3
   },
   "file_extension": ".py",
   "mimetype": "text/x-python",
   "name": "python",
   "nbconvert_exporter": "python",
   "pygments_lexer": "ipython3",
   "version": "3.10.8"
  }
 },
 "nbformat": 4,
 "nbformat_minor": 5
}
