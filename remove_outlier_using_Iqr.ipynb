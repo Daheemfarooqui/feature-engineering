{
 "cells": [
  {
   "cell_type": "code",
   "execution_count": 90,
   "id": "dd88fa1c-fe00-4807-b300-3cd3082836a4",
   "metadata": {},
   "outputs": [],
   "source": [
    "import pandas as pd\n",
    "import matplotlib.pyplot as plt\n",
    "\n",
    "df = pd.read_csv(\"Outiers_iqr.csv\")\n"
   ]
  },
  {
   "cell_type": "code",
   "execution_count": null,
   "id": "77af63d0-7bde-4ad1-8316-0cb743a4f40b",
   "metadata": {},
   "outputs": [],
   "source": []
  },
  {
   "cell_type": "code",
   "execution_count": null,
   "id": "5c5c9515-c1d8-4c08-a628-f7b77f4521bf",
   "metadata": {},
   "outputs": [],
   "source": [
    "df.describe()"
   ]
  },
  {
   "cell_type": "code",
   "execution_count": 63,
   "id": "6d9adb89-7e9c-4a88-bddb-ade571972e0d",
   "metadata": {},
   "outputs": [
    {
     "data": {
      "image/png": "[encoded data removed]",
      "text/plain": [
       "<Figure size 1000x500 with 1 Axes>"
      ]
     },
     "metadata": {},
     "output_type": "display_data"
    }
   ],
   "source": [
    "plt.figure(figsize= (10,5))\n",
    "plt.boxplot(df)\n",
    "plt.show()"
   ]
  },
  {
   "cell_type": "code",
   "execution_count": null,
   "id": "1c3b4ab5-2d32-4a0d-a177-cf8b1f562441",
   "metadata": {},
   "outputs": [],
   "source": []
  },
  {
   "cell_type": "code",
   "execution_count": 3,
   "id": "c6863647-0f82-4804-873c-089f49ca753d",
   "metadata": {},
   "outputs": [
    {
     "data": {
      "text/plain": [
       "(22, 10)"
      ]
     },
     "execution_count": 3,
     "metadata": {},
     "output_type": "execute_result"
    }
   ],
   "source": [
    "df.shape"
   ]
  },
  {
   "cell_type": "markdown",
   "id": "86ad3d99-5c39-4a5c-9e5d-dc65b76f2c54",
   "metadata": {},
   "source": [
    "### Calculate the IQR for 'Col1' in the DataFrame."
   ]
  },
  {
   "cell_type": "code",
   "execution_count": 4,
   "id": "af803145-6af6-476f-b808-f3b383cc83db",
   "metadata": {},
   "outputs": [
    {
     "data": {
      "text/plain": [
       "13.526885098934336"
      ]
     },
     "execution_count": 4,
     "metadata": {},
     "output_type": "execute_result"
    }
   ],
   "source": [
    "Q1 = df[\"Col1\"].quantile(0.25)\n",
    "Q3 = df[\"Col1\"].quantile(0.75)\n",
    "IQR = Q3 - Q1\n",
    "IQR"
   ]
  },
  {
   "cell_type": "markdown",
   "id": "1f13524d-2dc5-4631-b19e-882b40d179e7",
   "metadata": {},
   "source": [
    "### Identify outliers in 'Col1' using the IQR method."
   ]
  },
  {
   "cell_type": "code",
   "execution_count": 5,
   "id": "c6ca3ca8-d89f-4774-8335-ba03f8d656fe",
   "metadata": {},
   "outputs": [
    {
     "data": {
      "text/plain": [
       "(75.60131335782432, 21.493772962086982)"
      ]
     },
     "execution_count": 5,
     "metadata": {},
     "output_type": "execute_result"
    }
   ],
   "source": [
    "upper_limit = Q3 +1.5 * IQR\n",
    "lower_limit = Q1-1.5 * IQR\n",
    "upper_limit , lower_limit"
   ]
  },
  {
   "cell_type": "code",
   "execution_count": 6,
   "id": "e4b97af9-42d5-4ef9-8edc-e6bec7aafffa",
   "metadata": {},
   "outputs": [
    {
     "data": {
      "text/html": [
       "<div>\n",
       "<style scoped>\n",
       "    .dataframe tbody tr th:only-of-type {\n",
       "        vertical-align: middle;\n",
       "    }\n",
       "\n",
       "    .dataframe tbody tr th {\n",
       "        vertical-align: top;\n",
       "    }\n",
       "\n",
       "    .dataframe thead th {\n",
       "        text-align: right;\n",
       "    }\n",
       "</style>\n",
       "<table border=\"1\" class=\"dataframe\">\n",
       "  <thead>\n",
       "    <tr style=\"text-align: right;\">\n",
       "      <th></th>\n",
       "      <th>Col1</th>\n",
       "      <th>Col2</th>\n",
       "      <th>Col3</th>\n",
       "      <th>Col4</th>\n",
       "      <th>Col5</th>\n",
       "      <th>Col6</th>\n",
       "      <th>Col7</th>\n",
       "      <th>Col8</th>\n",
       "      <th>Col9</th>\n",
       "      <th>Col10</th>\n",
       "    </tr>\n",
       "  </thead>\n",
       "  <tbody>\n",
       "    <tr>\n",
       "      <th>20</th>\n",
       "      <td>500.0</td>\n",
       "      <td>600.0</td>\n",
       "      <td>700.0</td>\n",
       "      <td>800.0</td>\n",
       "      <td>900.0</td>\n",
       "      <td>1000.0</td>\n",
       "      <td>1100.0</td>\n",
       "      <td>1200.0</td>\n",
       "      <td>1300.0</td>\n",
       "      <td>1400.0</td>\n",
       "    </tr>\n",
       "    <tr>\n",
       "      <th>21</th>\n",
       "      <td>-500.0</td>\n",
       "      <td>-600.0</td>\n",
       "      <td>-700.0</td>\n",
       "      <td>-800.0</td>\n",
       "      <td>-900.0</td>\n",
       "      <td>-1000.0</td>\n",
       "      <td>-1100.0</td>\n",
       "      <td>-1200.0</td>\n",
       "      <td>-1300.0</td>\n",
       "      <td>-1400.0</td>\n",
       "    </tr>\n",
       "  </tbody>\n",
       "</table>\n",
       "</div>"
      ],
      "text/plain": [
       "     Col1   Col2   Col3   Col4   Col5    Col6    Col7    Col8    Col9   Col10\n",
       "20  500.0  600.0  700.0  800.0  900.0  1000.0  1100.0  1200.0  1300.0  1400.0\n",
       "21 -500.0 -600.0 -700.0 -800.0 -900.0 -1000.0 -1100.0 -1200.0 -1300.0 -1400.0"
      ]
     },
     "execution_count": 6,
     "metadata": {},
     "output_type": "execute_result"
    }
   ],
   "source": [
    "df[(df[\"Col1\"]>= 75.60)|(df[\"Col1\"]<= 21.49)]"
   ]
  },
  {
   "cell_type": "markdown",
   "id": "3e3d1a0a-3a56-45d8-b1e7-2202c08f07c4",
   "metadata": {},
   "source": [
    "### Remove the outliers from 'Col1' using the IQR method:"
   ]
  },
  {
   "cell_type": "code",
   "execution_count": 7,
   "id": "303991ed-1cba-4dbf-b9e9-4f7fbc2ce3cc",
   "metadata": {},
   "outputs": [
    {
     "data": {
      "text/html": [
       "<div>\n",
       "<style scoped>\n",
       "    .dataframe tbody tr th:only-of-type {\n",
       "        vertical-align: middle;\n",
       "    }\n",
       "\n",
       "    .dataframe tbody tr th {\n",
       "        vertical-align: top;\n",
       "    }\n",
       "\n",
       "    .dataframe thead th {\n",
       "        text-align: right;\n",
       "    }\n",
       "</style>\n",
       "<table border=\"1\" class=\"dataframe\">\n",
       "  <thead>\n",
       "    <tr style=\"text-align: right;\">\n",
       "      <th></th>\n",
       "      <th>Col1</th>\n",
       "      <th>Col2</th>\n",
       "      <th>Col3</th>\n",
       "      <th>Col4</th>\n",
       "      <th>Col5</th>\n",
       "      <th>Col6</th>\n",
       "      <th>Col7</th>\n",
       "      <th>Col8</th>\n",
       "      <th>Col9</th>\n",
       "      <th>Col10</th>\n",
       "    </tr>\n",
       "  </thead>\n",
       "  <tbody>\n",
       "    <tr>\n",
       "      <th>0</th>\n",
       "      <td>54.967142</td>\n",
       "      <td>81.984732</td>\n",
       "      <td>84.769332</td>\n",
       "      <td>68.020644</td>\n",
       "      <td>83.409843</td>\n",
       "      <td>50.462024</td>\n",
       "      <td>141.641278</td>\n",
       "      <td>130.235697</td>\n",
       "      <td>81.265916</td>\n",
       "      <td>174.411704</td>\n",
       "    </tr>\n",
       "    <tr>\n",
       "      <th>1</th>\n",
       "      <td>48.617357</td>\n",
       "      <td>56.613355</td>\n",
       "      <td>73.427366</td>\n",
       "      <td>75.358526</td>\n",
       "      <td>100.713377</td>\n",
       "      <td>85.277414</td>\n",
       "      <td>73.624502</td>\n",
       "      <td>178.821424</td>\n",
       "      <td>169.354230</td>\n",
       "      <td>92.856334</td>\n",
       "    </tr>\n",
       "    <tr>\n",
       "      <th>2</th>\n",
       "      <td>56.476885</td>\n",
       "      <td>61.012923</td>\n",
       "      <td>67.687034</td>\n",
       "      <td>52.341626</td>\n",
       "      <td>134.336821</td>\n",
       "      <td>88.004992</td>\n",
       "      <td>166.111772</td>\n",
       "      <td>47.663254</td>\n",
       "      <td>187.929779</td>\n",
       "      <td>81.100913</td>\n",
       "    </tr>\n",
       "    <tr>\n",
       "      <th>3</th>\n",
       "      <td>65.230299</td>\n",
       "      <td>38.628777</td>\n",
       "      <td>63.977926</td>\n",
       "      <td>50.094834</td>\n",
       "      <td>74.451893</td>\n",
       "      <td>71.920296</td>\n",
       "      <td>53.925957</td>\n",
       "      <td>128.308524</td>\n",
       "      <td>88.965884</td>\n",
       "      <td>166.535983</td>\n",
       "    </tr>\n",
       "    <tr>\n",
       "      <th>4</th>\n",
       "      <td>47.658466</td>\n",
       "      <td>51.834259</td>\n",
       "      <td>40.429560</td>\n",
       "      <td>100.313146</td>\n",
       "      <td>65.745192</td>\n",
       "      <td>94.355000</td>\n",
       "      <td>133.474284</td>\n",
       "      <td>131.694726</td>\n",
       "      <td>178.168806</td>\n",
       "      <td>127.709547</td>\n",
       "    </tr>\n",
       "  </tbody>\n",
       "</table>\n",
       "</div>"
      ],
      "text/plain": [
       "        Col1       Col2       Col3        Col4        Col5       Col6  \\\n",
       "0  54.967142  81.984732  84.769332   68.020644   83.409843  50.462024   \n",
       "1  48.617357  56.613355  73.427366   75.358526  100.713377  85.277414   \n",
       "2  56.476885  61.012923  67.687034   52.341626  134.336821  88.004992   \n",
       "3  65.230299  38.628777  63.977926   50.094834   74.451893  71.920296   \n",
       "4  47.658466  51.834259  40.429560  100.313146   65.745192  94.355000   \n",
       "\n",
       "         Col7        Col8        Col9       Col10  \n",
       "0  141.641278  130.235697   81.265916  174.411704  \n",
       "1   73.624502  178.821424  169.354230   92.856334  \n",
       "2  166.111772   47.663254  187.929779   81.100913  \n",
       "3   53.925957  128.308524   88.965884  166.535983  \n",
       "4  133.474284  131.694726  178.168806  127.709547  "
      ]
     },
     "execution_count": 7,
     "metadata": {},
     "output_type": "execute_result"
    }
   ],
   "source": [
    "df_col1 = df[(df[\"Col1\"]<=75.60)&(df[\"Col1\"]>=21.49)]\n",
    "df_col1.head()"
   ]
  },
  {
   "cell_type": "code",
   "execution_count": 8,
   "id": "f4893493-d879-45a0-8a5d-a7763995444e",
   "metadata": {},
   "outputs": [
    {
     "data": {
      "image/png": "[encoded data removed]",
      "text/plain": [
       "<Figure size 1000x500 with 2 Axes>"
      ]
     },
     "metadata": {},
     "output_type": "display_data"
    }
   ],
   "source": [
    "import matplotlib.pyplot as plt\n",
    "# before removal outliers\n",
    "plt.figure(figsize=(10,5))\n",
    "plt.subplot(1,2,1)\n",
    "plt.boxplot(df[\"Col1\"])\n",
    "plt.title(\"Before removal outiers\")\n",
    "\n",
    "# after removal outliers\n",
    "plt.subplot(1,2,2)\n",
    "plt.boxplot(df_col1[\"Col1\"])\n",
    "plt.title(\"after removal outliers\")\n",
    "          \n",
    "plt.show()"
   ]
  },
  {
   "cell_type": "markdown",
   "id": "5e1b3ef9-a323-4323-aeac-3ac43aed170c",
   "metadata": {},
   "source": [
    "### Calculate the IQR for 'Col2' in the DataFrame."
   ]
  },
  {
   "cell_type": "code",
   "execution_count": 9,
   "id": "c48e6e23-c550-42e6-a4c5-790ff5da4236",
   "metadata": {},
   "outputs": [
    {
     "data": {
      "text/plain": [
       "20.00303880789825"
      ]
     },
     "execution_count": 9,
     "metadata": {},
     "output_type": "execute_result"
    }
   ],
   "source": [
    "Q1 = df[\"Col2\"].quantile(0.25)\n",
    "Q3 = df[\"Col2\"].quantile(0.75)\n",
    "IQR = Q3 - Q1\n",
    "IQR"
   ]
  },
  {
   "cell_type": "code",
   "execution_count": 10,
   "id": "27fc8472-341a-477a-883a-a85fb7e138d1",
   "metadata": {},
   "outputs": [
    {
     "data": {
      "text/plain": [
       "(93.0925032901601, 13.08034805856709)"
      ]
     },
     "execution_count": 10,
     "metadata": {},
     "output_type": "execute_result"
    }
   ],
   "source": [
    "upper_limit = Q3 +1.5 * IQR\n",
    "lower_limit = Q1 - 1.5 * IQR\n",
    "upper_limit , lower_limit"
   ]
  },
  {
   "cell_type": "markdown",
   "id": "ccd3f4af-481c-455f-9bed-98a158d616b1",
   "metadata": {},
   "source": [
    "### Identify outliers in 'Col2' using the IQR method."
   ]
  },
  {
   "cell_type": "code",
   "execution_count": 11,
   "id": "bf2c6d35-450b-4525-bd4f-ae50ec63ce37",
   "metadata": {},
   "outputs": [
    {
     "data": {
      "text/html": [
       "<div>\n",
       "<style scoped>\n",
       "    .dataframe tbody tr th:only-of-type {\n",
       "        vertical-align: middle;\n",
       "    }\n",
       "\n",
       "    .dataframe tbody tr th {\n",
       "        vertical-align: top;\n",
       "    }\n",
       "\n",
       "    .dataframe thead th {\n",
       "        text-align: right;\n",
       "    }\n",
       "</style>\n",
       "<table border=\"1\" class=\"dataframe\">\n",
       "  <thead>\n",
       "    <tr style=\"text-align: right;\">\n",
       "      <th></th>\n",
       "      <th>Col1</th>\n",
       "      <th>Col2</th>\n",
       "      <th>Col3</th>\n",
       "      <th>Col4</th>\n",
       "      <th>Col5</th>\n",
       "      <th>Col6</th>\n",
       "      <th>Col7</th>\n",
       "      <th>Col8</th>\n",
       "      <th>Col9</th>\n",
       "      <th>Col10</th>\n",
       "    </tr>\n",
       "  </thead>\n",
       "  <tbody>\n",
       "    <tr>\n",
       "      <th>20</th>\n",
       "      <td>500.0</td>\n",
       "      <td>600.0</td>\n",
       "      <td>700.0</td>\n",
       "      <td>800.0</td>\n",
       "      <td>900.0</td>\n",
       "      <td>1000.0</td>\n",
       "      <td>1100.0</td>\n",
       "      <td>1200.0</td>\n",
       "      <td>1300.0</td>\n",
       "      <td>1400.0</td>\n",
       "    </tr>\n",
       "    <tr>\n",
       "      <th>21</th>\n",
       "      <td>-500.0</td>\n",
       "      <td>-600.0</td>\n",
       "      <td>-700.0</td>\n",
       "      <td>-800.0</td>\n",
       "      <td>-900.0</td>\n",
       "      <td>-1000.0</td>\n",
       "      <td>-1100.0</td>\n",
       "      <td>-1200.0</td>\n",
       "      <td>-1300.0</td>\n",
       "      <td>-1400.0</td>\n",
       "    </tr>\n",
       "  </tbody>\n",
       "</table>\n",
       "</div>"
      ],
      "text/plain": [
       "     Col1   Col2   Col3   Col4   Col5    Col6    Col7    Col8    Col9   Col10\n",
       "20  500.0  600.0  700.0  800.0  900.0  1000.0  1100.0  1200.0  1300.0  1400.0\n",
       "21 -500.0 -600.0 -700.0 -800.0 -900.0 -1000.0 -1100.0 -1200.0 -1300.0 -1400.0"
      ]
     },
     "execution_count": 11,
     "metadata": {},
     "output_type": "execute_result"
    }
   ],
   "source": [
    "df[(df[\"Col2\"]>=242.36)|(df[\"Col2\"]<=-31.67)]"
   ]
  },
  {
   "cell_type": "markdown",
   "id": "5778a209-97c3-4c99-9138-effd32191027",
   "metadata": {},
   "source": [
    "### Remove the outliers from 'Col2' using the IQR method."
   ]
  },
  {
   "cell_type": "code",
   "execution_count": 12,
   "id": "ce6d57c6-80a7-4a22-93f9-433893ff1e58",
   "metadata": {},
   "outputs": [
    {
     "data": {
      "text/html": [
       "<div>\n",
       "<style scoped>\n",
       "    .dataframe tbody tr th:only-of-type {\n",
       "        vertical-align: middle;\n",
       "    }\n",
       "\n",
       "    .dataframe tbody tr th {\n",
       "        vertical-align: top;\n",
       "    }\n",
       "\n",
       "    .dataframe thead th {\n",
       "        text-align: right;\n",
       "    }\n",
       "</style>\n",
       "<table border=\"1\" class=\"dataframe\">\n",
       "  <thead>\n",
       "    <tr style=\"text-align: right;\">\n",
       "      <th></th>\n",
       "      <th>Col1</th>\n",
       "      <th>Col2</th>\n",
       "      <th>Col3</th>\n",
       "      <th>Col4</th>\n",
       "      <th>Col5</th>\n",
       "      <th>Col6</th>\n",
       "      <th>Col7</th>\n",
       "      <th>Col8</th>\n",
       "      <th>Col9</th>\n",
       "      <th>Col10</th>\n",
       "    </tr>\n",
       "  </thead>\n",
       "  <tbody>\n",
       "    <tr>\n",
       "      <th>0</th>\n",
       "      <td>54.967142</td>\n",
       "      <td>81.984732</td>\n",
       "      <td>84.769332</td>\n",
       "      <td>68.020644</td>\n",
       "      <td>83.409843</td>\n",
       "      <td>50.462024</td>\n",
       "      <td>141.641278</td>\n",
       "      <td>130.235697</td>\n",
       "      <td>81.265916</td>\n",
       "      <td>174.411704</td>\n",
       "    </tr>\n",
       "    <tr>\n",
       "      <th>1</th>\n",
       "      <td>48.617357</td>\n",
       "      <td>56.613355</td>\n",
       "      <td>73.427366</td>\n",
       "      <td>75.358526</td>\n",
       "      <td>100.713377</td>\n",
       "      <td>85.277414</td>\n",
       "      <td>73.624502</td>\n",
       "      <td>178.821424</td>\n",
       "      <td>169.354230</td>\n",
       "      <td>92.856334</td>\n",
       "    </tr>\n",
       "    <tr>\n",
       "      <th>2</th>\n",
       "      <td>56.476885</td>\n",
       "      <td>61.012923</td>\n",
       "      <td>67.687034</td>\n",
       "      <td>52.341626</td>\n",
       "      <td>134.336821</td>\n",
       "      <td>88.004992</td>\n",
       "      <td>166.111772</td>\n",
       "      <td>47.663254</td>\n",
       "      <td>187.929779</td>\n",
       "      <td>81.100913</td>\n",
       "    </tr>\n",
       "    <tr>\n",
       "      <th>3</th>\n",
       "      <td>65.230299</td>\n",
       "      <td>38.628777</td>\n",
       "      <td>63.977926</td>\n",
       "      <td>50.094834</td>\n",
       "      <td>74.451893</td>\n",
       "      <td>71.920296</td>\n",
       "      <td>53.925957</td>\n",
       "      <td>128.308524</td>\n",
       "      <td>88.965884</td>\n",
       "      <td>166.535983</td>\n",
       "    </tr>\n",
       "    <tr>\n",
       "      <th>4</th>\n",
       "      <td>47.658466</td>\n",
       "      <td>51.834259</td>\n",
       "      <td>40.429560</td>\n",
       "      <td>100.313146</td>\n",
       "      <td>65.745192</td>\n",
       "      <td>94.355000</td>\n",
       "      <td>133.474284</td>\n",
       "      <td>131.694726</td>\n",
       "      <td>178.168806</td>\n",
       "      <td>127.709547</td>\n",
       "    </tr>\n",
       "  </tbody>\n",
       "</table>\n",
       "</div>"
      ],
      "text/plain": [
       "        Col1       Col2       Col3        Col4        Col5       Col6  \\\n",
       "0  54.967142  81.984732  84.769332   68.020644   83.409843  50.462024   \n",
       "1  48.617357  56.613355  73.427366   75.358526  100.713377  85.277414   \n",
       "2  56.476885  61.012923  67.687034   52.341626  134.336821  88.004992   \n",
       "3  65.230299  38.628777  63.977926   50.094834   74.451893  71.920296   \n",
       "4  47.658466  51.834259  40.429560  100.313146   65.745192  94.355000   \n",
       "\n",
       "         Col7        Col8        Col9       Col10  \n",
       "0  141.641278  130.235697   81.265916  174.411704  \n",
       "1   73.624502  178.821424  169.354230   92.856334  \n",
       "2  166.111772   47.663254  187.929779   81.100913  \n",
       "3   53.925957  128.308524   88.965884  166.535983  \n",
       "4  133.474284  131.694726  178.168806  127.709547  "
      ]
     },
     "execution_count": 12,
     "metadata": {},
     "output_type": "execute_result"
    }
   ],
   "source": [
    "df_col2 = df[(df[\"Col2\"]<=242.36)&(df[\"Col2\"]>=-31.67)]\n",
    "df_col2.head()"
   ]
  },
  {
   "cell_type": "code",
   "execution_count": 13,
   "id": "3255cc06-390c-4ba4-8a6f-ec350828fd47",
   "metadata": {},
   "outputs": [
    {
     "data": {
      "image/png": "[encoded data removed]",
      "text/plain": [
       "<Figure size 1000x500 with 2 Axes>"
      ]
     },
     "metadata": {},
     "output_type": "display_data"
    }
   ],
   "source": [
    "plt.figure(figsize=(10,5))\n",
    "plt.subplot(1,2,1)\n",
    "plt.boxplot(df[\"Col2\"])\n",
    "plt.title(\"before outlier removal\")\n",
    "\n",
    "# after outlier \n",
    "\n",
    "plt.subplot(1,2,2)\n",
    "plt.boxplot(df_col2[\"Col2\"])\n",
    "plt.title(\"after outlier removal\")\n",
    "\n",
    "plt.show()"
   ]
  },
  {
   "cell_type": "code",
   "execution_count": 14,
   "id": "9f6b9bff-5ade-47f2-aa77-c948d63e7691",
   "metadata": {},
   "outputs": [
    {
     "data": {
      "text/plain": [
       "count     22.000000\n",
       "mean      50.918521\n",
       "std      186.408413\n",
       "min     -600.000000\n",
       "25%       43.084906\n",
       "50%       56.118975\n",
       "75%       63.087945\n",
       "max      600.000000\n",
       "Name: Col2, dtype: float64"
      ]
     },
     "execution_count": 14,
     "metadata": {},
     "output_type": "execute_result"
    }
   ],
   "source": [
    "df[\"Col2\"].describe()"
   ]
  },
  {
   "cell_type": "code",
   "execution_count": 15,
   "id": "f5a31012-51ea-43b3-b761-c4f283356808",
   "metadata": {},
   "outputs": [
    {
     "data": {
      "text/plain": [
       "count    20.000000\n",
       "mean     56.010373\n",
       "std      14.520581\n",
       "min      30.604948\n",
       "25%      43.784526\n",
       "50%      56.118975\n",
       "75%      62.997927\n",
       "max      87.784173\n",
       "Name: Col2, dtype: float64"
      ]
     },
     "execution_count": 15,
     "metadata": {},
     "output_type": "execute_result"
    }
   ],
   "source": [
    "df_col2[\"Col2\"].describe()"
   ]
  },
  {
   "cell_type": "markdown",
   "id": "91e23d6f-42b7-423b-85f6-dff409254583",
   "metadata": {},
   "source": [
    "### Calculate the IQR for 'Col3' in the DataFrame."
   ]
  },
  {
   "cell_type": "code",
   "execution_count": 16,
   "id": "298e4b1b-d825-4051-97f8-f524e45d2e96",
   "metadata": {},
   "outputs": [
    {
     "data": {
      "text/plain": [
       "26.59240400352381"
      ]
     },
     "execution_count": 16,
     "metadata": {},
     "output_type": "execute_result"
    }
   ],
   "source": [
    "Q1 = df[\"Col3\"].quantile(0.25)\n",
    "Q3 = df[\"Col3\"].quantile(0.75)\n",
    "IQR = Q3 - Q1\n",
    "IQR"
   ]
  },
  {
   "cell_type": "markdown",
   "id": "cc11e4ad-7f86-4978-ac73-60062a58fcb2",
   "metadata": {},
   "source": [
    "### Identify outliers in 'Col3' using the IQR method."
   ]
  },
  {
   "cell_type": "code",
   "execution_count": 17,
   "id": "1177f5fc-f839-4114-8bab-16b7bd96954d",
   "metadata": {},
   "outputs": [
    {
     "data": {
      "text/plain": [
       "(124.0239861494212, 17.65437013532597)"
      ]
     },
     "execution_count": 17,
     "metadata": {},
     "output_type": "execute_result"
    }
   ],
   "source": [
    "upper_limit = Q3+ 1.5* IQR\n",
    "lower_limit = Q1 - 1.5* IQR\n",
    "upper_limit , lower_limit"
   ]
  },
  {
   "cell_type": "code",
   "execution_count": 18,
   "id": "8d732eba-4706-4ada-9ac6-e8283bf9c5f9",
   "metadata": {},
   "outputs": [
    {
     "data": {
      "text/html": [
       "<div>\n",
       "<style scoped>\n",
       "    .dataframe tbody tr th:only-of-type {\n",
       "        vertical-align: middle;\n",
       "    }\n",
       "\n",
       "    .dataframe tbody tr th {\n",
       "        vertical-align: top;\n",
       "    }\n",
       "\n",
       "    .dataframe thead th {\n",
       "        text-align: right;\n",
       "    }\n",
       "</style>\n",
       "<table border=\"1\" class=\"dataframe\">\n",
       "  <thead>\n",
       "    <tr style=\"text-align: right;\">\n",
       "      <th></th>\n",
       "      <th>Col1</th>\n",
       "      <th>Col2</th>\n",
       "      <th>Col3</th>\n",
       "      <th>Col4</th>\n",
       "      <th>Col5</th>\n",
       "      <th>Col6</th>\n",
       "      <th>Col7</th>\n",
       "      <th>Col8</th>\n",
       "      <th>Col9</th>\n",
       "      <th>Col10</th>\n",
       "    </tr>\n",
       "  </thead>\n",
       "  <tbody>\n",
       "    <tr>\n",
       "      <th>20</th>\n",
       "      <td>500.0</td>\n",
       "      <td>600.0</td>\n",
       "      <td>700.0</td>\n",
       "      <td>800.0</td>\n",
       "      <td>900.0</td>\n",
       "      <td>1000.0</td>\n",
       "      <td>1100.0</td>\n",
       "      <td>1200.0</td>\n",
       "      <td>1300.0</td>\n",
       "      <td>1400.0</td>\n",
       "    </tr>\n",
       "    <tr>\n",
       "      <th>21</th>\n",
       "      <td>-500.0</td>\n",
       "      <td>-600.0</td>\n",
       "      <td>-700.0</td>\n",
       "      <td>-800.0</td>\n",
       "      <td>-900.0</td>\n",
       "      <td>-1000.0</td>\n",
       "      <td>-1100.0</td>\n",
       "      <td>-1200.0</td>\n",
       "      <td>-1300.0</td>\n",
       "      <td>-1400.0</td>\n",
       "    </tr>\n",
       "  </tbody>\n",
       "</table>\n",
       "</div>"
      ],
      "text/plain": [
       "     Col1   Col2   Col3   Col4   Col5    Col6    Col7    Col8    Col9   Col10\n",
       "20  500.0  600.0  700.0  800.0  900.0  1000.0  1100.0  1200.0  1300.0  1400.0\n",
       "21 -500.0 -600.0 -700.0 -800.0 -900.0 -1000.0 -1100.0 -1200.0 -1300.0 -1400.0"
      ]
     },
     "execution_count": 18,
     "metadata": {},
     "output_type": "execute_result"
    }
   ],
   "source": [
    "df[(df[\"Col3\"]>=242.36)|(df[\"Col3\"]<=-31.67)]"
   ]
  },
  {
   "cell_type": "markdown",
   "id": "37d2a6b8-74af-4678-82a1-9ab8a06fa610",
   "metadata": {},
   "source": [
    "### Remove the outliers from 'Col3' using the IQR method."
   ]
  },
  {
   "cell_type": "code",
   "execution_count": 19,
   "id": "76052efa-3f1f-4756-9ad2-2cfe83e055ca",
   "metadata": {},
   "outputs": [
    {
     "data": {
      "text/html": [
       "<div>\n",
       "<style scoped>\n",
       "    .dataframe tbody tr th:only-of-type {\n",
       "        vertical-align: middle;\n",
       "    }\n",
       "\n",
       "    .dataframe tbody tr th {\n",
       "        vertical-align: top;\n",
       "    }\n",
       "\n",
       "    .dataframe thead th {\n",
       "        text-align: right;\n",
       "    }\n",
       "</style>\n",
       "<table border=\"1\" class=\"dataframe\">\n",
       "  <thead>\n",
       "    <tr style=\"text-align: right;\">\n",
       "      <th></th>\n",
       "      <th>Col1</th>\n",
       "      <th>Col2</th>\n",
       "      <th>Col3</th>\n",
       "      <th>Col4</th>\n",
       "      <th>Col5</th>\n",
       "      <th>Col6</th>\n",
       "      <th>Col7</th>\n",
       "      <th>Col8</th>\n",
       "      <th>Col9</th>\n",
       "      <th>Col10</th>\n",
       "    </tr>\n",
       "  </thead>\n",
       "  <tbody>\n",
       "    <tr>\n",
       "      <th>0</th>\n",
       "      <td>54.967142</td>\n",
       "      <td>81.984732</td>\n",
       "      <td>84.769332</td>\n",
       "      <td>68.020644</td>\n",
       "      <td>83.409843</td>\n",
       "      <td>50.462024</td>\n",
       "      <td>141.641278</td>\n",
       "      <td>130.235697</td>\n",
       "      <td>81.265916</td>\n",
       "      <td>174.411704</td>\n",
       "    </tr>\n",
       "    <tr>\n",
       "      <th>1</th>\n",
       "      <td>48.617357</td>\n",
       "      <td>56.613355</td>\n",
       "      <td>73.427366</td>\n",
       "      <td>75.358526</td>\n",
       "      <td>100.713377</td>\n",
       "      <td>85.277414</td>\n",
       "      <td>73.624502</td>\n",
       "      <td>178.821424</td>\n",
       "      <td>169.354230</td>\n",
       "      <td>92.856334</td>\n",
       "    </tr>\n",
       "    <tr>\n",
       "      <th>2</th>\n",
       "      <td>56.476885</td>\n",
       "      <td>61.012923</td>\n",
       "      <td>67.687034</td>\n",
       "      <td>52.341626</td>\n",
       "      <td>134.336821</td>\n",
       "      <td>88.004992</td>\n",
       "      <td>166.111772</td>\n",
       "      <td>47.663254</td>\n",
       "      <td>187.929779</td>\n",
       "      <td>81.100913</td>\n",
       "    </tr>\n",
       "    <tr>\n",
       "      <th>3</th>\n",
       "      <td>65.230299</td>\n",
       "      <td>38.628777</td>\n",
       "      <td>63.977926</td>\n",
       "      <td>50.094834</td>\n",
       "      <td>74.451893</td>\n",
       "      <td>71.920296</td>\n",
       "      <td>53.925957</td>\n",
       "      <td>128.308524</td>\n",
       "      <td>88.965884</td>\n",
       "      <td>166.535983</td>\n",
       "    </tr>\n",
       "    <tr>\n",
       "      <th>4</th>\n",
       "      <td>47.658466</td>\n",
       "      <td>51.834259</td>\n",
       "      <td>40.429560</td>\n",
       "      <td>100.313146</td>\n",
       "      <td>65.745192</td>\n",
       "      <td>94.355000</td>\n",
       "      <td>133.474284</td>\n",
       "      <td>131.694726</td>\n",
       "      <td>178.168806</td>\n",
       "      <td>127.709547</td>\n",
       "    </tr>\n",
       "  </tbody>\n",
       "</table>\n",
       "</div>"
      ],
      "text/plain": [
       "        Col1       Col2       Col3        Col4        Col5       Col6  \\\n",
       "0  54.967142  81.984732  84.769332   68.020644   83.409843  50.462024   \n",
       "1  48.617357  56.613355  73.427366   75.358526  100.713377  85.277414   \n",
       "2  56.476885  61.012923  67.687034   52.341626  134.336821  88.004992   \n",
       "3  65.230299  38.628777  63.977926   50.094834   74.451893  71.920296   \n",
       "4  47.658466  51.834259  40.429560  100.313146   65.745192  94.355000   \n",
       "\n",
       "         Col7        Col8        Col9       Col10  \n",
       "0  141.641278  130.235697   81.265916  174.411704  \n",
       "1   73.624502  178.821424  169.354230   92.856334  \n",
       "2  166.111772   47.663254  187.929779   81.100913  \n",
       "3   53.925957  128.308524   88.965884  166.535983  \n",
       "4  133.474284  131.694726  178.168806  127.709547  "
      ]
     },
     "execution_count": 19,
     "metadata": {},
     "output_type": "execute_result"
    }
   ],
   "source": [
    "df_col3 = df[(df[\"Col3\"]<=242.36)&(df[\"Col3\"]>=-31.67)]\n",
    "df_col3.head()"
   ]
  },
  {
   "cell_type": "code",
   "execution_count": 20,
   "id": "21d0c0fe-89f7-4a93-8ab7-47b90ed9f32c",
   "metadata": {},
   "outputs": [
    {
     "data": {
      "image/png": "[encoded data removed]",
      "text/plain": [
       "<Figure size 1000x500 with 2 Axes>"
      ]
     },
     "metadata": {},
     "output_type": "display_data"
    }
   ],
   "source": [
    "plt.figure(figsize=(10,5))\n",
    "# before removal outlier\n",
    "plt.subplot(1,2,1)\n",
    "plt.boxplot(df[\"Col3\"])\n",
    "plt.title(\"before outlier removal\")\n",
    "\n",
    "# after outlier removal\n",
    "plt.subplot(1,2,2)\n",
    "plt.boxplot(df_col3[\"Col3\"])\n",
    "plt.title(\"after outlier removal\")\n",
    "\n",
    "plt.show()"
   ]
  },
  {
   "cell_type": "markdown",
   "id": "825bc653-0582-4a4c-898a-9dc8d5d6f2fc",
   "metadata": {},
   "source": [
    "### Calculate the IQR for 'Col4' in the DataFrame."
   ]
  },
  {
   "cell_type": "code",
   "execution_count": 21,
   "id": "13731e67-6c2a-4650-83c7-97ac465a6645",
   "metadata": {},
   "outputs": [
    {
     "data": {
      "text/plain": [
       "35.57979273237832"
      ]
     },
     "execution_count": 21,
     "metadata": {},
     "output_type": "execute_result"
    }
   ],
   "source": [
    "Q1 = df[\"Col4\"].quantile(0.25)\n",
    "Q3 = df[\"Col4\"].quantile(0.75)\n",
    "IQR = Q3 - Q1\n",
    "IQR"
   ]
  },
  {
   "cell_type": "markdown",
   "id": "b86efbe3-4f59-4969-9007-26ee69e39f1f",
   "metadata": {},
   "source": [
    "### Identify outliers in 'Col4' using the IQR method."
   ]
  },
  {
   "cell_type": "code",
   "execution_count": 22,
   "id": "b572471d-3064-421e-969b-b8448f56a969",
   "metadata": {},
   "outputs": [
    {
     "data": {
      "text/plain": [
       "(153.85864744556667, 11.539476516053377)"
      ]
     },
     "execution_count": 22,
     "metadata": {},
     "output_type": "execute_result"
    }
   ],
   "source": [
    "upper_limit = Q3 + 1.5 * IQR\n",
    "lower_limit = Q1 - 1.5 * IQR\n",
    "upper_limit , lower_limit"
   ]
  },
  {
   "cell_type": "code",
   "execution_count": 23,
   "id": "d1e6d8e5-c28f-41a4-bcaf-6f39969df2d7",
   "metadata": {},
   "outputs": [
    {
     "data": {
      "text/html": [
       "<div>\n",
       "<style scoped>\n",
       "    .dataframe tbody tr th:only-of-type {\n",
       "        vertical-align: middle;\n",
       "    }\n",
       "\n",
       "    .dataframe tbody tr th {\n",
       "        vertical-align: top;\n",
       "    }\n",
       "\n",
       "    .dataframe thead th {\n",
       "        text-align: right;\n",
       "    }\n",
       "</style>\n",
       "<table border=\"1\" class=\"dataframe\">\n",
       "  <thead>\n",
       "    <tr style=\"text-align: right;\">\n",
       "      <th></th>\n",
       "      <th>Col1</th>\n",
       "      <th>Col2</th>\n",
       "      <th>Col3</th>\n",
       "      <th>Col4</th>\n",
       "      <th>Col5</th>\n",
       "      <th>Col6</th>\n",
       "      <th>Col7</th>\n",
       "      <th>Col8</th>\n",
       "      <th>Col9</th>\n",
       "      <th>Col10</th>\n",
       "    </tr>\n",
       "  </thead>\n",
       "  <tbody>\n",
       "    <tr>\n",
       "      <th>20</th>\n",
       "      <td>500.0</td>\n",
       "      <td>600.0</td>\n",
       "      <td>700.0</td>\n",
       "      <td>800.0</td>\n",
       "      <td>900.0</td>\n",
       "      <td>1000.0</td>\n",
       "      <td>1100.0</td>\n",
       "      <td>1200.0</td>\n",
       "      <td>1300.0</td>\n",
       "      <td>1400.0</td>\n",
       "    </tr>\n",
       "    <tr>\n",
       "      <th>21</th>\n",
       "      <td>-500.0</td>\n",
       "      <td>-600.0</td>\n",
       "      <td>-700.0</td>\n",
       "      <td>-800.0</td>\n",
       "      <td>-900.0</td>\n",
       "      <td>-1000.0</td>\n",
       "      <td>-1100.0</td>\n",
       "      <td>-1200.0</td>\n",
       "      <td>-1300.0</td>\n",
       "      <td>-1400.0</td>\n",
       "    </tr>\n",
       "  </tbody>\n",
       "</table>\n",
       "</div>"
      ],
      "text/plain": [
       "     Col1   Col2   Col3   Col4   Col5    Col6    Col7    Col8    Col9   Col10\n",
       "20  500.0  600.0  700.0  800.0  900.0  1000.0  1100.0  1200.0  1300.0  1400.0\n",
       "21 -500.0 -600.0 -700.0 -800.0 -900.0 -1000.0 -1100.0 -1200.0 -1300.0 -1400.0"
      ]
     },
     "execution_count": 23,
     "metadata": {},
     "output_type": "execute_result"
    }
   ],
   "source": [
    "df[(df[\"Col4\"]>=242.36)|(df[\"Col4\"]<=-31.67)]"
   ]
  },
  {
   "cell_type": "markdown",
   "id": "32275ce6-244c-495e-8494-4a911fed9470",
   "metadata": {},
   "source": [
    "### Remove the outliers from 'Col4' using the IQR method.\n"
   ]
  },
  {
   "cell_type": "code",
   "execution_count": 24,
   "id": "49b80766-7767-4eb3-9e70-006e03347436",
   "metadata": {},
   "outputs": [
    {
     "data": {
      "text/html": [
       "<div>\n",
       "<style scoped>\n",
       "    .dataframe tbody tr th:only-of-type {\n",
       "        vertical-align: middle;\n",
       "    }\n",
       "\n",
       "    .dataframe tbody tr th {\n",
       "        vertical-align: top;\n",
       "    }\n",
       "\n",
       "    .dataframe thead th {\n",
       "        text-align: right;\n",
       "    }\n",
       "</style>\n",
       "<table border=\"1\" class=\"dataframe\">\n",
       "  <thead>\n",
       "    <tr style=\"text-align: right;\">\n",
       "      <th></th>\n",
       "      <th>Col1</th>\n",
       "      <th>Col2</th>\n",
       "      <th>Col3</th>\n",
       "      <th>Col4</th>\n",
       "      <th>Col5</th>\n",
       "      <th>Col6</th>\n",
       "      <th>Col7</th>\n",
       "      <th>Col8</th>\n",
       "      <th>Col9</th>\n",
       "      <th>Col10</th>\n",
       "    </tr>\n",
       "  </thead>\n",
       "  <tbody>\n",
       "    <tr>\n",
       "      <th>0</th>\n",
       "      <td>54.967142</td>\n",
       "      <td>81.984732</td>\n",
       "      <td>84.769332</td>\n",
       "      <td>68.020644</td>\n",
       "      <td>83.409843</td>\n",
       "      <td>50.462024</td>\n",
       "      <td>141.641278</td>\n",
       "      <td>130.235697</td>\n",
       "      <td>81.265916</td>\n",
       "      <td>174.411704</td>\n",
       "    </tr>\n",
       "    <tr>\n",
       "      <th>1</th>\n",
       "      <td>48.617357</td>\n",
       "      <td>56.613355</td>\n",
       "      <td>73.427366</td>\n",
       "      <td>75.358526</td>\n",
       "      <td>100.713377</td>\n",
       "      <td>85.277414</td>\n",
       "      <td>73.624502</td>\n",
       "      <td>178.821424</td>\n",
       "      <td>169.354230</td>\n",
       "      <td>92.856334</td>\n",
       "    </tr>\n",
       "    <tr>\n",
       "      <th>2</th>\n",
       "      <td>56.476885</td>\n",
       "      <td>61.012923</td>\n",
       "      <td>67.687034</td>\n",
       "      <td>52.341626</td>\n",
       "      <td>134.336821</td>\n",
       "      <td>88.004992</td>\n",
       "      <td>166.111772</td>\n",
       "      <td>47.663254</td>\n",
       "      <td>187.929779</td>\n",
       "      <td>81.100913</td>\n",
       "    </tr>\n",
       "    <tr>\n",
       "      <th>3</th>\n",
       "      <td>65.230299</td>\n",
       "      <td>38.628777</td>\n",
       "      <td>63.977926</td>\n",
       "      <td>50.094834</td>\n",
       "      <td>74.451893</td>\n",
       "      <td>71.920296</td>\n",
       "      <td>53.925957</td>\n",
       "      <td>128.308524</td>\n",
       "      <td>88.965884</td>\n",
       "      <td>166.535983</td>\n",
       "    </tr>\n",
       "    <tr>\n",
       "      <th>4</th>\n",
       "      <td>47.658466</td>\n",
       "      <td>51.834259</td>\n",
       "      <td>40.429560</td>\n",
       "      <td>100.313146</td>\n",
       "      <td>65.745192</td>\n",
       "      <td>94.355000</td>\n",
       "      <td>133.474284</td>\n",
       "      <td>131.694726</td>\n",
       "      <td>178.168806</td>\n",
       "      <td>127.709547</td>\n",
       "    </tr>\n",
       "  </tbody>\n",
       "</table>\n",
       "</div>"
      ],
      "text/plain": [
       "        Col1       Col2       Col3        Col4        Col5       Col6  \\\n",
       "0  54.967142  81.984732  84.769332   68.020644   83.409843  50.462024   \n",
       "1  48.617357  56.613355  73.427366   75.358526  100.713377  85.277414   \n",
       "2  56.476885  61.012923  67.687034   52.341626  134.336821  88.004992   \n",
       "3  65.230299  38.628777  63.977926   50.094834   74.451893  71.920296   \n",
       "4  47.658466  51.834259  40.429560  100.313146   65.745192  94.355000   \n",
       "\n",
       "         Col7        Col8        Col9       Col10  \n",
       "0  141.641278  130.235697   81.265916  174.411704  \n",
       "1   73.624502  178.821424  169.354230   92.856334  \n",
       "2  166.111772   47.663254  187.929779   81.100913  \n",
       "3   53.925957  128.308524   88.965884  166.535983  \n",
       "4  133.474284  131.694726  178.168806  127.709547  "
      ]
     },
     "execution_count": 24,
     "metadata": {},
     "output_type": "execute_result"
    }
   ],
   "source": [
    "df_col4 = df[(df[\"Col4\"]<=242.36)&(df[\"Col4\"]>=-31.67)]\n",
    "df_col4.head()"
   ]
  },
  {
   "cell_type": "code",
   "execution_count": 25,
   "id": "559742e1-dbeb-454c-9a3c-83c66fd48aa8",
   "metadata": {},
   "outputs": [
    {
     "data": {
      "image/png": "[encoded data removed]",
      "text/plain": [
       "<Figure size 1000x500 with 2 Axes>"
      ]
     },
     "metadata": {},
     "output_type": "display_data"
    }
   ],
   "source": [
    "plt.figure(figsize=(10,5))\n",
    "# before removal outlier\n",
    "plt.subplot(1,2,1)\n",
    "plt.boxplot(df[\"Col4\"])\n",
    "plt.title(\"before outlier removal\")\n",
    "\n",
    "# after outlier removal\n",
    "\n",
    "plt.subplot(1,2,2)\n",
    "plt.boxplot(df_col4[\"Col4\"])\n",
    "plt.title(\"after outlier removal\")\n",
    "\n",
    "plt.show()"
   ]
  },
  {
   "cell_type": "markdown",
   "id": "e84bd011-ca4c-4ee1-b099-0eff8eb9be61",
   "metadata": {},
   "source": [
    "### Calculate the IQR for 'Col5' in the DataFrame.\n"
   ]
  },
  {
   "cell_type": "code",
   "execution_count": 26,
   "id": "83d09de9-66e5-48a3-9234-62ac5c5099f8",
   "metadata": {},
   "outputs": [
    {
     "data": {
      "text/plain": [
       "25.924923919503016"
      ]
     },
     "execution_count": 26,
     "metadata": {},
     "output_type": "execute_result"
    }
   ],
   "source": [
    "Q1 = df[\"Col5\"].quantile(0.25)\n",
    "Q3 = df[\"Col5\"].quantile(0.75)\n",
    "IQR = Q3 - Q1\n",
    "IQR"
   ]
  },
  {
   "cell_type": "markdown",
   "id": "de9db1fa-b460-453f-89e8-829c41e2c0b8",
   "metadata": {},
   "source": [
    "### Identify outliers in 'Col5' using the IQR method.\n"
   ]
  },
  {
   "cell_type": "code",
   "execution_count": 27,
   "id": "7f02e64a-940d-4ffe-a414-e70496c066b6",
   "metadata": {},
   "outputs": [
    {
     "data": {
      "text/plain": [
       "(139.38805206071646, 35.688356382704384)"
      ]
     },
     "execution_count": 27,
     "metadata": {},
     "output_type": "execute_result"
    }
   ],
   "source": [
    "upper_limit = Q3 + 1.5* IQR\n",
    "lower_limit = Q1 - 1.5 * IQR\n",
    "upper_limit , lower_limit"
   ]
  },
  {
   "cell_type": "code",
   "execution_count": 28,
   "id": "0d7d4e8f-a95d-497e-ac28-eb2fa5b487e2",
   "metadata": {},
   "outputs": [
    {
     "data": {
      "text/html": [
       "<div>\n",
       "<style scoped>\n",
       "    .dataframe tbody tr th:only-of-type {\n",
       "        vertical-align: middle;\n",
       "    }\n",
       "\n",
       "    .dataframe tbody tr th {\n",
       "        vertical-align: top;\n",
       "    }\n",
       "\n",
       "    .dataframe thead th {\n",
       "        text-align: right;\n",
       "    }\n",
       "</style>\n",
       "<table border=\"1\" class=\"dataframe\">\n",
       "  <thead>\n",
       "    <tr style=\"text-align: right;\">\n",
       "      <th></th>\n",
       "      <th>Col1</th>\n",
       "      <th>Col2</th>\n",
       "      <th>Col3</th>\n",
       "      <th>Col4</th>\n",
       "      <th>Col5</th>\n",
       "      <th>Col6</th>\n",
       "      <th>Col7</th>\n",
       "      <th>Col8</th>\n",
       "      <th>Col9</th>\n",
       "      <th>Col10</th>\n",
       "    </tr>\n",
       "  </thead>\n",
       "  <tbody>\n",
       "    <tr>\n",
       "      <th>20</th>\n",
       "      <td>500.0</td>\n",
       "      <td>600.0</td>\n",
       "      <td>700.0</td>\n",
       "      <td>800.0</td>\n",
       "      <td>900.0</td>\n",
       "      <td>1000.0</td>\n",
       "      <td>1100.0</td>\n",
       "      <td>1200.0</td>\n",
       "      <td>1300.0</td>\n",
       "      <td>1400.0</td>\n",
       "    </tr>\n",
       "    <tr>\n",
       "      <th>21</th>\n",
       "      <td>-500.0</td>\n",
       "      <td>-600.0</td>\n",
       "      <td>-700.0</td>\n",
       "      <td>-800.0</td>\n",
       "      <td>-900.0</td>\n",
       "      <td>-1000.0</td>\n",
       "      <td>-1100.0</td>\n",
       "      <td>-1200.0</td>\n",
       "      <td>-1300.0</td>\n",
       "      <td>-1400.0</td>\n",
       "    </tr>\n",
       "  </tbody>\n",
       "</table>\n",
       "</div>"
      ],
      "text/plain": [
       "     Col1   Col2   Col3   Col4   Col5    Col6    Col7    Col8    Col9   Col10\n",
       "20  500.0  600.0  700.0  800.0  900.0  1000.0  1100.0  1200.0  1300.0  1400.0\n",
       "21 -500.0 -600.0 -700.0 -800.0 -900.0 -1000.0 -1100.0 -1200.0 -1300.0 -1400.0"
      ]
     },
     "execution_count": 28,
     "metadata": {},
     "output_type": "execute_result"
    }
   ],
   "source": [
    "df[(df[\"Col5\"]>=242.36)|(df[\"Col5\"]<=-31.67)]"
   ]
  },
  {
   "cell_type": "markdown",
   "id": "925e3e48-fdfd-4a6f-9ca4-19030f8b95da",
   "metadata": {},
   "source": [
    "### Remove the outliers from 'Col5' using the IQR method.\n"
   ]
  },
  {
   "cell_type": "code",
   "execution_count": 29,
   "id": "14dc8e71-4a8f-4911-86d6-52563d24a029",
   "metadata": {},
   "outputs": [
    {
     "data": {
      "text/html": [
       "<div>\n",
       "<style scoped>\n",
       "    .dataframe tbody tr th:only-of-type {\n",
       "        vertical-align: middle;\n",
       "    }\n",
       "\n",
       "    .dataframe tbody tr th {\n",
       "        vertical-align: top;\n",
       "    }\n",
       "\n",
       "    .dataframe thead th {\n",
       "        text-align: right;\n",
       "    }\n",
       "</style>\n",
       "<table border=\"1\" class=\"dataframe\">\n",
       "  <thead>\n",
       "    <tr style=\"text-align: right;\">\n",
       "      <th></th>\n",
       "      <th>Col1</th>\n",
       "      <th>Col2</th>\n",
       "      <th>Col3</th>\n",
       "      <th>Col4</th>\n",
       "      <th>Col5</th>\n",
       "      <th>Col6</th>\n",
       "      <th>Col7</th>\n",
       "      <th>Col8</th>\n",
       "      <th>Col9</th>\n",
       "      <th>Col10</th>\n",
       "    </tr>\n",
       "  </thead>\n",
       "  <tbody>\n",
       "    <tr>\n",
       "      <th>0</th>\n",
       "      <td>54.967142</td>\n",
       "      <td>81.984732</td>\n",
       "      <td>84.769332</td>\n",
       "      <td>68.020644</td>\n",
       "      <td>83.409843</td>\n",
       "      <td>50.462024</td>\n",
       "      <td>141.641278</td>\n",
       "      <td>130.235697</td>\n",
       "      <td>81.265916</td>\n",
       "      <td>174.411704</td>\n",
       "    </tr>\n",
       "    <tr>\n",
       "      <th>1</th>\n",
       "      <td>48.617357</td>\n",
       "      <td>56.613355</td>\n",
       "      <td>73.427366</td>\n",
       "      <td>75.358526</td>\n",
       "      <td>100.713377</td>\n",
       "      <td>85.277414</td>\n",
       "      <td>73.624502</td>\n",
       "      <td>178.821424</td>\n",
       "      <td>169.354230</td>\n",
       "      <td>92.856334</td>\n",
       "    </tr>\n",
       "    <tr>\n",
       "      <th>2</th>\n",
       "      <td>56.476885</td>\n",
       "      <td>61.012923</td>\n",
       "      <td>67.687034</td>\n",
       "      <td>52.341626</td>\n",
       "      <td>134.336821</td>\n",
       "      <td>88.004992</td>\n",
       "      <td>166.111772</td>\n",
       "      <td>47.663254</td>\n",
       "      <td>187.929779</td>\n",
       "      <td>81.100913</td>\n",
       "    </tr>\n",
       "    <tr>\n",
       "      <th>3</th>\n",
       "      <td>65.230299</td>\n",
       "      <td>38.628777</td>\n",
       "      <td>63.977926</td>\n",
       "      <td>50.094834</td>\n",
       "      <td>74.451893</td>\n",
       "      <td>71.920296</td>\n",
       "      <td>53.925957</td>\n",
       "      <td>128.308524</td>\n",
       "      <td>88.965884</td>\n",
       "      <td>166.535983</td>\n",
       "    </tr>\n",
       "    <tr>\n",
       "      <th>4</th>\n",
       "      <td>47.658466</td>\n",
       "      <td>51.834259</td>\n",
       "      <td>40.429560</td>\n",
       "      <td>100.313146</td>\n",
       "      <td>65.745192</td>\n",
       "      <td>94.355000</td>\n",
       "      <td>133.474284</td>\n",
       "      <td>131.694726</td>\n",
       "      <td>178.168806</td>\n",
       "      <td>127.709547</td>\n",
       "    </tr>\n",
       "  </tbody>\n",
       "</table>\n",
       "</div>"
      ],
      "text/plain": [
       "        Col1       Col2       Col3        Col4        Col5       Col6  \\\n",
       "0  54.967142  81.984732  84.769332   68.020644   83.409843  50.462024   \n",
       "1  48.617357  56.613355  73.427366   75.358526  100.713377  85.277414   \n",
       "2  56.476885  61.012923  67.687034   52.341626  134.336821  88.004992   \n",
       "3  65.230299  38.628777  63.977926   50.094834   74.451893  71.920296   \n",
       "4  47.658466  51.834259  40.429560  100.313146   65.745192  94.355000   \n",
       "\n",
       "         Col7        Col8        Col9       Col10  \n",
       "0  141.641278  130.235697   81.265916  174.411704  \n",
       "1   73.624502  178.821424  169.354230   92.856334  \n",
       "2  166.111772   47.663254  187.929779   81.100913  \n",
       "3   53.925957  128.308524   88.965884  166.535983  \n",
       "4  133.474284  131.694726  178.168806  127.709547  "
      ]
     },
     "execution_count": 29,
     "metadata": {},
     "output_type": "execute_result"
    }
   ],
   "source": [
    "df_col5 = df[(df[\"Col5\"]<=242.36)&(df[\"Col5\"]>=-31.67)]\n",
    "df_col5.head()"
   ]
  },
  {
   "cell_type": "code",
   "execution_count": 30,
   "id": "9016f4fb-103b-48a5-8202-bc7d283d9685",
   "metadata": {},
   "outputs": [
    {
     "data": {
      "image/png": "[encoded data removed]",
      "text/plain": [
       "<Figure size 1000x500 with 2 Axes>"
      ]
     },
     "metadata": {},
     "output_type": "display_data"
    }
   ],
   "source": [
    "# before outlier removal\n",
    "plt.figure(figsize=(10,5))\n",
    "plt.subplot(1,2,1)\n",
    "plt.boxplot(df[\"Col5\"])\n",
    "plt.title(\"before outlier removal\")\n",
    "\n",
    "# after outlier removal\n",
    "plt.subplot(1,2,2)\n",
    "plt.boxplot(df_col5[\"Col5\"])\n",
    "plt.title(\"after outlier removal\")\n",
    "plt.show()"
   ]
  },
  {
   "cell_type": "markdown",
   "id": "10ac7fff-a2fb-4f88-baa6-6acb8249fbc8",
   "metadata": {},
   "source": [
    "### Calculate the IQR for 'Col6' in the DataFrame.\n"
   ]
  },
  {
   "cell_type": "code",
   "execution_count": 31,
   "id": "3aeca760-8283-423c-bc4d-8e615329a358",
   "metadata": {},
   "outputs": [
    {
     "data": {
      "text/plain": [
       "27.28556597900065"
      ]
     },
     "execution_count": 31,
     "metadata": {},
     "output_type": "execute_result"
    }
   ],
   "source": [
    "Q1= df[\"Col6\"].quantile(0.25)\n",
    "Q3 = df[\"Col6\"].quantile(0.75)\n",
    "IQR = Q3 - Q1\n",
    "IQR"
   ]
  },
  {
   "cell_type": "markdown",
   "id": "4c835c50-db6f-4dd9-962b-495e01cb0c02",
   "metadata": {},
   "source": [
    "### Identify outliers in 'Col6' using the IQR method."
   ]
  },
  {
   "cell_type": "code",
   "execution_count": 32,
   "id": "8672eb58-48c0-4efc-bc6f-c121b5a60804",
   "metadata": {},
   "outputs": [
    {
     "data": {
      "text/plain": [
       "(154.17322320530172, 45.03095928929911)"
      ]
     },
     "execution_count": 32,
     "metadata": {},
     "output_type": "execute_result"
    }
   ],
   "source": [
    "upper_limit = Q3 + 1.5 * IQR\n",
    "lower_limit = Q1 - 1.5 * IQR\n",
    "upper_limit , lower_limit"
   ]
  },
  {
   "cell_type": "code",
   "execution_count": 33,
   "id": "45192f50-8535-4842-ae8e-2381e4dc14f2",
   "metadata": {},
   "outputs": [
    {
     "data": {
      "text/html": [
       "<div>\n",
       "<style scoped>\n",
       "    .dataframe tbody tr th:only-of-type {\n",
       "        vertical-align: middle;\n",
       "    }\n",
       "\n",
       "    .dataframe tbody tr th {\n",
       "        vertical-align: top;\n",
       "    }\n",
       "\n",
       "    .dataframe thead th {\n",
       "        text-align: right;\n",
       "    }\n",
       "</style>\n",
       "<table border=\"1\" class=\"dataframe\">\n",
       "  <thead>\n",
       "    <tr style=\"text-align: right;\">\n",
       "      <th></th>\n",
       "      <th>Col1</th>\n",
       "      <th>Col2</th>\n",
       "      <th>Col3</th>\n",
       "      <th>Col4</th>\n",
       "      <th>Col5</th>\n",
       "      <th>Col6</th>\n",
       "      <th>Col7</th>\n",
       "      <th>Col8</th>\n",
       "      <th>Col9</th>\n",
       "      <th>Col10</th>\n",
       "    </tr>\n",
       "  </thead>\n",
       "  <tbody>\n",
       "    <tr>\n",
       "      <th>20</th>\n",
       "      <td>500.0</td>\n",
       "      <td>600.0</td>\n",
       "      <td>700.0</td>\n",
       "      <td>800.0</td>\n",
       "      <td>900.0</td>\n",
       "      <td>1000.0</td>\n",
       "      <td>1100.0</td>\n",
       "      <td>1200.0</td>\n",
       "      <td>1300.0</td>\n",
       "      <td>1400.0</td>\n",
       "    </tr>\n",
       "    <tr>\n",
       "      <th>21</th>\n",
       "      <td>-500.0</td>\n",
       "      <td>-600.0</td>\n",
       "      <td>-700.0</td>\n",
       "      <td>-800.0</td>\n",
       "      <td>-900.0</td>\n",
       "      <td>-1000.0</td>\n",
       "      <td>-1100.0</td>\n",
       "      <td>-1200.0</td>\n",
       "      <td>-1300.0</td>\n",
       "      <td>-1400.0</td>\n",
       "    </tr>\n",
       "  </tbody>\n",
       "</table>\n",
       "</div>"
      ],
      "text/plain": [
       "     Col1   Col2   Col3   Col4   Col5    Col6    Col7    Col8    Col9   Col10\n",
       "20  500.0  600.0  700.0  800.0  900.0  1000.0  1100.0  1200.0  1300.0  1400.0\n",
       "21 -500.0 -600.0 -700.0 -800.0 -900.0 -1000.0 -1100.0 -1200.0 -1300.0 -1400.0"
      ]
     },
     "execution_count": 33,
     "metadata": {},
     "output_type": "execute_result"
    }
   ],
   "source": [
    "df[(df[\"Col6\"]>=242.36)|(df[\"Col6\"]<=-31.67)]\n"
   ]
  },
  {
   "cell_type": "markdown",
   "id": "21fbd5ba-fa22-4282-8990-8e7e74a39ed3",
   "metadata": {},
   "source": [
    "### Remove the outliers from 'Col6' using the IQR method.\n"
   ]
  },
  {
   "cell_type": "code",
   "execution_count": 34,
   "id": "6fb1ac29-e0d7-443e-8592-0b31fd3c4b53",
   "metadata": {},
   "outputs": [
    {
     "data": {
      "text/html": [
       "<div>\n",
       "<style scoped>\n",
       "    .dataframe tbody tr th:only-of-type {\n",
       "        vertical-align: middle;\n",
       "    }\n",
       "\n",
       "    .dataframe tbody tr th {\n",
       "        vertical-align: top;\n",
       "    }\n",
       "\n",
       "    .dataframe thead th {\n",
       "        text-align: right;\n",
       "    }\n",
       "</style>\n",
       "<table border=\"1\" class=\"dataframe\">\n",
       "  <thead>\n",
       "    <tr style=\"text-align: right;\">\n",
       "      <th></th>\n",
       "      <th>Col1</th>\n",
       "      <th>Col2</th>\n",
       "      <th>Col3</th>\n",
       "      <th>Col4</th>\n",
       "      <th>Col5</th>\n",
       "      <th>Col6</th>\n",
       "      <th>Col7</th>\n",
       "      <th>Col8</th>\n",
       "      <th>Col9</th>\n",
       "      <th>Col10</th>\n",
       "    </tr>\n",
       "  </thead>\n",
       "  <tbody>\n",
       "    <tr>\n",
       "      <th>0</th>\n",
       "      <td>54.967142</td>\n",
       "      <td>81.984732</td>\n",
       "      <td>84.769332</td>\n",
       "      <td>68.020644</td>\n",
       "      <td>83.409843</td>\n",
       "      <td>50.462024</td>\n",
       "      <td>141.641278</td>\n",
       "      <td>130.235697</td>\n",
       "      <td>81.265916</td>\n",
       "      <td>174.411704</td>\n",
       "    </tr>\n",
       "    <tr>\n",
       "      <th>1</th>\n",
       "      <td>48.617357</td>\n",
       "      <td>56.613355</td>\n",
       "      <td>73.427366</td>\n",
       "      <td>75.358526</td>\n",
       "      <td>100.713377</td>\n",
       "      <td>85.277414</td>\n",
       "      <td>73.624502</td>\n",
       "      <td>178.821424</td>\n",
       "      <td>169.354230</td>\n",
       "      <td>92.856334</td>\n",
       "    </tr>\n",
       "    <tr>\n",
       "      <th>2</th>\n",
       "      <td>56.476885</td>\n",
       "      <td>61.012923</td>\n",
       "      <td>67.687034</td>\n",
       "      <td>52.341626</td>\n",
       "      <td>134.336821</td>\n",
       "      <td>88.004992</td>\n",
       "      <td>166.111772</td>\n",
       "      <td>47.663254</td>\n",
       "      <td>187.929779</td>\n",
       "      <td>81.100913</td>\n",
       "    </tr>\n",
       "    <tr>\n",
       "      <th>3</th>\n",
       "      <td>65.230299</td>\n",
       "      <td>38.628777</td>\n",
       "      <td>63.977926</td>\n",
       "      <td>50.094834</td>\n",
       "      <td>74.451893</td>\n",
       "      <td>71.920296</td>\n",
       "      <td>53.925957</td>\n",
       "      <td>128.308524</td>\n",
       "      <td>88.965884</td>\n",
       "      <td>166.535983</td>\n",
       "    </tr>\n",
       "    <tr>\n",
       "      <th>4</th>\n",
       "      <td>47.658466</td>\n",
       "      <td>51.834259</td>\n",
       "      <td>40.429560</td>\n",
       "      <td>100.313146</td>\n",
       "      <td>65.745192</td>\n",
       "      <td>94.355000</td>\n",
       "      <td>133.474284</td>\n",
       "      <td>131.694726</td>\n",
       "      <td>178.168806</td>\n",
       "      <td>127.709547</td>\n",
       "    </tr>\n",
       "  </tbody>\n",
       "</table>\n",
       "</div>"
      ],
      "text/plain": [
       "        Col1       Col2       Col3        Col4        Col5       Col6  \\\n",
       "0  54.967142  81.984732  84.769332   68.020644   83.409843  50.462024   \n",
       "1  48.617357  56.613355  73.427366   75.358526  100.713377  85.277414   \n",
       "2  56.476885  61.012923  67.687034   52.341626  134.336821  88.004992   \n",
       "3  65.230299  38.628777  63.977926   50.094834   74.451893  71.920296   \n",
       "4  47.658466  51.834259  40.429560  100.313146   65.745192  94.355000   \n",
       "\n",
       "         Col7        Col8        Col9       Col10  \n",
       "0  141.641278  130.235697   81.265916  174.411704  \n",
       "1   73.624502  178.821424  169.354230   92.856334  \n",
       "2  166.111772   47.663254  187.929779   81.100913  \n",
       "3   53.925957  128.308524   88.965884  166.535983  \n",
       "4  133.474284  131.694726  178.168806  127.709547  "
      ]
     },
     "execution_count": 34,
     "metadata": {},
     "output_type": "execute_result"
    }
   ],
   "source": [
    "df_col6 = df[(df[\"Col6\"]<=242.36)&(df[\"Col6\"]>=-31.67)]\n",
    "df_col6.head()"
   ]
  },
  {
   "cell_type": "code",
   "execution_count": 35,
   "id": "94cee01d-324c-46e7-978c-d0fb2d6403b9",
   "metadata": {},
   "outputs": [
    {
     "data": {
      "image/png": "[encoded data removed]",
      "text/plain": [
       "<Figure size 1000x500 with 2 Axes>"
      ]
     },
     "metadata": {},
     "output_type": "display_data"
    }
   ],
   "source": [
    "plt.figure(figsize=(10,5))\n",
    " # after removal outlier\n",
    "plt.subplot(1,2,1)\n",
    "plt.boxplot(df[\"Col6\"])\n",
    "plt.title(\"before outlier removal\")\n",
    "           \n",
    "#after removal outlier\n",
    "           \n",
    "plt.subplot(1,2,2)\n",
    "plt.boxplot(df_col6[\"Col6\"])\n",
    "plt.title(\"after outlier removal\")\n",
    "\n",
    "plt.show()"
   ]
  },
  {
   "cell_type": "markdown",
   "id": "2f516e88-4a1b-4100-a190-5dc129f67d48",
   "metadata": {},
   "source": [
    "### Calculate the IQR for 'Col7' in the DataFrame.\n"
   ]
  },
  {
   "cell_type": "code",
   "execution_count": 36,
   "id": "9cb966be-7486-4091-bc63-fed1fd7b6e00",
   "metadata": {},
   "outputs": [
    {
     "data": {
      "text/plain": [
       "68.50986144555279"
      ]
     },
     "execution_count": 36,
     "metadata": {},
     "output_type": "execute_result"
    }
   ],
   "source": [
    "Q1 = df[\"Col7\"].quantile(0.25)\n",
    "Q3 = df[\"Col7\"].quantile(0.75)\n",
    "IQR = Q3 - Q1\n",
    "IQR"
   ]
  },
  {
   "cell_type": "markdown",
   "id": "f3b91c3d-1541-41b9-9062-155abb038841",
   "metadata": {},
   "source": [
    "### Identify outliers in 'Col7' using the IQR method."
   ]
  },
  {
   "cell_type": "code",
   "execution_count": 37,
   "id": "ebe8e4cd-3354-4143-ab12-5f823772e888",
   "metadata": {},
   "outputs": [
    {
     "data": {
      "text/plain": [
       "(242.3643215176233, -31.675124264587865)"
      ]
     },
     "execution_count": 37,
     "metadata": {},
     "output_type": "execute_result"
    }
   ],
   "source": [
    "upper_limit = Q3 + 1.5* IQR\n",
    "lower_limit = Q1 - 1.5* IQR\n",
    "upper_limit , lower_limit"
   ]
  },
  {
   "cell_type": "code",
   "execution_count": 38,
   "id": "986833a9-8e02-44be-add6-79b59cd71998",
   "metadata": {},
   "outputs": [
    {
     "data": {
      "text/html": [
       "<div>\n",
       "<style scoped>\n",
       "    .dataframe tbody tr th:only-of-type {\n",
       "        vertical-align: middle;\n",
       "    }\n",
       "\n",
       "    .dataframe tbody tr th {\n",
       "        vertical-align: top;\n",
       "    }\n",
       "\n",
       "    .dataframe thead th {\n",
       "        text-align: right;\n",
       "    }\n",
       "</style>\n",
       "<table border=\"1\" class=\"dataframe\">\n",
       "  <thead>\n",
       "    <tr style=\"text-align: right;\">\n",
       "      <th></th>\n",
       "      <th>Col1</th>\n",
       "      <th>Col2</th>\n",
       "      <th>Col3</th>\n",
       "      <th>Col4</th>\n",
       "      <th>Col5</th>\n",
       "      <th>Col6</th>\n",
       "      <th>Col7</th>\n",
       "      <th>Col8</th>\n",
       "      <th>Col9</th>\n",
       "      <th>Col10</th>\n",
       "    </tr>\n",
       "  </thead>\n",
       "  <tbody>\n",
       "    <tr>\n",
       "      <th>20</th>\n",
       "      <td>500.0</td>\n",
       "      <td>600.0</td>\n",
       "      <td>700.0</td>\n",
       "      <td>800.0</td>\n",
       "      <td>900.0</td>\n",
       "      <td>1000.0</td>\n",
       "      <td>1100.0</td>\n",
       "      <td>1200.0</td>\n",
       "      <td>1300.0</td>\n",
       "      <td>1400.0</td>\n",
       "    </tr>\n",
       "    <tr>\n",
       "      <th>21</th>\n",
       "      <td>-500.0</td>\n",
       "      <td>-600.0</td>\n",
       "      <td>-700.0</td>\n",
       "      <td>-800.0</td>\n",
       "      <td>-900.0</td>\n",
       "      <td>-1000.0</td>\n",
       "      <td>-1100.0</td>\n",
       "      <td>-1200.0</td>\n",
       "      <td>-1300.0</td>\n",
       "      <td>-1400.0</td>\n",
       "    </tr>\n",
       "  </tbody>\n",
       "</table>\n",
       "</div>"
      ],
      "text/plain": [
       "     Col1   Col2   Col3   Col4   Col5    Col6    Col7    Col8    Col9   Col10\n",
       "20  500.0  600.0  700.0  800.0  900.0  1000.0  1100.0  1200.0  1300.0  1400.0\n",
       "21 -500.0 -600.0 -700.0 -800.0 -900.0 -1000.0 -1100.0 -1200.0 -1300.0 -1400.0"
      ]
     },
     "execution_count": 38,
     "metadata": {},
     "output_type": "execute_result"
    }
   ],
   "source": [
    "df[(df[\"Col7\"]>=242.36)|(df[\"Col7\"]<=-31.67)]"
   ]
  },
  {
   "cell_type": "markdown",
   "id": "ef2f1799-7e77-4eb8-bdcd-be9931b122ec",
   "metadata": {},
   "source": [
    "### Remove the outliers from 'Col7' using the IQR method."
   ]
  },
  {
   "cell_type": "code",
   "execution_count": 39,
   "id": "cdcd0cd7-90f6-44ae-8846-54c7f357b452",
   "metadata": {},
   "outputs": [
    {
     "data": {
      "text/html": [
       "<div>\n",
       "<style scoped>\n",
       "    .dataframe tbody tr th:only-of-type {\n",
       "        vertical-align: middle;\n",
       "    }\n",
       "\n",
       "    .dataframe tbody tr th {\n",
       "        vertical-align: top;\n",
       "    }\n",
       "\n",
       "    .dataframe thead th {\n",
       "        text-align: right;\n",
       "    }\n",
       "</style>\n",
       "<table border=\"1\" class=\"dataframe\">\n",
       "  <thead>\n",
       "    <tr style=\"text-align: right;\">\n",
       "      <th></th>\n",
       "      <th>Col1</th>\n",
       "      <th>Col2</th>\n",
       "      <th>Col3</th>\n",
       "      <th>Col4</th>\n",
       "      <th>Col5</th>\n",
       "      <th>Col6</th>\n",
       "      <th>Col7</th>\n",
       "      <th>Col8</th>\n",
       "      <th>Col9</th>\n",
       "      <th>Col10</th>\n",
       "    </tr>\n",
       "  </thead>\n",
       "  <tbody>\n",
       "    <tr>\n",
       "      <th>0</th>\n",
       "      <td>54.967142</td>\n",
       "      <td>81.984732</td>\n",
       "      <td>84.769332</td>\n",
       "      <td>68.020644</td>\n",
       "      <td>83.409843</td>\n",
       "      <td>50.462024</td>\n",
       "      <td>141.641278</td>\n",
       "      <td>130.235697</td>\n",
       "      <td>81.265916</td>\n",
       "      <td>174.411704</td>\n",
       "    </tr>\n",
       "    <tr>\n",
       "      <th>1</th>\n",
       "      <td>48.617357</td>\n",
       "      <td>56.613355</td>\n",
       "      <td>73.427366</td>\n",
       "      <td>75.358526</td>\n",
       "      <td>100.713377</td>\n",
       "      <td>85.277414</td>\n",
       "      <td>73.624502</td>\n",
       "      <td>178.821424</td>\n",
       "      <td>169.354230</td>\n",
       "      <td>92.856334</td>\n",
       "    </tr>\n",
       "    <tr>\n",
       "      <th>2</th>\n",
       "      <td>56.476885</td>\n",
       "      <td>61.012923</td>\n",
       "      <td>67.687034</td>\n",
       "      <td>52.341626</td>\n",
       "      <td>134.336821</td>\n",
       "      <td>88.004992</td>\n",
       "      <td>166.111772</td>\n",
       "      <td>47.663254</td>\n",
       "      <td>187.929779</td>\n",
       "      <td>81.100913</td>\n",
       "    </tr>\n",
       "    <tr>\n",
       "      <th>3</th>\n",
       "      <td>65.230299</td>\n",
       "      <td>38.628777</td>\n",
       "      <td>63.977926</td>\n",
       "      <td>50.094834</td>\n",
       "      <td>74.451893</td>\n",
       "      <td>71.920296</td>\n",
       "      <td>53.925957</td>\n",
       "      <td>128.308524</td>\n",
       "      <td>88.965884</td>\n",
       "      <td>166.535983</td>\n",
       "    </tr>\n",
       "    <tr>\n",
       "      <th>4</th>\n",
       "      <td>47.658466</td>\n",
       "      <td>51.834259</td>\n",
       "      <td>40.429560</td>\n",
       "      <td>100.313146</td>\n",
       "      <td>65.745192</td>\n",
       "      <td>94.355000</td>\n",
       "      <td>133.474284</td>\n",
       "      <td>131.694726</td>\n",
       "      <td>178.168806</td>\n",
       "      <td>127.709547</td>\n",
       "    </tr>\n",
       "  </tbody>\n",
       "</table>\n",
       "</div>"
      ],
      "text/plain": [
       "        Col1       Col2       Col3        Col4        Col5       Col6  \\\n",
       "0  54.967142  81.984732  84.769332   68.020644   83.409843  50.462024   \n",
       "1  48.617357  56.613355  73.427366   75.358526  100.713377  85.277414   \n",
       "2  56.476885  61.012923  67.687034   52.341626  134.336821  88.004992   \n",
       "3  65.230299  38.628777  63.977926   50.094834   74.451893  71.920296   \n",
       "4  47.658466  51.834259  40.429560  100.313146   65.745192  94.355000   \n",
       "\n",
       "         Col7        Col8        Col9       Col10  \n",
       "0  141.641278  130.235697   81.265916  174.411704  \n",
       "1   73.624502  178.821424  169.354230   92.856334  \n",
       "2  166.111772   47.663254  187.929779   81.100913  \n",
       "3   53.925957  128.308524   88.965884  166.535983  \n",
       "4  133.474284  131.694726  178.168806  127.709547  "
      ]
     },
     "execution_count": 39,
     "metadata": {},
     "output_type": "execute_result"
    }
   ],
   "source": [
    "df_col7 = df[(df[\"Col7\"]<=242.36)&(df[\"Col7\"]>=-31.67)]\n",
    "df_col7.head()"
   ]
  },
  {
   "cell_type": "code",
   "execution_count": 40,
   "id": "3da30f33-edf3-40ea-a9f9-560b02c8579b",
   "metadata": {},
   "outputs": [
    {
     "data": {
      "image/png": "[encoded data removed]",
      "text/plain": [
       "<Figure size 1000x500 with 2 Axes>"
      ]
     },
     "metadata": {},
     "output_type": "display_data"
    }
   ],
   "source": [
    "plt.figure(figsize=(10,5))\n",
    "plt.subplot(1,2,1)\n",
    "plt.boxplot(df[\"Col7\"])\n",
    "plt.title(\"before outlier removal\")\n",
    "\n",
    "# after outlier removal \n",
    "\n",
    "plt.subplot(1,2,2)\n",
    "plt.boxplot(df_col7[\"Col7\"])\n",
    "plt.title(\"after outlier removal\")\n",
    "\n",
    "plt.show()"
   ]
  },
  {
   "cell_type": "markdown",
   "id": "046b8878-d37f-4939-bca1-2076f1e4edaa",
   "metadata": {},
   "source": [
    "### Calculate the IQR for 'Col8' in the DataFrame."
   ]
  },
  {
   "cell_type": "code",
   "execution_count": 41,
   "id": "59bf23cb-bda2-4f31-a8c6-2cd34d3513d1",
   "metadata": {},
   "outputs": [
    {
     "data": {
      "text/plain": [
       "54.705786675975844"
      ]
     },
     "execution_count": 41,
     "metadata": {},
     "output_type": "execute_result"
    }
   ],
   "source": [
    "Q1 = df[\"Col8\"].quantile(0.25)\n",
    "Q3 = df[\"Col8\"].quantile(0.75)\n",
    "IQR = Q3 - Q1\n",
    "IQR"
   ]
  },
  {
   "cell_type": "markdown",
   "id": "be873567-8ee8-40ca-9287-8aff69ba65ec",
   "metadata": {},
   "source": [
    "### Identify outliers in 'Col8' using the IQR method."
   ]
  },
  {
   "cell_type": "code",
   "execution_count": 42,
   "id": "e57e6e5b-a6ac-4f27-8cb9-9e2217a7c7bb",
   "metadata": {},
   "outputs": [
    {
     "data": {
      "text/plain": [
       "(225.00482821379168, 6.181681509888307)"
      ]
     },
     "execution_count": 42,
     "metadata": {},
     "output_type": "execute_result"
    }
   ],
   "source": [
    "upper_limit= Q3 + 1.5 * IQR\n",
    "lower_limit = Q1 - 1.5 * IQR\n",
    "upper_limit , lower_limit"
   ]
  },
  {
   "cell_type": "code",
   "execution_count": 43,
   "id": "24f9fac9-d56c-4ac5-97ca-849018b4042e",
   "metadata": {},
   "outputs": [
    {
     "data": {
      "text/html": [
       "<div>\n",
       "<style scoped>\n",
       "    .dataframe tbody tr th:only-of-type {\n",
       "        vertical-align: middle;\n",
       "    }\n",
       "\n",
       "    .dataframe tbody tr th {\n",
       "        vertical-align: top;\n",
       "    }\n",
       "\n",
       "    .dataframe thead th {\n",
       "        text-align: right;\n",
       "    }\n",
       "</style>\n",
       "<table border=\"1\" class=\"dataframe\">\n",
       "  <thead>\n",
       "    <tr style=\"text-align: right;\">\n",
       "      <th></th>\n",
       "      <th>Col1</th>\n",
       "      <th>Col2</th>\n",
       "      <th>Col3</th>\n",
       "      <th>Col4</th>\n",
       "      <th>Col5</th>\n",
       "      <th>Col6</th>\n",
       "      <th>Col7</th>\n",
       "      <th>Col8</th>\n",
       "      <th>Col9</th>\n",
       "      <th>Col10</th>\n",
       "    </tr>\n",
       "  </thead>\n",
       "  <tbody>\n",
       "    <tr>\n",
       "      <th>20</th>\n",
       "      <td>500.0</td>\n",
       "      <td>600.0</td>\n",
       "      <td>700.0</td>\n",
       "      <td>800.0</td>\n",
       "      <td>900.0</td>\n",
       "      <td>1000.0</td>\n",
       "      <td>1100.0</td>\n",
       "      <td>1200.0</td>\n",
       "      <td>1300.0</td>\n",
       "      <td>1400.0</td>\n",
       "    </tr>\n",
       "    <tr>\n",
       "      <th>21</th>\n",
       "      <td>-500.0</td>\n",
       "      <td>-600.0</td>\n",
       "      <td>-700.0</td>\n",
       "      <td>-800.0</td>\n",
       "      <td>-900.0</td>\n",
       "      <td>-1000.0</td>\n",
       "      <td>-1100.0</td>\n",
       "      <td>-1200.0</td>\n",
       "      <td>-1300.0</td>\n",
       "      <td>-1400.0</td>\n",
       "    </tr>\n",
       "  </tbody>\n",
       "</table>\n",
       "</div>"
      ],
      "text/plain": [
       "     Col1   Col2   Col3   Col4   Col5    Col6    Col7    Col8    Col9   Col10\n",
       "20  500.0  600.0  700.0  800.0  900.0  1000.0  1100.0  1200.0  1300.0  1400.0\n",
       "21 -500.0 -600.0 -700.0 -800.0 -900.0 -1000.0 -1100.0 -1200.0 -1300.0 -1400.0"
      ]
     },
     "execution_count": 43,
     "metadata": {},
     "output_type": "execute_result"
    }
   ],
   "source": [
    "df[(df[\"Col8\"]>=225.00)|(df[\"Col8\"]<=6.18)]"
   ]
  },
  {
   "cell_type": "markdown",
   "id": "1180c4a9-5809-45ca-991b-7ee1636ad9d7",
   "metadata": {},
   "source": [
    "### Remove the outliers from 'Col8' using the IQR method."
   ]
  },
  {
   "cell_type": "code",
   "execution_count": 44,
   "id": "b06830ac-46db-4e43-affd-a981347a4039",
   "metadata": {},
   "outputs": [
    {
     "data": {
      "text/html": [
       "<div>\n",
       "<style scoped>\n",
       "    .dataframe tbody tr th:only-of-type {\n",
       "        vertical-align: middle;\n",
       "    }\n",
       "\n",
       "    .dataframe tbody tr th {\n",
       "        vertical-align: top;\n",
       "    }\n",
       "\n",
       "    .dataframe thead th {\n",
       "        text-align: right;\n",
       "    }\n",
       "</style>\n",
       "<table border=\"1\" class=\"dataframe\">\n",
       "  <thead>\n",
       "    <tr style=\"text-align: right;\">\n",
       "      <th></th>\n",
       "      <th>Col1</th>\n",
       "      <th>Col2</th>\n",
       "      <th>Col3</th>\n",
       "      <th>Col4</th>\n",
       "      <th>Col5</th>\n",
       "      <th>Col6</th>\n",
       "      <th>Col7</th>\n",
       "      <th>Col8</th>\n",
       "      <th>Col9</th>\n",
       "      <th>Col10</th>\n",
       "    </tr>\n",
       "  </thead>\n",
       "  <tbody>\n",
       "    <tr>\n",
       "      <th>0</th>\n",
       "      <td>54.967142</td>\n",
       "      <td>81.984732</td>\n",
       "      <td>84.769332</td>\n",
       "      <td>68.020644</td>\n",
       "      <td>83.409843</td>\n",
       "      <td>50.462024</td>\n",
       "      <td>141.641278</td>\n",
       "      <td>130.235697</td>\n",
       "      <td>81.265916</td>\n",
       "      <td>174.411704</td>\n",
       "    </tr>\n",
       "    <tr>\n",
       "      <th>1</th>\n",
       "      <td>48.617357</td>\n",
       "      <td>56.613355</td>\n",
       "      <td>73.427366</td>\n",
       "      <td>75.358526</td>\n",
       "      <td>100.713377</td>\n",
       "      <td>85.277414</td>\n",
       "      <td>73.624502</td>\n",
       "      <td>178.821424</td>\n",
       "      <td>169.354230</td>\n",
       "      <td>92.856334</td>\n",
       "    </tr>\n",
       "    <tr>\n",
       "      <th>2</th>\n",
       "      <td>56.476885</td>\n",
       "      <td>61.012923</td>\n",
       "      <td>67.687034</td>\n",
       "      <td>52.341626</td>\n",
       "      <td>134.336821</td>\n",
       "      <td>88.004992</td>\n",
       "      <td>166.111772</td>\n",
       "      <td>47.663254</td>\n",
       "      <td>187.929779</td>\n",
       "      <td>81.100913</td>\n",
       "    </tr>\n",
       "    <tr>\n",
       "      <th>3</th>\n",
       "      <td>65.230299</td>\n",
       "      <td>38.628777</td>\n",
       "      <td>63.977926</td>\n",
       "      <td>50.094834</td>\n",
       "      <td>74.451893</td>\n",
       "      <td>71.920296</td>\n",
       "      <td>53.925957</td>\n",
       "      <td>128.308524</td>\n",
       "      <td>88.965884</td>\n",
       "      <td>166.535983</td>\n",
       "    </tr>\n",
       "    <tr>\n",
       "      <th>4</th>\n",
       "      <td>47.658466</td>\n",
       "      <td>51.834259</td>\n",
       "      <td>40.429560</td>\n",
       "      <td>100.313146</td>\n",
       "      <td>65.745192</td>\n",
       "      <td>94.355000</td>\n",
       "      <td>133.474284</td>\n",
       "      <td>131.694726</td>\n",
       "      <td>178.168806</td>\n",
       "      <td>127.709547</td>\n",
       "    </tr>\n",
       "  </tbody>\n",
       "</table>\n",
       "</div>"
      ],
      "text/plain": [
       "        Col1       Col2       Col3        Col4        Col5       Col6  \\\n",
       "0  54.967142  81.984732  84.769332   68.020644   83.409843  50.462024   \n",
       "1  48.617357  56.613355  73.427366   75.358526  100.713377  85.277414   \n",
       "2  56.476885  61.012923  67.687034   52.341626  134.336821  88.004992   \n",
       "3  65.230299  38.628777  63.977926   50.094834   74.451893  71.920296   \n",
       "4  47.658466  51.834259  40.429560  100.313146   65.745192  94.355000   \n",
       "\n",
       "         Col7        Col8        Col9       Col10  \n",
       "0  141.641278  130.235697   81.265916  174.411704  \n",
       "1   73.624502  178.821424  169.354230   92.856334  \n",
       "2  166.111772   47.663254  187.929779   81.100913  \n",
       "3   53.925957  128.308524   88.965884  166.535983  \n",
       "4  133.474284  131.694726  178.168806  127.709547  "
      ]
     },
     "execution_count": 44,
     "metadata": {},
     "output_type": "execute_result"
    }
   ],
   "source": [
    "df_col8 = df[(df[\"Col8\"]<=225.00)&(df[\"Col8\"]>=6.18)]\n",
    "df_col8.head()"
   ]
  },
  {
   "cell_type": "code",
   "execution_count": 45,
   "id": "a20b539a-7737-42bb-9e35-6cd50aa73415",
   "metadata": {},
   "outputs": [
    {
     "data": {
      "image/png": "[encoded data removed]",
      "text/plain": [
       "<Figure size 1000x500 with 2 Axes>"
      ]
     },
     "metadata": {},
     "output_type": "display_data"
    }
   ],
   "source": [
    "plt.figure(figsize=(10,5))\n",
    "plt.subplot(1,2,1)\n",
    "plt.boxplot(df[\"Col8\"])\n",
    "plt.title(\"before outlier removal\")\n",
    "\n",
    "# after outlier removal \n",
    "\n",
    "plt.subplot(1,2,2)\n",
    "plt.boxplot(df_col8[\"Col8\"])\n",
    "plt.title(\"after outlier removal\")\n",
    "\n",
    "plt.show()"
   ]
  },
  {
   "cell_type": "markdown",
   "id": "9b722810-4711-4e66-bc5b-c77be10a1058",
   "metadata": {},
   "source": [
    "### Calculate the IQR for 'Col9' in the DataFrame."
   ]
  },
  {
   "cell_type": "code",
   "execution_count": 46,
   "id": "e941fe9d-bd0b-49c6-9168-9b3feff6d5bc",
   "metadata": {},
   "outputs": [
    {
     "data": {
      "text/plain": [
       "78.03971203849267"
      ]
     },
     "execution_count": 46,
     "metadata": {},
     "output_type": "execute_result"
    }
   ],
   "source": [
    "Q1 = df[\"Col9\"].quantile(0.25)\n",
    "Q3 = df[\"Col9\"].quantile(0.75)\n",
    "IQR = Q3 - Q1\n",
    "IQR"
   ]
  },
  {
   "cell_type": "markdown",
   "id": "d18ccfc5-54a0-4a50-841a-7a1903d9ce84",
   "metadata": {},
   "source": [
    "### Identify outliers in 'Col9' using the IQR method."
   ]
  },
  {
   "cell_type": "code",
   "execution_count": 47,
   "id": "3160c0b2-773a-4866-a1b2-006003ea620e",
   "metadata": {},
   "outputs": [
    {
     "data": {
      "text/plain": [
       "(293.52596351735133, -18.63288463661931)"
      ]
     },
     "execution_count": 47,
     "metadata": {},
     "output_type": "execute_result"
    }
   ],
   "source": [
    "upper_limit = Q3 + 1.5 * IQR\n",
    "lower_limit = Q1 - 1.5 * IQR\n",
    "upper_limit , lower_limit"
   ]
  },
  {
   "cell_type": "code",
   "execution_count": 48,
   "id": "8f120094-0ac1-4586-950d-29df444bb63f",
   "metadata": {},
   "outputs": [
    {
     "data": {
      "text/html": [
       "<div>\n",
       "<style scoped>\n",
       "    .dataframe tbody tr th:only-of-type {\n",
       "        vertical-align: middle;\n",
       "    }\n",
       "\n",
       "    .dataframe tbody tr th {\n",
       "        vertical-align: top;\n",
       "    }\n",
       "\n",
       "    .dataframe thead th {\n",
       "        text-align: right;\n",
       "    }\n",
       "</style>\n",
       "<table border=\"1\" class=\"dataframe\">\n",
       "  <thead>\n",
       "    <tr style=\"text-align: right;\">\n",
       "      <th></th>\n",
       "      <th>Col1</th>\n",
       "      <th>Col2</th>\n",
       "      <th>Col3</th>\n",
       "      <th>Col4</th>\n",
       "      <th>Col5</th>\n",
       "      <th>Col6</th>\n",
       "      <th>Col7</th>\n",
       "      <th>Col8</th>\n",
       "      <th>Col9</th>\n",
       "      <th>Col10</th>\n",
       "    </tr>\n",
       "  </thead>\n",
       "  <tbody>\n",
       "    <tr>\n",
       "      <th>20</th>\n",
       "      <td>500.0</td>\n",
       "      <td>600.0</td>\n",
       "      <td>700.0</td>\n",
       "      <td>800.0</td>\n",
       "      <td>900.0</td>\n",
       "      <td>1000.0</td>\n",
       "      <td>1100.0</td>\n",
       "      <td>1200.0</td>\n",
       "      <td>1300.0</td>\n",
       "      <td>1400.0</td>\n",
       "    </tr>\n",
       "    <tr>\n",
       "      <th>21</th>\n",
       "      <td>-500.0</td>\n",
       "      <td>-600.0</td>\n",
       "      <td>-700.0</td>\n",
       "      <td>-800.0</td>\n",
       "      <td>-900.0</td>\n",
       "      <td>-1000.0</td>\n",
       "      <td>-1100.0</td>\n",
       "      <td>-1200.0</td>\n",
       "      <td>-1300.0</td>\n",
       "      <td>-1400.0</td>\n",
       "    </tr>\n",
       "  </tbody>\n",
       "</table>\n",
       "</div>"
      ],
      "text/plain": [
       "     Col1   Col2   Col3   Col4   Col5    Col6    Col7    Col8    Col9   Col10\n",
       "20  500.0  600.0  700.0  800.0  900.0  1000.0  1100.0  1200.0  1300.0  1400.0\n",
       "21 -500.0 -600.0 -700.0 -800.0 -900.0 -1000.0 -1100.0 -1200.0 -1300.0 -1400.0"
      ]
     },
     "execution_count": 48,
     "metadata": {},
     "output_type": "execute_result"
    }
   ],
   "source": [
    "df[(df[\"Col9\"]>=293.25)|(df[\"Col9\"]<=-18.63)]"
   ]
  },
  {
   "cell_type": "markdown",
   "id": "ee57f1ae-02c8-4cd7-9e60-9a827167dfbf",
   "metadata": {},
   "source": [
    "### Remove the outliers from 'Col9' using the IQR method."
   ]
  },
  {
   "cell_type": "code",
   "execution_count": 49,
   "id": "6fcbc956-aa50-42cb-91e3-5077d20360c1",
   "metadata": {},
   "outputs": [
    {
     "data": {
      "text/html": [
       "<div>\n",
       "<style scoped>\n",
       "    .dataframe tbody tr th:only-of-type {\n",
       "        vertical-align: middle;\n",
       "    }\n",
       "\n",
       "    .dataframe tbody tr th {\n",
       "        vertical-align: top;\n",
       "    }\n",
       "\n",
       "    .dataframe thead th {\n",
       "        text-align: right;\n",
       "    }\n",
       "</style>\n",
       "<table border=\"1\" class=\"dataframe\">\n",
       "  <thead>\n",
       "    <tr style=\"text-align: right;\">\n",
       "      <th></th>\n",
       "      <th>Col1</th>\n",
       "      <th>Col2</th>\n",
       "      <th>Col3</th>\n",
       "      <th>Col4</th>\n",
       "      <th>Col5</th>\n",
       "      <th>Col6</th>\n",
       "      <th>Col7</th>\n",
       "      <th>Col8</th>\n",
       "      <th>Col9</th>\n",
       "      <th>Col10</th>\n",
       "    </tr>\n",
       "  </thead>\n",
       "  <tbody>\n",
       "    <tr>\n",
       "      <th>0</th>\n",
       "      <td>54.967142</td>\n",
       "      <td>81.984732</td>\n",
       "      <td>84.769332</td>\n",
       "      <td>68.020644</td>\n",
       "      <td>83.409843</td>\n",
       "      <td>50.462024</td>\n",
       "      <td>141.641278</td>\n",
       "      <td>130.235697</td>\n",
       "      <td>81.265916</td>\n",
       "      <td>174.411704</td>\n",
       "    </tr>\n",
       "    <tr>\n",
       "      <th>1</th>\n",
       "      <td>48.617357</td>\n",
       "      <td>56.613355</td>\n",
       "      <td>73.427366</td>\n",
       "      <td>75.358526</td>\n",
       "      <td>100.713377</td>\n",
       "      <td>85.277414</td>\n",
       "      <td>73.624502</td>\n",
       "      <td>178.821424</td>\n",
       "      <td>169.354230</td>\n",
       "      <td>92.856334</td>\n",
       "    </tr>\n",
       "    <tr>\n",
       "      <th>2</th>\n",
       "      <td>56.476885</td>\n",
       "      <td>61.012923</td>\n",
       "      <td>67.687034</td>\n",
       "      <td>52.341626</td>\n",
       "      <td>134.336821</td>\n",
       "      <td>88.004992</td>\n",
       "      <td>166.111772</td>\n",
       "      <td>47.663254</td>\n",
       "      <td>187.929779</td>\n",
       "      <td>81.100913</td>\n",
       "    </tr>\n",
       "    <tr>\n",
       "      <th>3</th>\n",
       "      <td>65.230299</td>\n",
       "      <td>38.628777</td>\n",
       "      <td>63.977926</td>\n",
       "      <td>50.094834</td>\n",
       "      <td>74.451893</td>\n",
       "      <td>71.920296</td>\n",
       "      <td>53.925957</td>\n",
       "      <td>128.308524</td>\n",
       "      <td>88.965884</td>\n",
       "      <td>166.535983</td>\n",
       "    </tr>\n",
       "    <tr>\n",
       "      <th>4</th>\n",
       "      <td>47.658466</td>\n",
       "      <td>51.834259</td>\n",
       "      <td>40.429560</td>\n",
       "      <td>100.313146</td>\n",
       "      <td>65.745192</td>\n",
       "      <td>94.355000</td>\n",
       "      <td>133.474284</td>\n",
       "      <td>131.694726</td>\n",
       "      <td>178.168806</td>\n",
       "      <td>127.709547</td>\n",
       "    </tr>\n",
       "  </tbody>\n",
       "</table>\n",
       "</div>"
      ],
      "text/plain": [
       "        Col1       Col2       Col3        Col4        Col5       Col6  \\\n",
       "0  54.967142  81.984732  84.769332   68.020644   83.409843  50.462024   \n",
       "1  48.617357  56.613355  73.427366   75.358526  100.713377  85.277414   \n",
       "2  56.476885  61.012923  67.687034   52.341626  134.336821  88.004992   \n",
       "3  65.230299  38.628777  63.977926   50.094834   74.451893  71.920296   \n",
       "4  47.658466  51.834259  40.429560  100.313146   65.745192  94.355000   \n",
       "\n",
       "         Col7        Col8        Col9       Col10  \n",
       "0  141.641278  130.235697   81.265916  174.411704  \n",
       "1   73.624502  178.821424  169.354230   92.856334  \n",
       "2  166.111772   47.663254  187.929779   81.100913  \n",
       "3   53.925957  128.308524   88.965884  166.535983  \n",
       "4  133.474284  131.694726  178.168806  127.709547  "
      ]
     },
     "execution_count": 49,
     "metadata": {},
     "output_type": "execute_result"
    }
   ],
   "source": [
    "df_col9 = df[(df[\"Col9\"]<=293.25)&(df[\"Col9\"]>=-18.63)]\n",
    "df_col9.head()"
   ]
  },
  {
   "cell_type": "code",
   "execution_count": 50,
   "id": "2080f83c-e298-4abe-9223-8c7478988cf4",
   "metadata": {},
   "outputs": [
    {
     "data": {
      "image/png": "[encoded data removed]",
      "text/plain": [
       "<Figure size 1000x500 with 2 Axes>"
      ]
     },
     "metadata": {},
     "output_type": "display_data"
    }
   ],
   "source": [
    "plt.figure(figsize=(10,5))\n",
    "plt.subplot(1,2,1)\n",
    "plt.boxplot(df[\"Col9\"])\n",
    "plt.title(\"before outlier removal\")\n",
    "\n",
    "# after outlier removal \n",
    "\n",
    "plt.subplot(1,2,2)\n",
    "plt.boxplot(df_col9[\"Col9\"])\n",
    "plt.title(\"after outlier removal\")\n",
    "\n",
    "plt.show()"
   ]
  },
  {
   "cell_type": "markdown",
   "id": "4247afa1-3a03-4927-be2f-613c0042d5cc",
   "metadata": {},
   "source": [
    "### Calculate the IQR for 'Col10' in the DataFrame."
   ]
  },
  {
   "cell_type": "code",
   "execution_count": 51,
   "id": "ebeb3fb3-2cb9-451c-9afe-244e95c08bb3",
   "metadata": {},
   "outputs": [
    {
     "data": {
      "text/plain": [
       "73.06420162895085"
      ]
     },
     "execution_count": 51,
     "metadata": {},
     "output_type": "execute_result"
    }
   ],
   "source": [
    "Q1 = df[\"Col10\"].quantile(0.25)\n",
    "Q3 = df[\"Col10\"].quantile(0.75)\n",
    "IQR = Q3 - Q1\n",
    "IQR"
   ]
  },
  {
   "cell_type": "markdown",
   "id": "579eb46e-ea23-4ce0-999e-07148e13547b",
   "metadata": {},
   "source": [
    "### Identify outliers in 'Col10' using the IQR method."
   ]
  },
  {
   "cell_type": "code",
   "execution_count": 52,
   "id": "59994fe7-a4fb-4ef2-afc9-641eb895fb8d",
   "metadata": {},
   "outputs": [
    {
     "data": {
      "text/plain": [
       "(274.4154684283565, -17.8413380874469)"
      ]
     },
     "execution_count": 52,
     "metadata": {},
     "output_type": "execute_result"
    }
   ],
   "source": [
    "upper_limit = Q3 + 1.5 * IQR\n",
    "lower_limit = Q1 - 1.5 * IQR\n",
    "upper_limit , lower_limit"
   ]
  },
  {
   "cell_type": "code",
   "execution_count": 53,
   "id": "5dc6b620-9a00-40db-be32-e6730963c868",
   "metadata": {},
   "outputs": [
    {
     "data": {
      "text/html": [
       "<div>\n",
       "<style scoped>\n",
       "    .dataframe tbody tr th:only-of-type {\n",
       "        vertical-align: middle;\n",
       "    }\n",
       "\n",
       "    .dataframe tbody tr th {\n",
       "        vertical-align: top;\n",
       "    }\n",
       "\n",
       "    .dataframe thead th {\n",
       "        text-align: right;\n",
       "    }\n",
       "</style>\n",
       "<table border=\"1\" class=\"dataframe\">\n",
       "  <thead>\n",
       "    <tr style=\"text-align: right;\">\n",
       "      <th></th>\n",
       "      <th>Col1</th>\n",
       "      <th>Col2</th>\n",
       "      <th>Col3</th>\n",
       "      <th>Col4</th>\n",
       "      <th>Col5</th>\n",
       "      <th>Col6</th>\n",
       "      <th>Col7</th>\n",
       "      <th>Col8</th>\n",
       "      <th>Col9</th>\n",
       "      <th>Col10</th>\n",
       "    </tr>\n",
       "  </thead>\n",
       "  <tbody>\n",
       "    <tr>\n",
       "      <th>20</th>\n",
       "      <td>500.0</td>\n",
       "      <td>600.0</td>\n",
       "      <td>700.0</td>\n",
       "      <td>800.0</td>\n",
       "      <td>900.0</td>\n",
       "      <td>1000.0</td>\n",
       "      <td>1100.0</td>\n",
       "      <td>1200.0</td>\n",
       "      <td>1300.0</td>\n",
       "      <td>1400.0</td>\n",
       "    </tr>\n",
       "    <tr>\n",
       "      <th>21</th>\n",
       "      <td>-500.0</td>\n",
       "      <td>-600.0</td>\n",
       "      <td>-700.0</td>\n",
       "      <td>-800.0</td>\n",
       "      <td>-900.0</td>\n",
       "      <td>-1000.0</td>\n",
       "      <td>-1100.0</td>\n",
       "      <td>-1200.0</td>\n",
       "      <td>-1300.0</td>\n",
       "      <td>-1400.0</td>\n",
       "    </tr>\n",
       "  </tbody>\n",
       "</table>\n",
       "</div>"
      ],
      "text/plain": [
       "     Col1   Col2   Col3   Col4   Col5    Col6    Col7    Col8    Col9   Col10\n",
       "20  500.0  600.0  700.0  800.0  900.0  1000.0  1100.0  1200.0  1300.0  1400.0\n",
       "21 -500.0 -600.0 -700.0 -800.0 -900.0 -1000.0 -1100.0 -1200.0 -1300.0 -1400.0"
      ]
     },
     "execution_count": 53,
     "metadata": {},
     "output_type": "execute_result"
    }
   ],
   "source": [
    "df[(df[\"Col10\"]>=274.41)|(df[\"Col10\"]<=-17.84)]"
   ]
  },
  {
   "cell_type": "markdown",
   "id": "796ab896-f66d-48c7-b32a-616fc697b888",
   "metadata": {},
   "source": [
    "### Remove the outliers from 'Col10' using the IQR method."
   ]
  },
  {
   "cell_type": "code",
   "execution_count": 54,
   "id": "93a7fe88-20ee-498d-bd28-2ed3cfffbb4e",
   "metadata": {},
   "outputs": [
    {
     "data": {
      "text/html": [
       "<div>\n",
       "<style scoped>\n",
       "    .dataframe tbody tr th:only-of-type {\n",
       "        vertical-align: middle;\n",
       "    }\n",
       "\n",
       "    .dataframe tbody tr th {\n",
       "        vertical-align: top;\n",
       "    }\n",
       "\n",
       "    .dataframe thead th {\n",
       "        text-align: right;\n",
       "    }\n",
       "</style>\n",
       "<table border=\"1\" class=\"dataframe\">\n",
       "  <thead>\n",
       "    <tr style=\"text-align: right;\">\n",
       "      <th></th>\n",
       "      <th>Col1</th>\n",
       "      <th>Col2</th>\n",
       "      <th>Col3</th>\n",
       "      <th>Col4</th>\n",
       "      <th>Col5</th>\n",
       "      <th>Col6</th>\n",
       "      <th>Col7</th>\n",
       "      <th>Col8</th>\n",
       "      <th>Col9</th>\n",
       "      <th>Col10</th>\n",
       "    </tr>\n",
       "  </thead>\n",
       "  <tbody>\n",
       "    <tr>\n",
       "      <th>0</th>\n",
       "      <td>54.967142</td>\n",
       "      <td>81.984732</td>\n",
       "      <td>84.769332</td>\n",
       "      <td>68.020644</td>\n",
       "      <td>83.409843</td>\n",
       "      <td>50.462024</td>\n",
       "      <td>141.641278</td>\n",
       "      <td>130.235697</td>\n",
       "      <td>81.265916</td>\n",
       "      <td>174.411704</td>\n",
       "    </tr>\n",
       "    <tr>\n",
       "      <th>1</th>\n",
       "      <td>48.617357</td>\n",
       "      <td>56.613355</td>\n",
       "      <td>73.427366</td>\n",
       "      <td>75.358526</td>\n",
       "      <td>100.713377</td>\n",
       "      <td>85.277414</td>\n",
       "      <td>73.624502</td>\n",
       "      <td>178.821424</td>\n",
       "      <td>169.354230</td>\n",
       "      <td>92.856334</td>\n",
       "    </tr>\n",
       "    <tr>\n",
       "      <th>2</th>\n",
       "      <td>56.476885</td>\n",
       "      <td>61.012923</td>\n",
       "      <td>67.687034</td>\n",
       "      <td>52.341626</td>\n",
       "      <td>134.336821</td>\n",
       "      <td>88.004992</td>\n",
       "      <td>166.111772</td>\n",
       "      <td>47.663254</td>\n",
       "      <td>187.929779</td>\n",
       "      <td>81.100913</td>\n",
       "    </tr>\n",
       "    <tr>\n",
       "      <th>3</th>\n",
       "      <td>65.230299</td>\n",
       "      <td>38.628777</td>\n",
       "      <td>63.977926</td>\n",
       "      <td>50.094834</td>\n",
       "      <td>74.451893</td>\n",
       "      <td>71.920296</td>\n",
       "      <td>53.925957</td>\n",
       "      <td>128.308524</td>\n",
       "      <td>88.965884</td>\n",
       "      <td>166.535983</td>\n",
       "    </tr>\n",
       "    <tr>\n",
       "      <th>4</th>\n",
       "      <td>47.658466</td>\n",
       "      <td>51.834259</td>\n",
       "      <td>40.429560</td>\n",
       "      <td>100.313146</td>\n",
       "      <td>65.745192</td>\n",
       "      <td>94.355000</td>\n",
       "      <td>133.474284</td>\n",
       "      <td>131.694726</td>\n",
       "      <td>178.168806</td>\n",
       "      <td>127.709547</td>\n",
       "    </tr>\n",
       "  </tbody>\n",
       "</table>\n",
       "</div>"
      ],
      "text/plain": [
       "        Col1       Col2       Col3        Col4        Col5       Col6  \\\n",
       "0  54.967142  81.984732  84.769332   68.020644   83.409843  50.462024   \n",
       "1  48.617357  56.613355  73.427366   75.358526  100.713377  85.277414   \n",
       "2  56.476885  61.012923  67.687034   52.341626  134.336821  88.004992   \n",
       "3  65.230299  38.628777  63.977926   50.094834   74.451893  71.920296   \n",
       "4  47.658466  51.834259  40.429560  100.313146   65.745192  94.355000   \n",
       "\n",
       "         Col7        Col8        Col9       Col10  \n",
       "0  141.641278  130.235697   81.265916  174.411704  \n",
       "1   73.624502  178.821424  169.354230   92.856334  \n",
       "2  166.111772   47.663254  187.929779   81.100913  \n",
       "3   53.925957  128.308524   88.965884  166.535983  \n",
       "4  133.474284  131.694726  178.168806  127.709547  "
      ]
     },
     "execution_count": 54,
     "metadata": {},
     "output_type": "execute_result"
    }
   ],
   "source": [
    "df_col10 = df[(df[\"Col10\"]<=274.41)&(df[\"Col10\"]>=-17.84)]\n",
    "df_col10.head()"
   ]
  },
  {
   "cell_type": "code",
   "execution_count": 55,
   "id": "de0808c6-3677-4d35-b2fd-cd1d54012252",
   "metadata": {},
   "outputs": [
    {
     "data": {
      "image/png": "[encoded data removed]",
      "text/plain": [
       "<Figure size 1000x500 with 2 Axes>"
      ]
     },
     "metadata": {},
     "output_type": "display_data"
    }
   ],
   "source": [
    "plt.figure(figsize=(10,5))\n",
    "plt.subplot(1,2,1)\n",
    "plt.boxplot(df[\"Col10\"])\n",
    "plt.title(\"before outlier removal\")\n",
    "\n",
    "# after outlier removal \n",
    "\n",
    "plt.subplot(1,2,2)\n",
    "plt.boxplot(df_col10[\"Col10\"])\n",
    "plt.title(\"after outlier removal\")\n",
    "\n",
    "plt.show()"
   ]
  },
  {
   "cell_type": "code",
   "execution_count": null,
   "id": "34970898-4122-49d3-8d7d-0382d555f648",
   "metadata": {},
   "outputs": [],
   "source": []
  }
 ],
 "metadata": {
  "kernelspec": {
   "display_name": "Python 3 (ipykernel)",
   "language": "python",
   "name": "python3"
  },
  "language_info": {
   "codemirror_mode": {
    "name": "ipython",
    "version": 3
   },
   "file_extension": ".py",
   "mimetype": "text/x-python",
   "name": "python",
   "nbconvert_exporter": "python",
   "pygments_lexer": "ipython3",
   "version": "3.10.8"
  }
 },
 "nbformat": 4,
 "nbformat_minor": 5
}
